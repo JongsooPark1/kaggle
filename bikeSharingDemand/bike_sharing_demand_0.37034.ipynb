{
 "cells": [
  {
   "cell_type": "markdown",
   "metadata": {},
   "source": [
    "# Bike Sharing Demand\n",
    "\n",
    "\n",
    "## columns\n",
    "\n",
    "\n",
    "  * **datetime** - 시간(연-월-일 시:분:초)\n",
    "  * **season** - 계절(봄(1), 여름(2), 가을(3), 겨울(4))\n",
    "  * **holiday** - 공휴일(1 공휴일)\n",
    "  * **workingday** - 근무일(1 근무일)\n",
    "  * **weather** - 날씨(낮을 수록 좋음)\n",
    "  * **temp** - 온도\n",
    "  * **atemp** - 체감 온도\n",
    "  * **humidity** - 습도\n",
    "  * **windspeed** - 풍속\n",
    "  * **casual** - 비회원(non-registered)의 자전거 대여량\n",
    "  * **registered** - 회원(registered)의 자전거 대여량\n",
    "  * **count** - 총 자전거 대여랑(비회원(casual) + 회원(registered))"
   ]
  },
  {
   "cell_type": "code",
   "execution_count": 67,
   "metadata": {},
   "outputs": [],
   "source": [
    "import pandas as pd\n",
    "\n",
    "# xgboost 사용하면서 kernel자꾸 죽는 경우 사용\n",
    "import os\n",
    "os.environ['KMP_DUPLICATE_LIB_OK']='True'\n",
    "import xgboost as xgb\n",
    "\n",
    "%matplotlib inline\n",
    "import seaborn as sns\n",
    "import matplotlib.pyplot as plt\n",
    "\n",
    "import numpy as np\n",
    "\n",
    "from sklearn.metrics import make_scorer\n",
    "from sklearn.model_selection import cross_val_score"
   ]
  },
  {
   "cell_type": "markdown",
   "metadata": {},
   "source": [
    "## Load Dataset"
   ]
  },
  {
   "cell_type": "code",
   "execution_count": 3,
   "metadata": {},
   "outputs": [
    {
     "name": "stdout",
     "output_type": "stream",
     "text": [
      "(10886, 12)\n"
     ]
    },
    {
     "data": {
      "text/html": [
       "<div>\n",
       "<style scoped>\n",
       "    .dataframe tbody tr th:only-of-type {\n",
       "        vertical-align: middle;\n",
       "    }\n",
       "\n",
       "    .dataframe tbody tr th {\n",
       "        vertical-align: top;\n",
       "    }\n",
       "\n",
       "    .dataframe thead th {\n",
       "        text-align: right;\n",
       "    }\n",
       "</style>\n",
       "<table border=\"1\" class=\"dataframe\">\n",
       "  <thead>\n",
       "    <tr style=\"text-align: right;\">\n",
       "      <th></th>\n",
       "      <th>datetime</th>\n",
       "      <th>season</th>\n",
       "      <th>holiday</th>\n",
       "      <th>workingday</th>\n",
       "      <th>weather</th>\n",
       "      <th>temp</th>\n",
       "      <th>atemp</th>\n",
       "      <th>humidity</th>\n",
       "      <th>windspeed</th>\n",
       "      <th>casual</th>\n",
       "      <th>registered</th>\n",
       "      <th>count</th>\n",
       "    </tr>\n",
       "  </thead>\n",
       "  <tbody>\n",
       "    <tr>\n",
       "      <th>0</th>\n",
       "      <td>2011-01-01 00:00:00</td>\n",
       "      <td>1</td>\n",
       "      <td>0</td>\n",
       "      <td>0</td>\n",
       "      <td>1</td>\n",
       "      <td>9.84</td>\n",
       "      <td>14.395</td>\n",
       "      <td>81</td>\n",
       "      <td>0.0</td>\n",
       "      <td>3</td>\n",
       "      <td>13</td>\n",
       "      <td>16</td>\n",
       "    </tr>\n",
       "    <tr>\n",
       "      <th>1</th>\n",
       "      <td>2011-01-01 01:00:00</td>\n",
       "      <td>1</td>\n",
       "      <td>0</td>\n",
       "      <td>0</td>\n",
       "      <td>1</td>\n",
       "      <td>9.02</td>\n",
       "      <td>13.635</td>\n",
       "      <td>80</td>\n",
       "      <td>0.0</td>\n",
       "      <td>8</td>\n",
       "      <td>32</td>\n",
       "      <td>40</td>\n",
       "    </tr>\n",
       "    <tr>\n",
       "      <th>2</th>\n",
       "      <td>2011-01-01 02:00:00</td>\n",
       "      <td>1</td>\n",
       "      <td>0</td>\n",
       "      <td>0</td>\n",
       "      <td>1</td>\n",
       "      <td>9.02</td>\n",
       "      <td>13.635</td>\n",
       "      <td>80</td>\n",
       "      <td>0.0</td>\n",
       "      <td>5</td>\n",
       "      <td>27</td>\n",
       "      <td>32</td>\n",
       "    </tr>\n",
       "    <tr>\n",
       "      <th>3</th>\n",
       "      <td>2011-01-01 03:00:00</td>\n",
       "      <td>1</td>\n",
       "      <td>0</td>\n",
       "      <td>0</td>\n",
       "      <td>1</td>\n",
       "      <td>9.84</td>\n",
       "      <td>14.395</td>\n",
       "      <td>75</td>\n",
       "      <td>0.0</td>\n",
       "      <td>3</td>\n",
       "      <td>10</td>\n",
       "      <td>13</td>\n",
       "    </tr>\n",
       "    <tr>\n",
       "      <th>4</th>\n",
       "      <td>2011-01-01 04:00:00</td>\n",
       "      <td>1</td>\n",
       "      <td>0</td>\n",
       "      <td>0</td>\n",
       "      <td>1</td>\n",
       "      <td>9.84</td>\n",
       "      <td>14.395</td>\n",
       "      <td>75</td>\n",
       "      <td>0.0</td>\n",
       "      <td>0</td>\n",
       "      <td>1</td>\n",
       "      <td>1</td>\n",
       "    </tr>\n",
       "  </tbody>\n",
       "</table>\n",
       "</div>"
      ],
      "text/plain": [
       "             datetime  season  holiday  workingday  weather  temp   atemp  \\\n",
       "0 2011-01-01 00:00:00       1        0           0        1  9.84  14.395   \n",
       "1 2011-01-01 01:00:00       1        0           0        1  9.02  13.635   \n",
       "2 2011-01-01 02:00:00       1        0           0        1  9.02  13.635   \n",
       "3 2011-01-01 03:00:00       1        0           0        1  9.84  14.395   \n",
       "4 2011-01-01 04:00:00       1        0           0        1  9.84  14.395   \n",
       "\n",
       "   humidity  windspeed  casual  registered  count  \n",
       "0        81        0.0       3          13     16  \n",
       "1        80        0.0       8          32     40  \n",
       "2        80        0.0       5          27     32  \n",
       "3        75        0.0       3          10     13  \n",
       "4        75        0.0       0           1      1  "
      ]
     },
     "execution_count": 3,
     "metadata": {},
     "output_type": "execute_result"
    }
   ],
   "source": [
    "train = pd.read_csv(\"../dataSet/train.csv\", parse_dates=[\"datetime\"])\n",
    "print(train.shape)\n",
    "train.head()"
   ]
  },
  {
   "cell_type": "code",
   "execution_count": 5,
   "metadata": {},
   "outputs": [
    {
     "name": "stdout",
     "output_type": "stream",
     "text": [
      "(6493, 9)\n"
     ]
    },
    {
     "data": {
      "text/html": [
       "<div>\n",
       "<style scoped>\n",
       "    .dataframe tbody tr th:only-of-type {\n",
       "        vertical-align: middle;\n",
       "    }\n",
       "\n",
       "    .dataframe tbody tr th {\n",
       "        vertical-align: top;\n",
       "    }\n",
       "\n",
       "    .dataframe thead th {\n",
       "        text-align: right;\n",
       "    }\n",
       "</style>\n",
       "<table border=\"1\" class=\"dataframe\">\n",
       "  <thead>\n",
       "    <tr style=\"text-align: right;\">\n",
       "      <th></th>\n",
       "      <th>datetime</th>\n",
       "      <th>season</th>\n",
       "      <th>holiday</th>\n",
       "      <th>workingday</th>\n",
       "      <th>weather</th>\n",
       "      <th>temp</th>\n",
       "      <th>atemp</th>\n",
       "      <th>humidity</th>\n",
       "      <th>windspeed</th>\n",
       "    </tr>\n",
       "  </thead>\n",
       "  <tbody>\n",
       "    <tr>\n",
       "      <th>0</th>\n",
       "      <td>2011-01-20 00:00:00</td>\n",
       "      <td>1</td>\n",
       "      <td>0</td>\n",
       "      <td>1</td>\n",
       "      <td>1</td>\n",
       "      <td>10.66</td>\n",
       "      <td>11.365</td>\n",
       "      <td>56</td>\n",
       "      <td>26.0027</td>\n",
       "    </tr>\n",
       "    <tr>\n",
       "      <th>1</th>\n",
       "      <td>2011-01-20 01:00:00</td>\n",
       "      <td>1</td>\n",
       "      <td>0</td>\n",
       "      <td>1</td>\n",
       "      <td>1</td>\n",
       "      <td>10.66</td>\n",
       "      <td>13.635</td>\n",
       "      <td>56</td>\n",
       "      <td>0.0000</td>\n",
       "    </tr>\n",
       "    <tr>\n",
       "      <th>2</th>\n",
       "      <td>2011-01-20 02:00:00</td>\n",
       "      <td>1</td>\n",
       "      <td>0</td>\n",
       "      <td>1</td>\n",
       "      <td>1</td>\n",
       "      <td>10.66</td>\n",
       "      <td>13.635</td>\n",
       "      <td>56</td>\n",
       "      <td>0.0000</td>\n",
       "    </tr>\n",
       "    <tr>\n",
       "      <th>3</th>\n",
       "      <td>2011-01-20 03:00:00</td>\n",
       "      <td>1</td>\n",
       "      <td>0</td>\n",
       "      <td>1</td>\n",
       "      <td>1</td>\n",
       "      <td>10.66</td>\n",
       "      <td>12.880</td>\n",
       "      <td>56</td>\n",
       "      <td>11.0014</td>\n",
       "    </tr>\n",
       "    <tr>\n",
       "      <th>4</th>\n",
       "      <td>2011-01-20 04:00:00</td>\n",
       "      <td>1</td>\n",
       "      <td>0</td>\n",
       "      <td>1</td>\n",
       "      <td>1</td>\n",
       "      <td>10.66</td>\n",
       "      <td>12.880</td>\n",
       "      <td>56</td>\n",
       "      <td>11.0014</td>\n",
       "    </tr>\n",
       "  </tbody>\n",
       "</table>\n",
       "</div>"
      ],
      "text/plain": [
       "             datetime  season  holiday  workingday  weather   temp   atemp  \\\n",
       "0 2011-01-20 00:00:00       1        0           1        1  10.66  11.365   \n",
       "1 2011-01-20 01:00:00       1        0           1        1  10.66  13.635   \n",
       "2 2011-01-20 02:00:00       1        0           1        1  10.66  13.635   \n",
       "3 2011-01-20 03:00:00       1        0           1        1  10.66  12.880   \n",
       "4 2011-01-20 04:00:00       1        0           1        1  10.66  12.880   \n",
       "\n",
       "   humidity  windspeed  \n",
       "0        56    26.0027  \n",
       "1        56     0.0000  \n",
       "2        56     0.0000  \n",
       "3        56    11.0014  \n",
       "4        56    11.0014  "
      ]
     },
     "execution_count": 5,
     "metadata": {},
     "output_type": "execute_result"
    }
   ],
   "source": [
    "test = pd.read_csv(\"../dataSet/test.csv\", parse_dates=[\"datetime\"])\n",
    "print(test.shape)\n",
    "test.head()"
   ]
  },
  {
   "cell_type": "markdown",
   "metadata": {},
   "source": [
    "## Preprocessing"
   ]
  },
  {
   "cell_type": "markdown",
   "metadata": {},
   "source": [
    "### Parse datetime"
   ]
  },
  {
   "cell_type": "code",
   "execution_count": 6,
   "metadata": {},
   "outputs": [
    {
     "name": "stdout",
     "output_type": "stream",
     "text": [
      "(10886, 19)\n"
     ]
    },
    {
     "data": {
      "text/html": [
       "<div>\n",
       "<style scoped>\n",
       "    .dataframe tbody tr th:only-of-type {\n",
       "        vertical-align: middle;\n",
       "    }\n",
       "\n",
       "    .dataframe tbody tr th {\n",
       "        vertical-align: top;\n",
       "    }\n",
       "\n",
       "    .dataframe thead th {\n",
       "        text-align: right;\n",
       "    }\n",
       "</style>\n",
       "<table border=\"1\" class=\"dataframe\">\n",
       "  <thead>\n",
       "    <tr style=\"text-align: right;\">\n",
       "      <th></th>\n",
       "      <th>datetime</th>\n",
       "      <th>datetime-year</th>\n",
       "      <th>datetime-month</th>\n",
       "      <th>datetime-day</th>\n",
       "      <th>datetime-hour</th>\n",
       "      <th>datetime-minute</th>\n",
       "      <th>datetime-second</th>\n",
       "      <th>datetime-dayofweek</th>\n",
       "    </tr>\n",
       "  </thead>\n",
       "  <tbody>\n",
       "    <tr>\n",
       "      <th>0</th>\n",
       "      <td>2011-01-01 00:00:00</td>\n",
       "      <td>2011</td>\n",
       "      <td>1</td>\n",
       "      <td>1</td>\n",
       "      <td>0</td>\n",
       "      <td>0</td>\n",
       "      <td>0</td>\n",
       "      <td>5</td>\n",
       "    </tr>\n",
       "    <tr>\n",
       "      <th>1</th>\n",
       "      <td>2011-01-01 01:00:00</td>\n",
       "      <td>2011</td>\n",
       "      <td>1</td>\n",
       "      <td>1</td>\n",
       "      <td>1</td>\n",
       "      <td>0</td>\n",
       "      <td>0</td>\n",
       "      <td>5</td>\n",
       "    </tr>\n",
       "    <tr>\n",
       "      <th>2</th>\n",
       "      <td>2011-01-01 02:00:00</td>\n",
       "      <td>2011</td>\n",
       "      <td>1</td>\n",
       "      <td>1</td>\n",
       "      <td>2</td>\n",
       "      <td>0</td>\n",
       "      <td>0</td>\n",
       "      <td>5</td>\n",
       "    </tr>\n",
       "    <tr>\n",
       "      <th>3</th>\n",
       "      <td>2011-01-01 03:00:00</td>\n",
       "      <td>2011</td>\n",
       "      <td>1</td>\n",
       "      <td>1</td>\n",
       "      <td>3</td>\n",
       "      <td>0</td>\n",
       "      <td>0</td>\n",
       "      <td>5</td>\n",
       "    </tr>\n",
       "    <tr>\n",
       "      <th>4</th>\n",
       "      <td>2011-01-01 04:00:00</td>\n",
       "      <td>2011</td>\n",
       "      <td>1</td>\n",
       "      <td>1</td>\n",
       "      <td>4</td>\n",
       "      <td>0</td>\n",
       "      <td>0</td>\n",
       "      <td>5</td>\n",
       "    </tr>\n",
       "  </tbody>\n",
       "</table>\n",
       "</div>"
      ],
      "text/plain": [
       "             datetime  datetime-year  datetime-month  datetime-day  \\\n",
       "0 2011-01-01 00:00:00           2011               1             1   \n",
       "1 2011-01-01 01:00:00           2011               1             1   \n",
       "2 2011-01-01 02:00:00           2011               1             1   \n",
       "3 2011-01-01 03:00:00           2011               1             1   \n",
       "4 2011-01-01 04:00:00           2011               1             1   \n",
       "\n",
       "   datetime-hour  datetime-minute  datetime-second  datetime-dayofweek  \n",
       "0              0                0                0                   5  \n",
       "1              1                0                0                   5  \n",
       "2              2                0                0                   5  \n",
       "3              3                0                0                   5  \n",
       "4              4                0                0                   5  "
      ]
     },
     "execution_count": 6,
     "metadata": {},
     "output_type": "execute_result"
    }
   ],
   "source": [
    "train[\"datetime-year\"] = train[\"datetime\"].dt.year\n",
    "train[\"datetime-month\"] = train[\"datetime\"].dt.month\n",
    "train[\"datetime-day\"] = train[\"datetime\"].dt.day\n",
    "train[\"datetime-hour\"] = train[\"datetime\"].dt.hour\n",
    "train[\"datetime-minute\"] = train[\"datetime\"].dt.minute\n",
    "train[\"datetime-second\"] = train[\"datetime\"].dt.second\n",
    "\n",
    "train[\"datetime-dayofweek\"] = train[\"datetime\"].dt.dayofweek\n",
    "\n",
    "print(train.shape)\n",
    "\n",
    "train[[\"datetime\", \"datetime-year\", \"datetime-month\", \"datetime-day\", \"datetime-hour\", \"datetime-minute\", \"datetime-second\", \"datetime-dayofweek\"]].head()"
   ]
  },
  {
   "cell_type": "code",
   "execution_count": 7,
   "metadata": {},
   "outputs": [
    {
     "name": "stdout",
     "output_type": "stream",
     "text": [
      "(10886, 20)\n"
     ]
    },
    {
     "data": {
      "text/html": [
       "<div>\n",
       "<style scoped>\n",
       "    .dataframe tbody tr th:only-of-type {\n",
       "        vertical-align: middle;\n",
       "    }\n",
       "\n",
       "    .dataframe tbody tr th {\n",
       "        vertical-align: top;\n",
       "    }\n",
       "\n",
       "    .dataframe thead th {\n",
       "        text-align: right;\n",
       "    }\n",
       "</style>\n",
       "<table border=\"1\" class=\"dataframe\">\n",
       "  <thead>\n",
       "    <tr style=\"text-align: right;\">\n",
       "      <th></th>\n",
       "      <th>datetime</th>\n",
       "      <th>datetime-dayofweek</th>\n",
       "      <th>datetime-dayofweek(humanized)</th>\n",
       "    </tr>\n",
       "  </thead>\n",
       "  <tbody>\n",
       "    <tr>\n",
       "      <th>0</th>\n",
       "      <td>2011-01-01 00:00:00</td>\n",
       "      <td>5</td>\n",
       "      <td>Saturday</td>\n",
       "    </tr>\n",
       "    <tr>\n",
       "      <th>1</th>\n",
       "      <td>2011-01-01 01:00:00</td>\n",
       "      <td>5</td>\n",
       "      <td>Saturday</td>\n",
       "    </tr>\n",
       "    <tr>\n",
       "      <th>2</th>\n",
       "      <td>2011-01-01 02:00:00</td>\n",
       "      <td>5</td>\n",
       "      <td>Saturday</td>\n",
       "    </tr>\n",
       "    <tr>\n",
       "      <th>3</th>\n",
       "      <td>2011-01-01 03:00:00</td>\n",
       "      <td>5</td>\n",
       "      <td>Saturday</td>\n",
       "    </tr>\n",
       "    <tr>\n",
       "      <th>4</th>\n",
       "      <td>2011-01-01 04:00:00</td>\n",
       "      <td>5</td>\n",
       "      <td>Saturday</td>\n",
       "    </tr>\n",
       "  </tbody>\n",
       "</table>\n",
       "</div>"
      ],
      "text/plain": [
       "             datetime  datetime-dayofweek datetime-dayofweek(humanized)\n",
       "0 2011-01-01 00:00:00                   5                      Saturday\n",
       "1 2011-01-01 01:00:00                   5                      Saturday\n",
       "2 2011-01-01 02:00:00                   5                      Saturday\n",
       "3 2011-01-01 03:00:00                   5                      Saturday\n",
       "4 2011-01-01 04:00:00                   5                      Saturday"
      ]
     },
     "execution_count": 7,
     "metadata": {},
     "output_type": "execute_result"
    }
   ],
   "source": [
    "train.loc[train[\"datetime-dayofweek\"] == 0, \"datetime-dayofweek(humanized)\"] = \"Monday\"\n",
    "train.loc[train[\"datetime-dayofweek\"] == 1, \"datetime-dayofweek(humanized)\"] = \"Tuesday\"\n",
    "train.loc[train[\"datetime-dayofweek\"] == 2, \"datetime-dayofweek(humanized)\"] = \"Wednesday\"\n",
    "train.loc[train[\"datetime-dayofweek\"] == 3, \"datetime-dayofweek(humanized)\"] = \"Thursday\"\n",
    "train.loc[train[\"datetime-dayofweek\"] == 4, \"datetime-dayofweek(humanized)\"] = \"Friday\"\n",
    "train.loc[train[\"datetime-dayofweek\"] == 5, \"datetime-dayofweek(humanized)\"] = \"Saturday\"\n",
    "train.loc[train[\"datetime-dayofweek\"] == 6, \"datetime-dayofweek(humanized)\"] = \"Sunday\"\n",
    "\n",
    "print(train.shape)\n",
    "\n",
    "train[[\"datetime\", \"datetime-dayofweek\", \"datetime-dayofweek(humanized)\"]].head()"
   ]
  },
  {
   "cell_type": "code",
   "execution_count": 8,
   "metadata": {},
   "outputs": [
    {
     "name": "stdout",
     "output_type": "stream",
     "text": [
      "(6493, 16)\n"
     ]
    },
    {
     "data": {
      "text/html": [
       "<div>\n",
       "<style scoped>\n",
       "    .dataframe tbody tr th:only-of-type {\n",
       "        vertical-align: middle;\n",
       "    }\n",
       "\n",
       "    .dataframe tbody tr th {\n",
       "        vertical-align: top;\n",
       "    }\n",
       "\n",
       "    .dataframe thead th {\n",
       "        text-align: right;\n",
       "    }\n",
       "</style>\n",
       "<table border=\"1\" class=\"dataframe\">\n",
       "  <thead>\n",
       "    <tr style=\"text-align: right;\">\n",
       "      <th></th>\n",
       "      <th>datetime</th>\n",
       "      <th>datetime-year</th>\n",
       "      <th>datetime-month</th>\n",
       "      <th>datetime-day</th>\n",
       "      <th>datetime-hour</th>\n",
       "      <th>datetime-minute</th>\n",
       "      <th>datetime-second</th>\n",
       "      <th>datetime-dayofweek</th>\n",
       "    </tr>\n",
       "  </thead>\n",
       "  <tbody>\n",
       "    <tr>\n",
       "      <th>0</th>\n",
       "      <td>2011-01-20 00:00:00</td>\n",
       "      <td>2011</td>\n",
       "      <td>1</td>\n",
       "      <td>20</td>\n",
       "      <td>0</td>\n",
       "      <td>0</td>\n",
       "      <td>0</td>\n",
       "      <td>3</td>\n",
       "    </tr>\n",
       "    <tr>\n",
       "      <th>1</th>\n",
       "      <td>2011-01-20 01:00:00</td>\n",
       "      <td>2011</td>\n",
       "      <td>1</td>\n",
       "      <td>20</td>\n",
       "      <td>1</td>\n",
       "      <td>0</td>\n",
       "      <td>0</td>\n",
       "      <td>3</td>\n",
       "    </tr>\n",
       "    <tr>\n",
       "      <th>2</th>\n",
       "      <td>2011-01-20 02:00:00</td>\n",
       "      <td>2011</td>\n",
       "      <td>1</td>\n",
       "      <td>20</td>\n",
       "      <td>2</td>\n",
       "      <td>0</td>\n",
       "      <td>0</td>\n",
       "      <td>3</td>\n",
       "    </tr>\n",
       "    <tr>\n",
       "      <th>3</th>\n",
       "      <td>2011-01-20 03:00:00</td>\n",
       "      <td>2011</td>\n",
       "      <td>1</td>\n",
       "      <td>20</td>\n",
       "      <td>3</td>\n",
       "      <td>0</td>\n",
       "      <td>0</td>\n",
       "      <td>3</td>\n",
       "    </tr>\n",
       "    <tr>\n",
       "      <th>4</th>\n",
       "      <td>2011-01-20 04:00:00</td>\n",
       "      <td>2011</td>\n",
       "      <td>1</td>\n",
       "      <td>20</td>\n",
       "      <td>4</td>\n",
       "      <td>0</td>\n",
       "      <td>0</td>\n",
       "      <td>3</td>\n",
       "    </tr>\n",
       "  </tbody>\n",
       "</table>\n",
       "</div>"
      ],
      "text/plain": [
       "             datetime  datetime-year  datetime-month  datetime-day  \\\n",
       "0 2011-01-20 00:00:00           2011               1            20   \n",
       "1 2011-01-20 01:00:00           2011               1            20   \n",
       "2 2011-01-20 02:00:00           2011               1            20   \n",
       "3 2011-01-20 03:00:00           2011               1            20   \n",
       "4 2011-01-20 04:00:00           2011               1            20   \n",
       "\n",
       "   datetime-hour  datetime-minute  datetime-second  datetime-dayofweek  \n",
       "0              0                0                0                   3  \n",
       "1              1                0                0                   3  \n",
       "2              2                0                0                   3  \n",
       "3              3                0                0                   3  \n",
       "4              4                0                0                   3  "
      ]
     },
     "execution_count": 8,
     "metadata": {},
     "output_type": "execute_result"
    }
   ],
   "source": [
    "test[\"datetime-year\"] = test[\"datetime\"].dt.year\n",
    "test[\"datetime-month\"] = test[\"datetime\"].dt.month\n",
    "test[\"datetime-day\"] = test[\"datetime\"].dt.day\n",
    "test[\"datetime-hour\"] = test[\"datetime\"].dt.hour\n",
    "test[\"datetime-minute\"] = test[\"datetime\"].dt.minute\n",
    "test[\"datetime-second\"] = test[\"datetime\"].dt.second\n",
    "\n",
    "test[\"datetime-dayofweek\"] = test[\"datetime\"].dt.dayofweek\n",
    "\n",
    "print(test.shape)\n",
    "\n",
    "test[[\"datetime\", \"datetime-year\", \"datetime-month\", \"datetime-day\", \"datetime-hour\", \"datetime-minute\", \"datetime-second\", \"datetime-dayofweek\"]].head()"
   ]
  },
  {
   "cell_type": "code",
   "execution_count": 9,
   "metadata": {},
   "outputs": [
    {
     "name": "stdout",
     "output_type": "stream",
     "text": [
      "(6493, 17)\n"
     ]
    },
    {
     "data": {
      "text/html": [
       "<div>\n",
       "<style scoped>\n",
       "    .dataframe tbody tr th:only-of-type {\n",
       "        vertical-align: middle;\n",
       "    }\n",
       "\n",
       "    .dataframe tbody tr th {\n",
       "        vertical-align: top;\n",
       "    }\n",
       "\n",
       "    .dataframe thead th {\n",
       "        text-align: right;\n",
       "    }\n",
       "</style>\n",
       "<table border=\"1\" class=\"dataframe\">\n",
       "  <thead>\n",
       "    <tr style=\"text-align: right;\">\n",
       "      <th></th>\n",
       "      <th>datetime</th>\n",
       "      <th>datetime-dayofweek</th>\n",
       "      <th>datetime-dayofweek(humanized)</th>\n",
       "    </tr>\n",
       "  </thead>\n",
       "  <tbody>\n",
       "    <tr>\n",
       "      <th>0</th>\n",
       "      <td>2011-01-20 00:00:00</td>\n",
       "      <td>3</td>\n",
       "      <td>Thursday</td>\n",
       "    </tr>\n",
       "    <tr>\n",
       "      <th>1</th>\n",
       "      <td>2011-01-20 01:00:00</td>\n",
       "      <td>3</td>\n",
       "      <td>Thursday</td>\n",
       "    </tr>\n",
       "    <tr>\n",
       "      <th>2</th>\n",
       "      <td>2011-01-20 02:00:00</td>\n",
       "      <td>3</td>\n",
       "      <td>Thursday</td>\n",
       "    </tr>\n",
       "    <tr>\n",
       "      <th>3</th>\n",
       "      <td>2011-01-20 03:00:00</td>\n",
       "      <td>3</td>\n",
       "      <td>Thursday</td>\n",
       "    </tr>\n",
       "    <tr>\n",
       "      <th>4</th>\n",
       "      <td>2011-01-20 04:00:00</td>\n",
       "      <td>3</td>\n",
       "      <td>Thursday</td>\n",
       "    </tr>\n",
       "  </tbody>\n",
       "</table>\n",
       "</div>"
      ],
      "text/plain": [
       "             datetime  datetime-dayofweek datetime-dayofweek(humanized)\n",
       "0 2011-01-20 00:00:00                   3                      Thursday\n",
       "1 2011-01-20 01:00:00                   3                      Thursday\n",
       "2 2011-01-20 02:00:00                   3                      Thursday\n",
       "3 2011-01-20 03:00:00                   3                      Thursday\n",
       "4 2011-01-20 04:00:00                   3                      Thursday"
      ]
     },
     "execution_count": 9,
     "metadata": {},
     "output_type": "execute_result"
    }
   ],
   "source": [
    "test.loc[test[\"datetime-dayofweek\"] == 0, \"datetime-dayofweek(humanized)\"] = \"Monday\"\n",
    "test.loc[test[\"datetime-dayofweek\"] == 1, \"datetime-dayofweek(humanized)\"] = \"Tuesday\"\n",
    "test.loc[test[\"datetime-dayofweek\"] == 2, \"datetime-dayofweek(humanized)\"] = \"Wednesday\"\n",
    "test.loc[test[\"datetime-dayofweek\"] == 3, \"datetime-dayofweek(humanized)\"] = \"Thursday\"\n",
    "test.loc[test[\"datetime-dayofweek\"] == 4, \"datetime-dayofweek(humanized)\"] = \"Friday\"\n",
    "test.loc[test[\"datetime-dayofweek\"] == 5, \"datetime-dayofweek(humanized)\"] = \"Saturday\"\n",
    "test.loc[test[\"datetime-dayofweek\"] == 6, \"datetime-dayofweek(humanized)\"] = \"Sunday\"\n",
    "\n",
    "print(test.shape)\n",
    "\n",
    "test[[\"datetime\", \"datetime-dayofweek\", \"datetime-dayofweek(humanized)\"]].head()"
   ]
  },
  {
   "cell_type": "markdown",
   "metadata": {},
   "source": [
    "### fillin_windspeed"
   ]
  },
  {
   "cell_type": "code",
   "execution_count": 51,
   "metadata": {},
   "outputs": [],
   "source": [
    "# train, test내 windspeed 0이 없을 때까지 반복. 0이 있는 값은 앞 뒤 값의 평균으로 대체\n",
    "train[\"prev-windspeed\"] = train[\"windspeed\"].shift(+1)\n",
    "train[\"next-windspeed\"] = train[\"windspeed\"].shift(-1)\n",
    "test[\"prev-windspeed\"] = test[\"windspeed\"].shift(+1)\n",
    "test[\"next-windspeed\"] = test[\"windspeed\"].shift(-1)\n",
    "\n",
    "train.loc[train[\"prev-windspeed\"].isnull(), \"prev-windspeed\"] = 0\n",
    "train.loc[train[\"next-windspeed\"].isnull(), \"next_windspeed\"] = 0\n",
    "test.loc[test[\"prev-windspeed\"].isnull(), \"prev-windspeed\"] = 0\n",
    "test.loc[test[\"next-windspeed\"].isnull(), \"next-windspeed\"] = 0\n",
    "\n",
    "train[\"av-windspeed\"] = (train[\"prev-windspeed\"] + train[\"next-windspeed\"]) /2\n",
    "test[\"av-windspeed\"] = (test[\"prev-windspeed\"] + test[\"next-windspeed\"]) / 2\n",
    "\n",
    "train.loc[train[\"windspeed\"] == 0, \"windspeed\"] = train[\"av-windspeed\"]\n",
    "test.loc[test[\"windspeed\"] == 0, \"windspeed\"] = test[\"av-windspeed\"]"
   ]
  },
  {
   "cell_type": "code",
   "execution_count": 52,
   "metadata": {},
   "outputs": [
    {
     "data": {
      "text/plain": [
       "(0, 33)"
      ]
     },
     "execution_count": 52,
     "metadata": {},
     "output_type": "execute_result"
    }
   ],
   "source": [
    "train.loc[train[\"windspeed\"] == 0].shape"
   ]
  },
  {
   "cell_type": "code",
   "execution_count": 48,
   "metadata": {},
   "outputs": [
    {
     "data": {
      "text/plain": [
       "(0, 20)"
      ]
     },
     "execution_count": 48,
     "metadata": {},
     "output_type": "execute_result"
    }
   ],
   "source": [
    "test.loc[test[\"windspeed\"] == 0].shape"
   ]
  },
  {
   "cell_type": "markdown",
   "metadata": {},
   "source": [
    "## Explore"
   ]
  },
  {
   "cell_type": "markdown",
   "metadata": {},
   "source": [
    "### datetime"
   ]
  },
  {
   "cell_type": "code",
   "execution_count": 10,
   "metadata": {},
   "outputs": [
    {
     "name": "stderr",
     "output_type": "stream",
     "text": [
      "/Users/PJS/anaconda3/lib/python3.6/site-packages/scipy/stats/stats.py:1713: FutureWarning: Using a non-tuple sequence for multidimensional indexing is deprecated; use `arr[tuple(seq)]` instead of `arr[seq]`. In the future this will be interpreted as an array index, `arr[np.array(seq)]`, which will result either in an error or a different result.\n",
      "  return np.add.reduce(sorted[indexer] * weights, axis=axis) / sumval\n"
     ]
    },
    {
     "data": {
      "text/plain": [
       "<matplotlib.axes._subplots.AxesSubplot at 0x1a234cc978>"
      ]
     },
     "execution_count": 10,
     "metadata": {},
     "output_type": "execute_result"
    },
    {
     "data": {
      "image/png": "[encoded data removed]",
      "text/plain": [
       "<Figure size 1296x576 with 6 Axes>"
      ]
     },
     "metadata": {},
     "output_type": "display_data"
    }
   ],
   "source": [
    "figure, ((ax1, ax2, ax3), (ax4, ax5, ax6)) = plt.subplots(nrows=2, ncols=3)\n",
    "\n",
    "figure.set_size_inches(18, 8)\n",
    "\n",
    "sns.barplot(data=train, x=\"datetime-year\", y=\"count\", ax=ax1)\n",
    "sns.barplot(data=train, x=\"datetime-month\", y=\"count\", ax=ax2)\n",
    "sns.barplot(data=train, x=\"datetime-day\", y=\"count\", ax=ax3)\n",
    "sns.barplot(data=train, x=\"datetime-hour\", y=\"count\", ax=ax4)\n",
    "sns.barplot(data=train, x=\"datetime-minute\", y=\"count\", ax=ax5)\n",
    "sns.barplot(data=train, x=\"datetime-second\", y=\"count\", ax=ax6)"
   ]
  },
  {
   "cell_type": "markdown",
   "metadata": {},
   "source": [
    "### datetime-year & datetime-month"
   ]
  },
  {
   "cell_type": "code",
   "execution_count": 11,
   "metadata": {},
   "outputs": [
    {
     "name": "stdout",
     "output_type": "stream",
     "text": [
      "(10886, 23)\n"
     ]
    },
    {
     "data": {
      "text/html": [
       "<div>\n",
       "<style scoped>\n",
       "    .dataframe tbody tr th:only-of-type {\n",
       "        vertical-align: middle;\n",
       "    }\n",
       "\n",
       "    .dataframe tbody tr th {\n",
       "        vertical-align: top;\n",
       "    }\n",
       "\n",
       "    .dataframe thead th {\n",
       "        text-align: right;\n",
       "    }\n",
       "</style>\n",
       "<table border=\"1\" class=\"dataframe\">\n",
       "  <thead>\n",
       "    <tr style=\"text-align: right;\">\n",
       "      <th></th>\n",
       "      <th>datetime</th>\n",
       "      <th>datetime-year_month</th>\n",
       "    </tr>\n",
       "  </thead>\n",
       "  <tbody>\n",
       "    <tr>\n",
       "      <th>0</th>\n",
       "      <td>2011-01-01 00:00:00</td>\n",
       "      <td>2011-1</td>\n",
       "    </tr>\n",
       "    <tr>\n",
       "      <th>1</th>\n",
       "      <td>2011-01-01 01:00:00</td>\n",
       "      <td>2011-1</td>\n",
       "    </tr>\n",
       "    <tr>\n",
       "      <th>2</th>\n",
       "      <td>2011-01-01 02:00:00</td>\n",
       "      <td>2011-1</td>\n",
       "    </tr>\n",
       "    <tr>\n",
       "      <th>3</th>\n",
       "      <td>2011-01-01 03:00:00</td>\n",
       "      <td>2011-1</td>\n",
       "    </tr>\n",
       "    <tr>\n",
       "      <th>4</th>\n",
       "      <td>2011-01-01 04:00:00</td>\n",
       "      <td>2011-1</td>\n",
       "    </tr>\n",
       "  </tbody>\n",
       "</table>\n",
       "</div>"
      ],
      "text/plain": [
       "             datetime datetime-year_month\n",
       "0 2011-01-01 00:00:00              2011-1\n",
       "1 2011-01-01 01:00:00              2011-1\n",
       "2 2011-01-01 02:00:00              2011-1\n",
       "3 2011-01-01 03:00:00              2011-1\n",
       "4 2011-01-01 04:00:00              2011-1"
      ]
     },
     "execution_count": 11,
     "metadata": {},
     "output_type": "execute_result"
    }
   ],
   "source": [
    "train[\"datetime-year(str)\"] = train[\"datetime-year\"].astype('str')\n",
    "train[\"datetime-month(str)\"] = train[\"datetime-month\"].astype('str')\n",
    "\n",
    "train[\"datetime-year_month\"] = train[\"datetime-year(str)\"] + \"-\" + train[\"datetime-month(str)\"]\n",
    "\n",
    "print(train.shape)\n",
    "\n",
    "train[[\"datetime\", \"datetime-year_month\"]].head()"
   ]
  },
  {
   "cell_type": "code",
   "execution_count": 12,
   "metadata": {},
   "outputs": [
    {
     "name": "stderr",
     "output_type": "stream",
     "text": [
      "/Users/PJS/anaconda3/lib/python3.6/site-packages/scipy/stats/stats.py:1713: FutureWarning: Using a non-tuple sequence for multidimensional indexing is deprecated; use `arr[tuple(seq)]` instead of `arr[seq]`. In the future this will be interpreted as an array index, `arr[np.array(seq)]`, which will result either in an error or a different result.\n",
      "  return np.add.reduce(sorted[indexer] * weights, axis=axis) / sumval\n"
     ]
    },
    {
     "data": {
      "text/plain": [
       "<matplotlib.axes._subplots.AxesSubplot at 0x1a23a13908>"
      ]
     },
     "execution_count": 12,
     "metadata": {},
     "output_type": "execute_result"
    },
    {
     "data": {
      "image/png": "[encoded data removed]",
      "text/plain": [
       "<Figure size 1296x288 with 2 Axes>"
      ]
     },
     "metadata": {},
     "output_type": "display_data"
    },
    {
     "data": {
      "image/png": "[encoded data removed]",
      "text/plain": [
       "<Figure size 1296x288 with 1 Axes>"
      ]
     },
     "metadata": {},
     "output_type": "display_data"
    }
   ],
   "source": [
    "figure, (ax1, ax2) = plt.subplots(nrows=1, ncols=2)\n",
    "\n",
    "figure.set_size_inches(18, 4)\n",
    "\n",
    "sns.barplot(data=train, x=\"datetime-year\", y=\"count\", ax=ax1)\n",
    "sns.barplot(data=train, x=\"datetime-month\", y=\"count\", ax=ax2)\n",
    "\n",
    "figure, ax3 = plt.subplots(nrows=1, ncols=1)\n",
    "\n",
    "figure.set_size_inches(18, 4)\n",
    "\n",
    "sns.barplot(data=train, x=\"datetime-year_month\", y=\"count\", ax=ax3)"
   ]
  },
  {
   "cell_type": "markdown",
   "metadata": {},
   "source": [
    "### datetime-hour"
   ]
  },
  {
   "cell_type": "code",
   "execution_count": 13,
   "metadata": {},
   "outputs": [
    {
     "name": "stderr",
     "output_type": "stream",
     "text": [
      "/Users/PJS/anaconda3/lib/python3.6/site-packages/scipy/stats/stats.py:1713: FutureWarning: Using a non-tuple sequence for multidimensional indexing is deprecated; use `arr[tuple(seq)]` instead of `arr[seq]`. In the future this will be interpreted as an array index, `arr[np.array(seq)]`, which will result either in an error or a different result.\n",
      "  return np.add.reduce(sorted[indexer] * weights, axis=axis) / sumval\n"
     ]
    },
    {
     "data": {
      "text/plain": [
       "<matplotlib.axes._subplots.AxesSubplot at 0x1a23fd6ac8>"
      ]
     },
     "execution_count": 13,
     "metadata": {},
     "output_type": "execute_result"
    },
    {
     "data": {
      "image/png": "[encoded data removed]",
      "text/plain": [
       "<Figure size 1296x864 with 3 Axes>"
      ]
     },
     "metadata": {},
     "output_type": "display_data"
    }
   ],
   "source": [
    "figure, (ax1, ax2, ax3) = plt.subplots(nrows=3, ncols=1)\n",
    "\n",
    "figure.set_size_inches(18, 12)\n",
    "\n",
    "sns.pointplot(data=train, x=\"datetime-hour\", y=\"count\", ax=ax1)\n",
    "\n",
    "sns.pointplot(data=train, x=\"datetime-hour\", y=\"count\", hue=\"workingday\", ax=ax2)\n",
    "\n",
    "sns.pointplot(data=train, x=\"datetime-hour\", y=\"count\", hue=\"datetime-dayofweek(humanized)\", ax=ax3)"
   ]
  },
  {
   "cell_type": "markdown",
   "metadata": {},
   "source": [
    "### count"
   ]
  },
  {
   "cell_type": "code",
   "execution_count": 14,
   "metadata": {},
   "outputs": [
    {
     "name": "stderr",
     "output_type": "stream",
     "text": [
      "/Users/PJS/anaconda3/lib/python3.6/site-packages/scipy/stats/stats.py:1713: FutureWarning: Using a non-tuple sequence for multidimensional indexing is deprecated; use `arr[tuple(seq)]` instead of `arr[seq]`. In the future this will be interpreted as an array index, `arr[np.array(seq)]`, which will result either in an error or a different result.\n",
      "  return np.add.reduce(sorted[indexer] * weights, axis=axis) / sumval\n"
     ]
    },
    {
     "data": {
      "text/plain": [
       "<matplotlib.axes._subplots.AxesSubplot at 0x1a243097b8>"
      ]
     },
     "execution_count": 14,
     "metadata": {},
     "output_type": "execute_result"
    },
    {
     "data": {
      "image/png": "[encoded data removed]",
      "text/plain": [
       "<Figure size 432x288 with 1 Axes>"
      ]
     },
     "metadata": {},
     "output_type": "display_data"
    }
   ],
   "source": [
    "sns.distplot(train[\"count\"])"
   ]
  },
  {
   "cell_type": "code",
   "execution_count": 15,
   "metadata": {},
   "outputs": [
    {
     "name": "stdout",
     "output_type": "stream",
     "text": [
      "(10886, 24)\n"
     ]
    },
    {
     "data": {
      "text/html": [
       "<div>\n",
       "<style scoped>\n",
       "    .dataframe tbody tr th:only-of-type {\n",
       "        vertical-align: middle;\n",
       "    }\n",
       "\n",
       "    .dataframe tbody tr th {\n",
       "        vertical-align: top;\n",
       "    }\n",
       "\n",
       "    .dataframe thead th {\n",
       "        text-align: right;\n",
       "    }\n",
       "</style>\n",
       "<table border=\"1\" class=\"dataframe\">\n",
       "  <thead>\n",
       "    <tr style=\"text-align: right;\">\n",
       "      <th></th>\n",
       "      <th>count</th>\n",
       "      <th>log_count</th>\n",
       "    </tr>\n",
       "  </thead>\n",
       "  <tbody>\n",
       "    <tr>\n",
       "      <th>0</th>\n",
       "      <td>16</td>\n",
       "      <td>2.833213</td>\n",
       "    </tr>\n",
       "    <tr>\n",
       "      <th>1</th>\n",
       "      <td>40</td>\n",
       "      <td>3.713572</td>\n",
       "    </tr>\n",
       "    <tr>\n",
       "      <th>2</th>\n",
       "      <td>32</td>\n",
       "      <td>3.496508</td>\n",
       "    </tr>\n",
       "    <tr>\n",
       "      <th>3</th>\n",
       "      <td>13</td>\n",
       "      <td>2.639057</td>\n",
       "    </tr>\n",
       "    <tr>\n",
       "      <th>4</th>\n",
       "      <td>1</td>\n",
       "      <td>0.693147</td>\n",
       "    </tr>\n",
       "  </tbody>\n",
       "</table>\n",
       "</div>"
      ],
      "text/plain": [
       "   count  log_count\n",
       "0     16   2.833213\n",
       "1     40   3.713572\n",
       "2     32   3.496508\n",
       "3     13   2.639057\n",
       "4      1   0.693147"
      ]
     },
     "execution_count": 15,
     "metadata": {},
     "output_type": "execute_result"
    }
   ],
   "source": [
    "train[\"log_count\"] = np.log(train[\"count\"] + 1)\n",
    "\n",
    "print(train.shape)\n",
    "\n",
    "train[[\"count\", \"log_count\"]].head()"
   ]
  },
  {
   "cell_type": "code",
   "execution_count": 16,
   "metadata": {},
   "outputs": [
    {
     "name": "stderr",
     "output_type": "stream",
     "text": [
      "/Users/PJS/anaconda3/lib/python3.6/site-packages/scipy/stats/stats.py:1713: FutureWarning: Using a non-tuple sequence for multidimensional indexing is deprecated; use `arr[tuple(seq)]` instead of `arr[seq]`. In the future this will be interpreted as an array index, `arr[np.array(seq)]`, which will result either in an error or a different result.\n",
      "  return np.add.reduce(sorted[indexer] * weights, axis=axis) / sumval\n"
     ]
    },
    {
     "data": {
      "text/plain": [
       "<matplotlib.axes._subplots.AxesSubplot at 0x1a239f1898>"
      ]
     },
     "execution_count": 16,
     "metadata": {},
     "output_type": "execute_result"
    },
    {
     "data": {
      "image/png": "[encoded data removed]",
      "text/plain": [
       "<Figure size 1296x288 with 2 Axes>"
      ]
     },
     "metadata": {},
     "output_type": "display_data"
    }
   ],
   "source": [
    "figure, (ax1, ax2) = plt.subplots(nrows=1, ncols=2)\n",
    "\n",
    "figure.set_size_inches(18, 4)\n",
    "\n",
    "sns.distplot(train[\"count\"], ax=ax1)\n",
    "\n",
    "sns.distplot(train[\"log_count\"], ax=ax2)"
   ]
  },
  {
   "cell_type": "code",
   "execution_count": 17,
   "metadata": {},
   "outputs": [
    {
     "name": "stdout",
     "output_type": "stream",
     "text": [
      "(10886, 25)\n"
     ]
    },
    {
     "data": {
      "text/html": [
       "<div>\n",
       "<style scoped>\n",
       "    .dataframe tbody tr th:only-of-type {\n",
       "        vertical-align: middle;\n",
       "    }\n",
       "\n",
       "    .dataframe tbody tr th {\n",
       "        vertical-align: top;\n",
       "    }\n",
       "\n",
       "    .dataframe thead th {\n",
       "        text-align: right;\n",
       "    }\n",
       "</style>\n",
       "<table border=\"1\" class=\"dataframe\">\n",
       "  <thead>\n",
       "    <tr style=\"text-align: right;\">\n",
       "      <th></th>\n",
       "      <th>count</th>\n",
       "      <th>log_count</th>\n",
       "      <th>count(recover)</th>\n",
       "    </tr>\n",
       "  </thead>\n",
       "  <tbody>\n",
       "    <tr>\n",
       "      <th>0</th>\n",
       "      <td>16</td>\n",
       "      <td>2.833213</td>\n",
       "      <td>16.0</td>\n",
       "    </tr>\n",
       "    <tr>\n",
       "      <th>1</th>\n",
       "      <td>40</td>\n",
       "      <td>3.713572</td>\n",
       "      <td>40.0</td>\n",
       "    </tr>\n",
       "    <tr>\n",
       "      <th>2</th>\n",
       "      <td>32</td>\n",
       "      <td>3.496508</td>\n",
       "      <td>32.0</td>\n",
       "    </tr>\n",
       "    <tr>\n",
       "      <th>3</th>\n",
       "      <td>13</td>\n",
       "      <td>2.639057</td>\n",
       "      <td>13.0</td>\n",
       "    </tr>\n",
       "    <tr>\n",
       "      <th>4</th>\n",
       "      <td>1</td>\n",
       "      <td>0.693147</td>\n",
       "      <td>1.0</td>\n",
       "    </tr>\n",
       "  </tbody>\n",
       "</table>\n",
       "</div>"
      ],
      "text/plain": [
       "   count  log_count  count(recover)\n",
       "0     16   2.833213            16.0\n",
       "1     40   3.713572            40.0\n",
       "2     32   3.496508            32.0\n",
       "3     13   2.639057            13.0\n",
       "4      1   0.693147             1.0"
      ]
     },
     "execution_count": 17,
     "metadata": {},
     "output_type": "execute_result"
    }
   ],
   "source": [
    "# log transformation한 자전거 대여량(log_count)을 다시 exp로 원상복귀 시킨다\n",
    "train[\"count(recover)\"] = np.exp(train[\"log_count\"]) - 1\n",
    "\n",
    "print(train.shape)\n",
    "\n",
    "train[[\"count\", \"log_count\", \"count(recover)\"]].head()"
   ]
  },
  {
   "cell_type": "code",
   "execution_count": 29,
   "metadata": {},
   "outputs": [
    {
     "name": "stderr",
     "output_type": "stream",
     "text": [
      "/Users/PJS/anaconda3/lib/python3.6/site-packages/scipy/stats/stats.py:1713: FutureWarning: Using a non-tuple sequence for multidimensional indexing is deprecated; use `arr[tuple(seq)]` instead of `arr[seq]`. In the future this will be interpreted as an array index, `arr[np.array(seq)]`, which will result either in an error or a different result.\n",
      "  return np.add.reduce(sorted[indexer] * weights, axis=axis) / sumval\n"
     ]
    },
    {
     "data": {
      "text/plain": [
       "<matplotlib.axes._subplots.AxesSubplot at 0x1a265c8780>"
      ]
     },
     "execution_count": 29,
     "metadata": {},
     "output_type": "execute_result"
    },
    {
     "data": {
      "image/png": "[encoded data removed]",
      "text/plain": [
       "<Figure size 1296x288 with 3 Axes>"
      ]
     },
     "metadata": {},
     "output_type": "display_data"
    }
   ],
   "source": [
    "figure, (ax1, ax2, ax3) = plt.subplots(nrows=1, ncols=3)\n",
    "\n",
    "figure.set_size_inches(18, 4)\n",
    "\n",
    "sns.distplot(train[\"count\"], ax=ax1)\n",
    "\n",
    "sns.distplot(train[\"log_count\"], ax=ax2)\n",
    "\n",
    "sns.distplot(train[\"count(recover)\"], ax=ax3)"
   ]
  },
  {
   "cell_type": "markdown",
   "metadata": {},
   "source": [
    "### count_registered"
   ]
  },
  {
   "cell_type": "code",
   "execution_count": 20,
   "metadata": {
    "collapsed": true
   },
   "outputs": [
    {
     "name": "stderr",
     "output_type": "stream",
     "text": [
      "/Users/PJS/anaconda3/lib/python3.6/site-packages/scipy/stats/stats.py:1713: FutureWarning: Using a non-tuple sequence for multidimensional indexing is deprecated; use `arr[tuple(seq)]` instead of `arr[seq]`. In the future this will be interpreted as an array index, `arr[np.array(seq)]`, which will result either in an error or a different result.\n",
      "  return np.add.reduce(sorted[indexer] * weights, axis=axis) / sumval\n"
     ]
    },
    {
     "data": {
      "text/plain": [
       "<matplotlib.axes._subplots.AxesSubplot at 0x10fbddf60>"
      ]
     },
     "execution_count": 20,
     "metadata": {},
     "output_type": "execute_result"
    },
    {
     "data": {
      "image/png": "[encoded data removed]",
      "text/plain": [
       "<Figure size 432x288 with 1 Axes>"
      ]
     },
     "metadata": {},
     "output_type": "display_data"
    }
   ],
   "source": [
    "sns.distplot(train[\"registered\"])"
   ]
  },
  {
   "cell_type": "code",
   "execution_count": 21,
   "metadata": {
    "collapsed": true
   },
   "outputs": [
    {
     "name": "stdout",
     "output_type": "stream",
     "text": [
      "(10886, 26)\n"
     ]
    },
    {
     "data": {
      "text/html": [
       "<div>\n",
       "<style scoped>\n",
       "    .dataframe tbody tr th:only-of-type {\n",
       "        vertical-align: middle;\n",
       "    }\n",
       "\n",
       "    .dataframe tbody tr th {\n",
       "        vertical-align: top;\n",
       "    }\n",
       "\n",
       "    .dataframe thead th {\n",
       "        text-align: right;\n",
       "    }\n",
       "</style>\n",
       "<table border=\"1\" class=\"dataframe\">\n",
       "  <thead>\n",
       "    <tr style=\"text-align: right;\">\n",
       "      <th></th>\n",
       "      <th>registered</th>\n",
       "      <th>log_registered</th>\n",
       "    </tr>\n",
       "  </thead>\n",
       "  <tbody>\n",
       "    <tr>\n",
       "      <th>0</th>\n",
       "      <td>13</td>\n",
       "      <td>2.639057</td>\n",
       "    </tr>\n",
       "    <tr>\n",
       "      <th>1</th>\n",
       "      <td>32</td>\n",
       "      <td>3.496508</td>\n",
       "    </tr>\n",
       "    <tr>\n",
       "      <th>2</th>\n",
       "      <td>27</td>\n",
       "      <td>3.332205</td>\n",
       "    </tr>\n",
       "    <tr>\n",
       "      <th>3</th>\n",
       "      <td>10</td>\n",
       "      <td>2.397895</td>\n",
       "    </tr>\n",
       "    <tr>\n",
       "      <th>4</th>\n",
       "      <td>1</td>\n",
       "      <td>0.693147</td>\n",
       "    </tr>\n",
       "  </tbody>\n",
       "</table>\n",
       "</div>"
      ],
      "text/plain": [
       "   registered  log_registered\n",
       "0          13        2.639057\n",
       "1          32        3.496508\n",
       "2          27        3.332205\n",
       "3          10        2.397895\n",
       "4           1        0.693147"
      ]
     },
     "execution_count": 21,
     "metadata": {},
     "output_type": "execute_result"
    }
   ],
   "source": [
    "train[\"log_registered\"] = np.log(train[\"registered\"] + 1)\n",
    "\n",
    "print(train.shape)\n",
    "\n",
    "train[[\"registered\", \"log_registered\"]].head()"
   ]
  },
  {
   "cell_type": "code",
   "execution_count": 22,
   "metadata": {
    "collapsed": true
   },
   "outputs": [
    {
     "name": "stderr",
     "output_type": "stream",
     "text": [
      "/Users/PJS/anaconda3/lib/python3.6/site-packages/scipy/stats/stats.py:1713: FutureWarning: Using a non-tuple sequence for multidimensional indexing is deprecated; use `arr[tuple(seq)]` instead of `arr[seq]`. In the future this will be interpreted as an array index, `arr[np.array(seq)]`, which will result either in an error or a different result.\n",
      "  return np.add.reduce(sorted[indexer] * weights, axis=axis) / sumval\n"
     ]
    },
    {
     "data": {
      "text/plain": [
       "<matplotlib.axes._subplots.AxesSubplot at 0x1a25bbc470>"
      ]
     },
     "execution_count": 22,
     "metadata": {},
     "output_type": "execute_result"
    },
    {
     "data": {
      "image/png": "[encoded data removed]",
      "text/plain": [
       "<Figure size 1296x288 with 2 Axes>"
      ]
     },
     "metadata": {},
     "output_type": "display_data"
    }
   ],
   "source": [
    "figure, (ax1, ax2) = plt.subplots(nrows=1, ncols=2)\n",
    "\n",
    "figure.set_size_inches(18, 4)\n",
    "\n",
    "sns.distplot(train[\"registered\"], ax=ax1)\n",
    "\n",
    "sns.distplot(train[\"log_registered\"], ax=ax2)"
   ]
  },
  {
   "cell_type": "code",
   "execution_count": 23,
   "metadata": {
    "collapsed": true
   },
   "outputs": [
    {
     "name": "stdout",
     "output_type": "stream",
     "text": [
      "(10886, 27)\n"
     ]
    },
    {
     "data": {
      "text/html": [
       "<div>\n",
       "<style scoped>\n",
       "    .dataframe tbody tr th:only-of-type {\n",
       "        vertical-align: middle;\n",
       "    }\n",
       "\n",
       "    .dataframe tbody tr th {\n",
       "        vertical-align: top;\n",
       "    }\n",
       "\n",
       "    .dataframe thead th {\n",
       "        text-align: right;\n",
       "    }\n",
       "</style>\n",
       "<table border=\"1\" class=\"dataframe\">\n",
       "  <thead>\n",
       "    <tr style=\"text-align: right;\">\n",
       "      <th></th>\n",
       "      <th>registered</th>\n",
       "      <th>log_registered</th>\n",
       "      <th>registered(recover)</th>\n",
       "    </tr>\n",
       "  </thead>\n",
       "  <tbody>\n",
       "    <tr>\n",
       "      <th>0</th>\n",
       "      <td>13</td>\n",
       "      <td>2.639057</td>\n",
       "      <td>13.0</td>\n",
       "    </tr>\n",
       "    <tr>\n",
       "      <th>1</th>\n",
       "      <td>32</td>\n",
       "      <td>3.496508</td>\n",
       "      <td>32.0</td>\n",
       "    </tr>\n",
       "    <tr>\n",
       "      <th>2</th>\n",
       "      <td>27</td>\n",
       "      <td>3.332205</td>\n",
       "      <td>27.0</td>\n",
       "    </tr>\n",
       "    <tr>\n",
       "      <th>3</th>\n",
       "      <td>10</td>\n",
       "      <td>2.397895</td>\n",
       "      <td>10.0</td>\n",
       "    </tr>\n",
       "    <tr>\n",
       "      <th>4</th>\n",
       "      <td>1</td>\n",
       "      <td>0.693147</td>\n",
       "      <td>1.0</td>\n",
       "    </tr>\n",
       "  </tbody>\n",
       "</table>\n",
       "</div>"
      ],
      "text/plain": [
       "   registered  log_registered  registered(recover)\n",
       "0          13        2.639057                 13.0\n",
       "1          32        3.496508                 32.0\n",
       "2          27        3.332205                 27.0\n",
       "3          10        2.397895                 10.0\n",
       "4           1        0.693147                  1.0"
      ]
     },
     "execution_count": 23,
     "metadata": {},
     "output_type": "execute_result"
    }
   ],
   "source": [
    "# log transformation한 자전거 대여량(log_count)을 다시 exp로 원상복귀 시킨다\n",
    "train[\"registered(recover)\"] = np.exp(train[\"log_registered\"]) - 1\n",
    "\n",
    "print(train.shape)\n",
    "\n",
    "train[[\"registered\", \"log_registered\", \"registered(recover)\"]].head()"
   ]
  },
  {
   "cell_type": "code",
   "execution_count": 30,
   "metadata": {},
   "outputs": [
    {
     "name": "stderr",
     "output_type": "stream",
     "text": [
      "/Users/PJS/anaconda3/lib/python3.6/site-packages/scipy/stats/stats.py:1713: FutureWarning: Using a non-tuple sequence for multidimensional indexing is deprecated; use `arr[tuple(seq)]` instead of `arr[seq]`. In the future this will be interpreted as an array index, `arr[np.array(seq)]`, which will result either in an error or a different result.\n",
      "  return np.add.reduce(sorted[indexer] * weights, axis=axis) / sumval\n"
     ]
    },
    {
     "data": {
      "text/plain": [
       "<matplotlib.axes._subplots.AxesSubplot at 0x1a267eceb8>"
      ]
     },
     "execution_count": 30,
     "metadata": {},
     "output_type": "execute_result"
    },
    {
     "data": {
      "image/png": "[encoded data removed]",
      "text/plain": [
       "<Figure size 1296x288 with 3 Axes>"
      ]
     },
     "metadata": {},
     "output_type": "display_data"
    }
   ],
   "source": [
    "figure, (ax1, ax2, ax3) = plt.subplots(nrows=1, ncols=3)\n",
    "\n",
    "figure.set_size_inches(18, 4)\n",
    "\n",
    "sns.distplot(train[\"registered\"], ax=ax1)\n",
    "\n",
    "sns.distplot(train[\"log_registered\"], ax=ax2)\n",
    "\n",
    "sns.distplot(train[\"registered(recover)\"], ax=ax3)"
   ]
  },
  {
   "cell_type": "markdown",
   "metadata": {},
   "source": [
    "### count_casual"
   ]
  },
  {
   "cell_type": "code",
   "execution_count": 24,
   "metadata": {
    "collapsed": true
   },
   "outputs": [
    {
     "name": "stderr",
     "output_type": "stream",
     "text": [
      "/Users/PJS/anaconda3/lib/python3.6/site-packages/scipy/stats/stats.py:1713: FutureWarning: Using a non-tuple sequence for multidimensional indexing is deprecated; use `arr[tuple(seq)]` instead of `arr[seq]`. In the future this will be interpreted as an array index, `arr[np.array(seq)]`, which will result either in an error or a different result.\n",
      "  return np.add.reduce(sorted[indexer] * weights, axis=axis) / sumval\n"
     ]
    },
    {
     "data": {
      "text/plain": [
       "<matplotlib.axes._subplots.AxesSubplot at 0x1a25ae1358>"
      ]
     },
     "execution_count": 24,
     "metadata": {},
     "output_type": "execute_result"
    },
    {
     "data": {
      "image/png": "[encoded data removed]",
      "text/plain": [
       "<Figure size 432x288 with 1 Axes>"
      ]
     },
     "metadata": {},
     "output_type": "display_data"
    }
   ],
   "source": [
    "sns.distplot(train[\"casual\"])"
   ]
  },
  {
   "cell_type": "code",
   "execution_count": 26,
   "metadata": {
    "collapsed": true
   },
   "outputs": [
    {
     "name": "stdout",
     "output_type": "stream",
     "text": [
      "(10886, 28)\n"
     ]
    },
    {
     "data": {
      "text/html": [
       "<div>\n",
       "<style scoped>\n",
       "    .dataframe tbody tr th:only-of-type {\n",
       "        vertical-align: middle;\n",
       "    }\n",
       "\n",
       "    .dataframe tbody tr th {\n",
       "        vertical-align: top;\n",
       "    }\n",
       "\n",
       "    .dataframe thead th {\n",
       "        text-align: right;\n",
       "    }\n",
       "</style>\n",
       "<table border=\"1\" class=\"dataframe\">\n",
       "  <thead>\n",
       "    <tr style=\"text-align: right;\">\n",
       "      <th></th>\n",
       "      <th>casual</th>\n",
       "      <th>log_casual</th>\n",
       "    </tr>\n",
       "  </thead>\n",
       "  <tbody>\n",
       "    <tr>\n",
       "      <th>0</th>\n",
       "      <td>3</td>\n",
       "      <td>1.386294</td>\n",
       "    </tr>\n",
       "    <tr>\n",
       "      <th>1</th>\n",
       "      <td>8</td>\n",
       "      <td>2.197225</td>\n",
       "    </tr>\n",
       "    <tr>\n",
       "      <th>2</th>\n",
       "      <td>5</td>\n",
       "      <td>1.791759</td>\n",
       "    </tr>\n",
       "    <tr>\n",
       "      <th>3</th>\n",
       "      <td>3</td>\n",
       "      <td>1.386294</td>\n",
       "    </tr>\n",
       "    <tr>\n",
       "      <th>4</th>\n",
       "      <td>0</td>\n",
       "      <td>0.000000</td>\n",
       "    </tr>\n",
       "  </tbody>\n",
       "</table>\n",
       "</div>"
      ],
      "text/plain": [
       "   casual  log_casual\n",
       "0       3    1.386294\n",
       "1       8    2.197225\n",
       "2       5    1.791759\n",
       "3       3    1.386294\n",
       "4       0    0.000000"
      ]
     },
     "execution_count": 26,
     "metadata": {},
     "output_type": "execute_result"
    }
   ],
   "source": [
    "train[\"log_casual\"] = np.log(train[\"casual\"] + 1)\n",
    "\n",
    "print(train.shape)\n",
    "\n",
    "train[[\"casual\", \"log_casual\"]].head()"
   ]
  },
  {
   "cell_type": "code",
   "execution_count": 27,
   "metadata": {
    "collapsed": true
   },
   "outputs": [
    {
     "name": "stderr",
     "output_type": "stream",
     "text": [
      "/Users/PJS/anaconda3/lib/python3.6/site-packages/scipy/stats/stats.py:1713: FutureWarning: Using a non-tuple sequence for multidimensional indexing is deprecated; use `arr[tuple(seq)]` instead of `arr[seq]`. In the future this will be interpreted as an array index, `arr[np.array(seq)]`, which will result either in an error or a different result.\n",
      "  return np.add.reduce(sorted[indexer] * weights, axis=axis) / sumval\n"
     ]
    },
    {
     "data": {
      "text/plain": [
       "<matplotlib.axes._subplots.AxesSubplot at 0x1a260d6cc0>"
      ]
     },
     "execution_count": 27,
     "metadata": {},
     "output_type": "execute_result"
    },
    {
     "data": {
      "image/png": "[encoded data removed]",
      "text/plain": [
       "<Figure size 1296x288 with 2 Axes>"
      ]
     },
     "metadata": {},
     "output_type": "display_data"
    }
   ],
   "source": [
    "figure, (ax1, ax2) = plt.subplots(nrows=1, ncols=2)\n",
    "\n",
    "figure.set_size_inches(18, 4)\n",
    "\n",
    "sns.distplot(train[\"casual\"], ax=ax1)\n",
    "\n",
    "sns.distplot(train[\"log_casual\"], ax=ax2)"
   ]
  },
  {
   "cell_type": "code",
   "execution_count": 28,
   "metadata": {
    "collapsed": true
   },
   "outputs": [
    {
     "name": "stdout",
     "output_type": "stream",
     "text": [
      "(10886, 29)\n"
     ]
    },
    {
     "data": {
      "text/html": [
       "<div>\n",
       "<style scoped>\n",
       "    .dataframe tbody tr th:only-of-type {\n",
       "        vertical-align: middle;\n",
       "    }\n",
       "\n",
       "    .dataframe tbody tr th {\n",
       "        vertical-align: top;\n",
       "    }\n",
       "\n",
       "    .dataframe thead th {\n",
       "        text-align: right;\n",
       "    }\n",
       "</style>\n",
       "<table border=\"1\" class=\"dataframe\">\n",
       "  <thead>\n",
       "    <tr style=\"text-align: right;\">\n",
       "      <th></th>\n",
       "      <th>casual</th>\n",
       "      <th>log_casual</th>\n",
       "      <th>casual(recover)</th>\n",
       "    </tr>\n",
       "  </thead>\n",
       "  <tbody>\n",
       "    <tr>\n",
       "      <th>0</th>\n",
       "      <td>3</td>\n",
       "      <td>1.386294</td>\n",
       "      <td>3.0</td>\n",
       "    </tr>\n",
       "    <tr>\n",
       "      <th>1</th>\n",
       "      <td>8</td>\n",
       "      <td>2.197225</td>\n",
       "      <td>8.0</td>\n",
       "    </tr>\n",
       "    <tr>\n",
       "      <th>2</th>\n",
       "      <td>5</td>\n",
       "      <td>1.791759</td>\n",
       "      <td>5.0</td>\n",
       "    </tr>\n",
       "    <tr>\n",
       "      <th>3</th>\n",
       "      <td>3</td>\n",
       "      <td>1.386294</td>\n",
       "      <td>3.0</td>\n",
       "    </tr>\n",
       "    <tr>\n",
       "      <th>4</th>\n",
       "      <td>0</td>\n",
       "      <td>0.000000</td>\n",
       "      <td>0.0</td>\n",
       "    </tr>\n",
       "  </tbody>\n",
       "</table>\n",
       "</div>"
      ],
      "text/plain": [
       "   casual  log_casual  casual(recover)\n",
       "0       3    1.386294              3.0\n",
       "1       8    2.197225              8.0\n",
       "2       5    1.791759              5.0\n",
       "3       3    1.386294              3.0\n",
       "4       0    0.000000              0.0"
      ]
     },
     "execution_count": 28,
     "metadata": {},
     "output_type": "execute_result"
    }
   ],
   "source": [
    "# log transformation한 자전거 대여량(log_count)을 다시 exp로 원상복귀 시킨다\n",
    "train[\"casual(recover)\"] = np.exp(train[\"log_casual\"]) - 1\n",
    "\n",
    "print(train.shape)\n",
    "\n",
    "train[[\"casual\", \"log_casual\", \"casual(recover)\"]].head()"
   ]
  },
  {
   "cell_type": "code",
   "execution_count": 31,
   "metadata": {},
   "outputs": [
    {
     "name": "stderr",
     "output_type": "stream",
     "text": [
      "/Users/PJS/anaconda3/lib/python3.6/site-packages/scipy/stats/stats.py:1713: FutureWarning: Using a non-tuple sequence for multidimensional indexing is deprecated; use `arr[tuple(seq)]` instead of `arr[seq]`. In the future this will be interpreted as an array index, `arr[np.array(seq)]`, which will result either in an error or a different result.\n",
      "  return np.add.reduce(sorted[indexer] * weights, axis=axis) / sumval\n"
     ]
    },
    {
     "data": {
      "text/plain": [
       "<matplotlib.axes._subplots.AxesSubplot at 0x1a26c7e048>"
      ]
     },
     "execution_count": 31,
     "metadata": {},
     "output_type": "execute_result"
    },
    {
     "data": {
      "image/png": "[encoded data removed]",
      "text/plain": [
       "<Figure size 1296x288 with 3 Axes>"
      ]
     },
     "metadata": {},
     "output_type": "display_data"
    }
   ],
   "source": [
    "figure, (ax1, ax2, ax3) = plt.subplots(nrows=1, ncols=3)\n",
    "\n",
    "figure.set_size_inches(18, 4)\n",
    "\n",
    "sns.distplot(train[\"casual\"], ax=ax1)\n",
    "\n",
    "sns.distplot(train[\"log_casual\"], ax=ax2)\n",
    "\n",
    "sns.distplot(train[\"casual(recover)\"], ax=ax3)"
   ]
  },
  {
   "cell_type": "markdown",
   "metadata": {},
   "source": [
    "## Train - log_registered"
   ]
  },
  {
   "cell_type": "code",
   "execution_count": 54,
   "metadata": {},
   "outputs": [
    {
     "data": {
      "text/plain": [
       "['season',\n",
       " 'holiday',\n",
       " 'workingday',\n",
       " 'weather',\n",
       " 'temp',\n",
       " 'atemp',\n",
       " 'humidity',\n",
       " 'windspeed',\n",
       " 'datetime-year',\n",
       " 'datetime-hour',\n",
       " 'datetime-dayofweek']"
      ]
     },
     "execution_count": 54,
     "metadata": {},
     "output_type": "execute_result"
    }
   ],
   "source": [
    "feature_names = [\"season\", \"holiday\", \"workingday\", \"weather\",\n",
    "                 \"temp\", \"atemp\", \"humidity\", \"windspeed\",\n",
    "                 \"datetime-year\", \"datetime-hour\", \"datetime-dayofweek\"]\n",
    "feature_names"
   ]
  },
  {
   "cell_type": "code",
   "execution_count": 55,
   "metadata": {},
   "outputs": [
    {
     "data": {
      "text/plain": [
       "'log_registered'"
      ]
     },
     "execution_count": 55,
     "metadata": {},
     "output_type": "execute_result"
    }
   ],
   "source": [
    "label_name = \"log_registered\"\n",
    "label_name"
   ]
  },
  {
   "cell_type": "code",
   "execution_count": 56,
   "metadata": {},
   "outputs": [
    {
     "name": "stdout",
     "output_type": "stream",
     "text": [
      "(10886, 11)\n"
     ]
    },
    {
     "data": {
      "text/html": [
       "<div>\n",
       "<style scoped>\n",
       "    .dataframe tbody tr th:only-of-type {\n",
       "        vertical-align: middle;\n",
       "    }\n",
       "\n",
       "    .dataframe tbody tr th {\n",
       "        vertical-align: top;\n",
       "    }\n",
       "\n",
       "    .dataframe thead th {\n",
       "        text-align: right;\n",
       "    }\n",
       "</style>\n",
       "<table border=\"1\" class=\"dataframe\">\n",
       "  <thead>\n",
       "    <tr style=\"text-align: right;\">\n",
       "      <th></th>\n",
       "      <th>season</th>\n",
       "      <th>holiday</th>\n",
       "      <th>workingday</th>\n",
       "      <th>weather</th>\n",
       "      <th>temp</th>\n",
       "      <th>atemp</th>\n",
       "      <th>humidity</th>\n",
       "      <th>windspeed</th>\n",
       "      <th>datetime-year</th>\n",
       "      <th>datetime-hour</th>\n",
       "      <th>datetime-dayofweek</th>\n",
       "    </tr>\n",
       "  </thead>\n",
       "  <tbody>\n",
       "    <tr>\n",
       "      <th>0</th>\n",
       "      <td>1</td>\n",
       "      <td>0</td>\n",
       "      <td>0</td>\n",
       "      <td>1</td>\n",
       "      <td>9.84</td>\n",
       "      <td>14.395</td>\n",
       "      <td>81</td>\n",
       "      <td>0.1876</td>\n",
       "      <td>2011</td>\n",
       "      <td>0</td>\n",
       "      <td>5</td>\n",
       "    </tr>\n",
       "    <tr>\n",
       "      <th>1</th>\n",
       "      <td>1</td>\n",
       "      <td>0</td>\n",
       "      <td>0</td>\n",
       "      <td>1</td>\n",
       "      <td>9.02</td>\n",
       "      <td>13.635</td>\n",
       "      <td>80</td>\n",
       "      <td>0.3752</td>\n",
       "      <td>2011</td>\n",
       "      <td>1</td>\n",
       "      <td>5</td>\n",
       "    </tr>\n",
       "    <tr>\n",
       "      <th>2</th>\n",
       "      <td>1</td>\n",
       "      <td>0</td>\n",
       "      <td>0</td>\n",
       "      <td>1</td>\n",
       "      <td>9.02</td>\n",
       "      <td>13.635</td>\n",
       "      <td>80</td>\n",
       "      <td>0.7504</td>\n",
       "      <td>2011</td>\n",
       "      <td>2</td>\n",
       "      <td>5</td>\n",
       "    </tr>\n",
       "    <tr>\n",
       "      <th>3</th>\n",
       "      <td>1</td>\n",
       "      <td>0</td>\n",
       "      <td>0</td>\n",
       "      <td>1</td>\n",
       "      <td>9.84</td>\n",
       "      <td>14.395</td>\n",
       "      <td>75</td>\n",
       "      <td>1.5008</td>\n",
       "      <td>2011</td>\n",
       "      <td>3</td>\n",
       "      <td>5</td>\n",
       "    </tr>\n",
       "    <tr>\n",
       "      <th>4</th>\n",
       "      <td>1</td>\n",
       "      <td>0</td>\n",
       "      <td>0</td>\n",
       "      <td>1</td>\n",
       "      <td>9.84</td>\n",
       "      <td>14.395</td>\n",
       "      <td>75</td>\n",
       "      <td>3.0016</td>\n",
       "      <td>2011</td>\n",
       "      <td>4</td>\n",
       "      <td>5</td>\n",
       "    </tr>\n",
       "  </tbody>\n",
       "</table>\n",
       "</div>"
      ],
      "text/plain": [
       "   season  holiday  workingday  weather  temp   atemp  humidity  windspeed  \\\n",
       "0       1        0           0        1  9.84  14.395        81     0.1876   \n",
       "1       1        0           0        1  9.02  13.635        80     0.3752   \n",
       "2       1        0           0        1  9.02  13.635        80     0.7504   \n",
       "3       1        0           0        1  9.84  14.395        75     1.5008   \n",
       "4       1        0           0        1  9.84  14.395        75     3.0016   \n",
       "\n",
       "   datetime-year  datetime-hour  datetime-dayofweek  \n",
       "0           2011              0                   5  \n",
       "1           2011              1                   5  \n",
       "2           2011              2                   5  \n",
       "3           2011              3                   5  \n",
       "4           2011              4                   5  "
      ]
     },
     "execution_count": 56,
     "metadata": {},
     "output_type": "execute_result"
    }
   ],
   "source": [
    "X_train = train[feature_names]\n",
    "\n",
    "print(X_train.shape)\n",
    "\n",
    "X_train.head()"
   ]
  },
  {
   "cell_type": "code",
   "execution_count": 57,
   "metadata": {},
   "outputs": [
    {
     "name": "stdout",
     "output_type": "stream",
     "text": [
      "(6493, 11)\n"
     ]
    },
    {
     "data": {
      "text/html": [
       "<div>\n",
       "<style scoped>\n",
       "    .dataframe tbody tr th:only-of-type {\n",
       "        vertical-align: middle;\n",
       "    }\n",
       "\n",
       "    .dataframe tbody tr th {\n",
       "        vertical-align: top;\n",
       "    }\n",
       "\n",
       "    .dataframe thead th {\n",
       "        text-align: right;\n",
       "    }\n",
       "</style>\n",
       "<table border=\"1\" class=\"dataframe\">\n",
       "  <thead>\n",
       "    <tr style=\"text-align: right;\">\n",
       "      <th></th>\n",
       "      <th>season</th>\n",
       "      <th>holiday</th>\n",
       "      <th>workingday</th>\n",
       "      <th>weather</th>\n",
       "      <th>temp</th>\n",
       "      <th>atemp</th>\n",
       "      <th>humidity</th>\n",
       "      <th>windspeed</th>\n",
       "      <th>datetime-year</th>\n",
       "      <th>datetime-hour</th>\n",
       "      <th>datetime-dayofweek</th>\n",
       "    </tr>\n",
       "  </thead>\n",
       "  <tbody>\n",
       "    <tr>\n",
       "      <th>0</th>\n",
       "      <td>1</td>\n",
       "      <td>0</td>\n",
       "      <td>1</td>\n",
       "      <td>1</td>\n",
       "      <td>10.66</td>\n",
       "      <td>11.365</td>\n",
       "      <td>56</td>\n",
       "      <td>26.00270</td>\n",
       "      <td>2011</td>\n",
       "      <td>0</td>\n",
       "      <td>3</td>\n",
       "    </tr>\n",
       "    <tr>\n",
       "      <th>1</th>\n",
       "      <td>1</td>\n",
       "      <td>0</td>\n",
       "      <td>1</td>\n",
       "      <td>1</td>\n",
       "      <td>10.66</td>\n",
       "      <td>13.635</td>\n",
       "      <td>56</td>\n",
       "      <td>13.00135</td>\n",
       "      <td>2011</td>\n",
       "      <td>1</td>\n",
       "      <td>3</td>\n",
       "    </tr>\n",
       "    <tr>\n",
       "      <th>2</th>\n",
       "      <td>1</td>\n",
       "      <td>0</td>\n",
       "      <td>1</td>\n",
       "      <td>1</td>\n",
       "      <td>10.66</td>\n",
       "      <td>13.635</td>\n",
       "      <td>56</td>\n",
       "      <td>5.50070</td>\n",
       "      <td>2011</td>\n",
       "      <td>2</td>\n",
       "      <td>3</td>\n",
       "    </tr>\n",
       "    <tr>\n",
       "      <th>3</th>\n",
       "      <td>1</td>\n",
       "      <td>0</td>\n",
       "      <td>1</td>\n",
       "      <td>1</td>\n",
       "      <td>10.66</td>\n",
       "      <td>12.880</td>\n",
       "      <td>56</td>\n",
       "      <td>11.00140</td>\n",
       "      <td>2011</td>\n",
       "      <td>3</td>\n",
       "      <td>3</td>\n",
       "    </tr>\n",
       "    <tr>\n",
       "      <th>4</th>\n",
       "      <td>1</td>\n",
       "      <td>0</td>\n",
       "      <td>1</td>\n",
       "      <td>1</td>\n",
       "      <td>10.66</td>\n",
       "      <td>12.880</td>\n",
       "      <td>56</td>\n",
       "      <td>11.00140</td>\n",
       "      <td>2011</td>\n",
       "      <td>4</td>\n",
       "      <td>3</td>\n",
       "    </tr>\n",
       "  </tbody>\n",
       "</table>\n",
       "</div>"
      ],
      "text/plain": [
       "   season  holiday  workingday  weather   temp   atemp  humidity  windspeed  \\\n",
       "0       1        0           1        1  10.66  11.365        56   26.00270   \n",
       "1       1        0           1        1  10.66  13.635        56   13.00135   \n",
       "2       1        0           1        1  10.66  13.635        56    5.50070   \n",
       "3       1        0           1        1  10.66  12.880        56   11.00140   \n",
       "4       1        0           1        1  10.66  12.880        56   11.00140   \n",
       "\n",
       "   datetime-year  datetime-hour  datetime-dayofweek  \n",
       "0           2011              0                   3  \n",
       "1           2011              1                   3  \n",
       "2           2011              2                   3  \n",
       "3           2011              3                   3  \n",
       "4           2011              4                   3  "
      ]
     },
     "execution_count": 57,
     "metadata": {},
     "output_type": "execute_result"
    }
   ],
   "source": [
    "X_test = test[feature_names]\n",
    "\n",
    "print(X_test.shape)\n",
    "\n",
    "X_test.head()"
   ]
  },
  {
   "cell_type": "code",
   "execution_count": 58,
   "metadata": {},
   "outputs": [
    {
     "name": "stdout",
     "output_type": "stream",
     "text": [
      "(10886,)\n"
     ]
    },
    {
     "data": {
      "text/plain": [
       "0    2.639057\n",
       "1    3.496508\n",
       "2    3.332205\n",
       "3    2.397895\n",
       "4    0.693147\n",
       "Name: log_registered, dtype: float64"
      ]
     },
     "execution_count": 58,
     "metadata": {},
     "output_type": "execute_result"
    }
   ],
   "source": [
    "y_train = train[label_name]\n",
    "\n",
    "print(y_train.shape)\n",
    "\n",
    "y_train.head()"
   ]
  },
  {
   "cell_type": "markdown",
   "metadata": {},
   "source": [
    "### Evaluate\n",
    "\n",
    "$$ \\sqrt{\\frac{1}{n} \\sum_{i=1}^n (\\log(p_i + 1) - \\log(a_i+1))^2 } $$\n",
    "\n",
    "$$ \\sqrt{\\frac{1}{n} \\sum_{i=1}^n (p_i - a_i)^2 } $$"
   ]
  },
  {
   "cell_type": "code",
   "execution_count": 60,
   "metadata": {},
   "outputs": [
    {
     "data": {
      "text/plain": [
       "make_scorer(rmse)"
      ]
     },
     "execution_count": 60,
     "metadata": {},
     "output_type": "execute_result"
    }
   ],
   "source": [
    "def rmse(predict, actual):\n",
    "    predict = np.array(predict)\n",
    "    actual = np.array(actual)\n",
    "\n",
    "    distance = predict - actual\n",
    "    \n",
    "    square_distance = distance ** 2\n",
    "    \n",
    "    mean_square_distance = square_distance.mean()\n",
    "    \n",
    "    score = np.sqrt(mean_square_distance)\n",
    "    \n",
    "    return score\n",
    "\n",
    "rmse_score = make_scorer(rmse)\n",
    "rmse_score"
   ]
  },
  {
   "cell_type": "markdown",
   "metadata": {},
   "source": [
    "## Hyperparameter Tuning"
   ]
  },
  {
   "cell_type": "code",
   "execution_count": 66,
   "metadata": {},
   "outputs": [
    {
     "data": {
      "text/plain": [
       "XGBRegressor(base_score=0.5, booster='gbtree', colsample_bylevel=1,\n",
       "       colsample_bytree=1, gamma=0, learning_rate=0.1, max_delta_step=0,\n",
       "       max_depth=3, min_child_weight=1, missing=None, n_estimators=100,\n",
       "       n_jobs=1, nthread=None, objective='reg:linear', random_state=0,\n",
       "       reg_alpha=0, reg_lambda=1, scale_pos_weight=1, seed=None,\n",
       "       silent=True, subsample=1)"
      ]
     },
     "execution_count": 66,
     "metadata": {},
     "output_type": "execute_result"
    }
   ],
   "source": [
    "xgb.XGBRegressor()"
   ]
  },
  {
   "cell_type": "markdown",
   "metadata": {},
   "source": [
    "### Coarse & Finer Search"
   ]
  },
  {
   "cell_type": "markdown",
   "metadata": {},
   "source": [
    "**Coarse Search**"
   ]
  },
  {
   "cell_type": "code",
   "execution_count": 26,
   "metadata": {},
   "outputs": [
    {
     "name": "stdout",
     "output_type": "stream",
     "text": [
      " 0 n_estimators = 699, max_depth = 24, learning_rate = 0.2322858010, subsample = 0.345621, colsample_bylevel = 0.768295, colsample_bytree = 0.477353, Score = 0.45069\n",
      " 1 n_estimators = 932, max_depth = 27, learning_rate = 0.0209459632, subsample = 0.289088, colsample_bylevel = 0.863977, colsample_bytree = 0.890338, Score = 0.32996\n",
      " 2 n_estimators = 138, max_depth = 68, learning_rate = 0.0000000047, subsample = 0.733244, colsample_bylevel = 0.943907, colsample_bytree = 0.656607, Score = 4.31058\n",
      " 3 n_estimators = 747, max_depth = 18, learning_rate = 0.0049878620, subsample = 0.715803, colsample_bylevel = 0.612042, colsample_bytree = 0.848196, Score = 0.37242\n",
      " 4 n_estimators = 149, max_depth = 49, learning_rate = 0.2041003999, subsample = 0.124723, colsample_bylevel = 0.886809, colsample_bytree = 0.988393, Score = 0.44243\n",
      " 5 n_estimators = 636, max_depth = 16, learning_rate = 0.0000000030, subsample = 0.504256, colsample_bylevel = 0.547654, colsample_bytree = 0.631089, Score = 4.31057\n",
      " 6 n_estimators = 181, max_depth = 13, learning_rate = 0.0791185412, subsample = 0.778489, colsample_bylevel = 0.897664, colsample_bytree = 0.930401, Score = 0.34003\n",
      " 7 n_estimators = 418, max_depth = 17, learning_rate = 0.1830706502, subsample = 0.310375, colsample_bylevel = 0.500772, colsample_bytree = 0.672945, Score = 0.39840\n",
      " 8 n_estimators = 503, max_depth = 21, learning_rate = 0.0000722441, subsample = 0.378579, colsample_bylevel = 0.739344, colsample_bytree = 0.938420, Score = 4.16130\n",
      " 9 n_estimators = 634, max_depth = 54, learning_rate = 0.0000013401, subsample = 0.403305, colsample_bylevel = 0.673181, colsample_bytree = 0.993229, Score = 4.30703\n",
      "10 n_estimators = 716, max_depth = 33, learning_rate = 0.0001939084, subsample = 0.781217, colsample_bylevel = 0.695672, colsample_bytree = 0.775315, Score = 3.77404\n",
      "11 n_estimators = 213, max_depth = 45, learning_rate = 0.0000000108, subsample = 0.572285, colsample_bylevel = 0.443255, colsample_bytree = 0.795412, Score = 4.31057\n",
      "12 n_estimators = 446, max_depth = 83, learning_rate = 0.0640465370, subsample = 0.150685, colsample_bylevel = 0.937346, colsample_bytree = 0.814871, Score = 0.35610\n",
      "13 n_estimators = 747, max_depth = 88, learning_rate = 0.0002217402, subsample = 0.726182, colsample_bylevel = 0.946189, colsample_bytree = 0.903247, Score = 3.67416\n",
      "14 n_estimators = 489, max_depth = 57, learning_rate = 0.0201989867, subsample = 0.475406, colsample_bylevel = 0.774680, colsample_bytree = 0.580041, Score = 0.36350\n",
      "15 n_estimators = 839, max_depth = 45, learning_rate = 0.5442394865, subsample = 0.995695, colsample_bylevel = 0.478000, colsample_bytree = 0.753065, Score = 0.42932\n",
      "16 n_estimators = 356, max_depth = 85, learning_rate = 0.0000000038, subsample = 0.373146, colsample_bylevel = 0.897079, colsample_bytree = 0.583530, Score = 4.31057\n",
      "17 n_estimators = 935, max_depth = 75, learning_rate = 0.9807720629, subsample = 0.893219, colsample_bylevel = 0.637073, colsample_bytree = 0.439554, Score = 0.74638\n",
      "18 n_estimators = 696, max_depth = 43, learning_rate = 0.0000000009, subsample = 0.653544, colsample_bylevel = 0.522975, colsample_bytree = 0.716282, Score = 4.31058\n",
      "19 n_estimators = 495, max_depth = 80, learning_rate = 0.0000030272, subsample = 0.973307, colsample_bylevel = 0.785242, colsample_bytree = 0.815694, Score = 4.30437\n",
      "20 n_estimators = 884, max_depth = 61, learning_rate = 0.0000023313, subsample = 0.399694, colsample_bylevel = 0.523210, colsample_bytree = 0.775448, Score = 4.30210\n",
      "21 n_estimators = 687, max_depth = 73, learning_rate = 0.0006810143, subsample = 0.829407, colsample_bylevel = 0.934895, colsample_bytree = 0.439556, Score = 2.81349\n",
      "22 n_estimators = 364, max_depth = 34, learning_rate = 0.0000103534, subsample = 0.172567, colsample_bylevel = 0.859149, colsample_bytree = 0.628469, Score = 4.29529\n",
      "23 n_estimators = 912, max_depth = 12, learning_rate = 0.0000019339, subsample = 0.621734, colsample_bylevel = 0.406301, colsample_bytree = 0.690087, Score = 4.30345\n",
      "24 n_estimators = 362, max_depth = 79, learning_rate = 0.0000005338, subsample = 0.354466, colsample_bylevel = 0.789681, colsample_bytree = 0.670166, Score = 4.30979\n",
      "25 n_estimators = 868, max_depth = 59, learning_rate = 0.0229278034, subsample = 0.404547, colsample_bylevel = 0.468473, colsample_bytree = 0.869623, Score = 0.33691\n",
      "26 n_estimators = 965, max_depth = 15, learning_rate = 0.0000004128, subsample = 0.939578, colsample_bylevel = 0.725404, colsample_bytree = 0.909890, Score = 4.30891\n",
      "27 n_estimators = 836, max_depth = 89, learning_rate = 0.0000037724, subsample = 0.726318, colsample_bylevel = 0.683683, colsample_bytree = 0.500918, Score = 4.29781\n",
      "28 n_estimators = 323, max_depth = 26, learning_rate = 0.0000000392, subsample = 0.978342, colsample_bylevel = 0.940089, colsample_bytree = 0.642947, Score = 4.31053\n",
      "29 n_estimators = 787, max_depth =  7, learning_rate = 0.0000995481, subsample = 0.381461, colsample_bylevel = 0.785578, colsample_bytree = 0.470377, Score = 4.00591\n",
      "30 n_estimators = 189, max_depth = 68, learning_rate = 0.0000167665, subsample = 0.877068, colsample_bylevel = 0.672164, colsample_bytree = 0.827566, Score = 4.29737\n",
      "31 n_estimators = 201, max_depth = 50, learning_rate = 0.0000001114, subsample = 0.433854, colsample_bylevel = 0.569141, colsample_bytree = 0.681251, Score = 4.31049\n",
      "32 n_estimators = 959, max_depth = 71, learning_rate = 0.0056328430, subsample = 0.714654, colsample_bylevel = 0.987466, colsample_bytree = 0.682794, Score = 0.36501\n",
      "33 n_estimators = 889, max_depth = 90, learning_rate = 0.0004388320, subsample = 0.382027, colsample_bylevel = 0.661549, colsample_bytree = 0.797469, Score = 2.97803\n",
      "34 n_estimators = 284, max_depth = 11, learning_rate = 0.0000000002, subsample = 0.602027, colsample_bylevel = 0.456392, colsample_bytree = 0.542921, Score = 4.31058\n",
      "35 n_estimators = 173, max_depth = 95, learning_rate = 0.0003143775, subsample = 0.368995, colsample_bylevel = 0.516508, colsample_bytree = 0.960402, Score = 4.09000\n",
      "36 n_estimators = 647, max_depth = 55, learning_rate = 0.0000000361, subsample = 0.828360, colsample_bylevel = 0.513000, colsample_bytree = 0.449799, Score = 4.31049\n",
      "37 n_estimators = 232, max_depth = 81, learning_rate = 0.0000003053, subsample = 0.595217, colsample_bylevel = 0.729356, colsample_bytree = 0.902786, Score = 4.31028\n",
      "38 n_estimators = 365, max_depth = 93, learning_rate = 0.0358787616, subsample = 0.898861, colsample_bylevel = 0.908478, colsample_bytree = 0.566676, Score = 0.38425\n",
      "39 n_estimators = 779, max_depth = 84, learning_rate = 0.0147565408, subsample = 0.306529, colsample_bylevel = 0.403381, colsample_bytree = 0.623426, Score = 0.35509\n",
      "40 n_estimators = 318, max_depth = 90, learning_rate = 0.0000000408, subsample = 0.241957, colsample_bylevel = 0.550880, colsample_bytree = 0.645874, Score = 4.31053\n",
      "41 n_estimators = 885, max_depth = 87, learning_rate = 0.0000048304, subsample = 0.150566, colsample_bylevel = 0.530487, colsample_bytree = 0.646527, Score = 4.29327\n",
      "42 n_estimators = 774, max_depth =  4, learning_rate = 0.3656108884, subsample = 0.999501, colsample_bylevel = 0.943843, colsample_bytree = 0.491711, Score = 0.34537\n",
      "43 n_estimators = 682, max_depth = 89, learning_rate = 0.0000037424, subsample = 0.590769, colsample_bylevel = 0.545058, colsample_bytree = 0.546107, Score = 4.30020\n",
      "44 n_estimators = 629, max_depth = 29, learning_rate = 0.0000204281, subsample = 0.930338, colsample_bylevel = 0.578545, colsample_bytree = 0.630497, Score = 4.25849\n",
      "45 n_estimators = 829, max_depth = 60, learning_rate = 0.0009029055, subsample = 0.608412, colsample_bylevel = 0.524489, colsample_bytree = 0.696356, Score = 2.15942\n",
      "46 n_estimators = 810, max_depth = 89, learning_rate = 0.0000000492, subsample = 0.272125, colsample_bylevel = 0.980866, colsample_bytree = 0.917275, Score = 4.31041\n",
      "47 n_estimators = 403, max_depth =  5, learning_rate = 0.0399934453, subsample = 0.651052, colsample_bylevel = 0.467062, colsample_bytree = 0.835914, Score = 0.32159\n",
      "48 n_estimators = 857, max_depth = 10, learning_rate = 0.0000002220, subsample = 0.868509, colsample_bylevel = 0.453792, colsample_bytree = 0.434522, Score = 4.30983\n",
      "49 n_estimators = 703, max_depth = 45, learning_rate = 0.0044924140, subsample = 0.721587, colsample_bylevel = 0.635406, colsample_bytree = 0.867280, Score = 0.42002\n"
     ]
    },
    {
     "name": "stdout",
     "output_type": "stream",
     "text": [
      "50 n_estimators = 426, max_depth = 27, learning_rate = 0.1464556134, subsample = 0.543915, colsample_bylevel = 0.473488, colsample_bytree = 0.733188, Score = 0.37602\n",
      "51 n_estimators = 699, max_depth =  7, learning_rate = 0.0262003173, subsample = 0.513865, colsample_bylevel = 0.631298, colsample_bytree = 0.971718, Score = 0.32117\n",
      "52 n_estimators = 400, max_depth = 76, learning_rate = 0.0000000044, subsample = 0.244632, colsample_bylevel = 0.507006, colsample_bytree = 0.634038, Score = 4.31057\n",
      "53 n_estimators = 192, max_depth = 89, learning_rate = 0.0000179771, subsample = 0.916516, colsample_bylevel = 0.892634, colsample_bytree = 0.900298, Score = 4.29620\n",
      "54 n_estimators = 814, max_depth =  3, learning_rate = 0.1425177568, subsample = 0.250722, colsample_bylevel = 0.681453, colsample_bytree = 0.840537, Score = 0.33576\n",
      "55 n_estimators = 501, max_depth = 21, learning_rate = 0.0000000450, subsample = 0.145558, colsample_bylevel = 0.755875, colsample_bytree = 0.601645, Score = 4.31049\n",
      "56 n_estimators = 331, max_depth = 93, learning_rate = 0.1181079429, subsample = 0.334909, colsample_bylevel = 0.854929, colsample_bytree = 0.558321, Score = 0.40052\n",
      "57 n_estimators = 123, max_depth = 29, learning_rate = 0.0002807910, subsample = 0.561204, colsample_bylevel = 0.599664, colsample_bytree = 0.627916, Score = 4.17255\n",
      "58 n_estimators = 582, max_depth = 55, learning_rate = 0.0000000001, subsample = 0.992588, colsample_bylevel = 0.960817, colsample_bytree = 0.538212, Score = 4.31058\n",
      "59 n_estimators = 377, max_depth = 55, learning_rate = 0.7438589701, subsample = 0.356307, colsample_bylevel = 0.685136, colsample_bytree = 0.598843, Score = 1.10299\n",
      "60 n_estimators = 918, max_depth =  9, learning_rate = 0.0006800793, subsample = 0.378812, colsample_bylevel = 0.869626, colsample_bytree = 0.854009, Score = 2.37986\n",
      "61 n_estimators = 490, max_depth = 29, learning_rate = 0.0000047022, subsample = 0.810455, colsample_bylevel = 0.510392, colsample_bytree = 0.761150, Score = 4.30107\n",
      "62 n_estimators = 710, max_depth = 19, learning_rate = 0.0027408782, subsample = 0.991736, colsample_bylevel = 0.564205, colsample_bytree = 0.718276, Score = 0.83501\n",
      "63 n_estimators = 761, max_depth = 85, learning_rate = 0.0192320397, subsample = 0.748591, colsample_bylevel = 0.691748, colsample_bytree = 0.589797, Score = 0.36735\n",
      "64 n_estimators = 728, max_depth = 60, learning_rate = 0.1412635723, subsample = 0.695288, colsample_bylevel = 0.710799, colsample_bytree = 0.593679, Score = 0.42517\n",
      "65 n_estimators = 316, max_depth = 27, learning_rate = 0.1471100928, subsample = 0.145800, colsample_bylevel = 0.648763, colsample_bytree = 0.605091, Score = 0.42332\n",
      "66 n_estimators = 587, max_depth = 67, learning_rate = 0.0000000074, subsample = 0.420016, colsample_bylevel = 0.650798, colsample_bytree = 0.498415, Score = 4.31056\n",
      "67 n_estimators = 945, max_depth = 19, learning_rate = 0.1531371146, subsample = 0.548602, colsample_bylevel = 0.731302, colsample_bytree = 0.496670, Score = 0.43069\n",
      "68 n_estimators = 461, max_depth = 58, learning_rate = 0.0000000199, subsample = 0.857297, colsample_bylevel = 0.849168, colsample_bytree = 0.674343, Score = 4.31054\n",
      "69 n_estimators = 506, max_depth = 57, learning_rate = 0.0000000130, subsample = 0.330269, colsample_bylevel = 0.442864, colsample_bytree = 0.888845, Score = 4.31055\n",
      "70 n_estimators = 519, max_depth = 15, learning_rate = 0.0000000345, subsample = 0.984410, colsample_bylevel = 0.412342, colsample_bytree = 0.678033, Score = 4.31051\n",
      "71 n_estimators = 562, max_depth = 88, learning_rate = 0.0002139609, subsample = 0.208272, colsample_bylevel = 0.731471, colsample_bytree = 0.878480, Score = 3.84127\n",
      "72 n_estimators = 134, max_depth = 30, learning_rate = 0.0003101267, subsample = 0.552828, colsample_bylevel = 0.732190, colsample_bytree = 0.838838, Score = 4.14081\n",
      "73 n_estimators = 633, max_depth = 58, learning_rate = 0.0000264021, subsample = 0.443676, colsample_bylevel = 0.990289, colsample_bytree = 0.972268, Score = 4.24121\n",
      "74 n_estimators = 473, max_depth = 63, learning_rate = 0.0000002064, subsample = 0.448687, colsample_bylevel = 0.608312, colsample_bytree = 0.462555, Score = 4.31018\n",
      "75 n_estimators = 380, max_depth = 84, learning_rate = 0.0000199118, subsample = 0.454644, colsample_bylevel = 0.499235, colsample_bytree = 0.507499, Score = 4.28029\n",
      "76 n_estimators = 132, max_depth = 75, learning_rate = 0.0043060072, subsample = 0.208642, colsample_bylevel = 0.651713, colsample_bytree = 0.876266, Score = 2.51666\n",
      "77 n_estimators = 429, max_depth =  6, learning_rate = 0.0069815001, subsample = 0.964905, colsample_bylevel = 0.952162, colsample_bytree = 0.947500, Score = 0.44311\n",
      "78 n_estimators = 347, max_depth = 47, learning_rate = 0.0093663548, subsample = 0.139800, colsample_bylevel = 0.932781, colsample_bytree = 0.838805, Score = 0.41824\n",
      "79 n_estimators = 766, max_depth = 93, learning_rate = 0.0000000118, subsample = 0.903499, colsample_bylevel = 0.840421, colsample_bytree = 0.792772, Score = 4.31054\n",
      "80 n_estimators = 742, max_depth = 71, learning_rate = 0.0888087065, subsample = 0.884192, colsample_bylevel = 0.527225, colsample_bytree = 0.982032, Score = 0.34298\n",
      "81 n_estimators = 338, max_depth = 82, learning_rate = 0.0000000320, subsample = 0.282353, colsample_bylevel = 0.992051, colsample_bytree = 0.792277, Score = 4.31053\n",
      "82 n_estimators = 433, max_depth = 73, learning_rate = 0.0000001165, subsample = 0.248062, colsample_bylevel = 0.754374, colsample_bytree = 0.428163, Score = 4.31038\n",
      "83 n_estimators = 743, max_depth = 50, learning_rate = 0.0302944539, subsample = 0.321904, colsample_bylevel = 0.551960, colsample_bytree = 0.774964, Score = 0.33755\n",
      "84 n_estimators = 976, max_depth = 74, learning_rate = 0.0000000002, subsample = 0.441274, colsample_bylevel = 0.543013, colsample_bytree = 0.557282, Score = 4.31058\n",
      "85 n_estimators = 816, max_depth = 24, learning_rate = 0.1196689432, subsample = 0.576076, colsample_bylevel = 0.960542, colsample_bytree = 0.880688, Score = 0.35638\n",
      "86 n_estimators = 358, max_depth = 29, learning_rate = 0.0000000147, subsample = 0.773707, colsample_bylevel = 0.554307, colsample_bytree = 0.758348, Score = 4.31056\n",
      "87 n_estimators = 139, max_depth = 33, learning_rate = 0.0000108395, subsample = 0.261408, colsample_bylevel = 0.865924, colsample_bytree = 0.579585, Score = 4.30444\n",
      "88 n_estimators = 813, max_depth = 19, learning_rate = 0.0000137022, subsample = 0.936285, colsample_bylevel = 0.743037, colsample_bytree = 0.481291, Score = 4.26563\n",
      "89 n_estimators = 359, max_depth = 34, learning_rate = 0.5547208781, subsample = 0.880080, colsample_bylevel = 0.827680, colsample_bytree = 0.937673, Score = 0.45891\n",
      "90 n_estimators = 479, max_depth = 99, learning_rate = 0.0000000174, subsample = 0.516692, colsample_bylevel = 0.729623, colsample_bytree = 0.909218, Score = 4.31054\n",
      "91 n_estimators = 548, max_depth =  9, learning_rate = 0.0000000037, subsample = 0.658963, colsample_bylevel = 0.899043, colsample_bytree = 0.989653, Score = 4.31057\n",
      "92 n_estimators = 100, max_depth = 81, learning_rate = 0.0038433268, subsample = 0.173474, colsample_bylevel = 0.762391, colsample_bytree = 0.952989, Score = 2.98189\n",
      "93 n_estimators = 870, max_depth = 20, learning_rate = 0.0000178511, subsample = 0.589696, colsample_bylevel = 0.615853, colsample_bytree = 0.515258, Score = 4.24814\n",
      "94 n_estimators = 319, max_depth =  6, learning_rate = 0.0000000352, subsample = 0.931856, colsample_bylevel = 0.640521, colsample_bytree = 0.729642, Score = 4.31053\n",
      "95 n_estimators = 371, max_depth = 65, learning_rate = 0.3309241398, subsample = 0.259872, colsample_bylevel = 0.928881, colsample_bytree = 0.499068, Score = 0.60782\n",
      "96 n_estimators = 189, max_depth = 15, learning_rate = 0.1458215699, subsample = 0.560602, colsample_bylevel = 0.998627, colsample_bytree = 0.884252, Score = 0.36210\n",
      "97 n_estimators = 236, max_depth = 84, learning_rate = 0.0000000095, subsample = 0.516492, colsample_bylevel = 0.429003, colsample_bytree = 0.505152, Score = 4.31057\n",
      "98 n_estimators = 965, max_depth = 21, learning_rate = 0.0000005806, subsample = 0.675574, colsample_bylevel = 0.414357, colsample_bytree = 0.790556, Score = 4.30827\n",
      "99 n_estimators = 810, max_depth = 84, learning_rate = 0.0000032186, subsample = 0.138561, colsample_bylevel = 0.617605, colsample_bytree = 0.724864, Score = 4.29998\n",
      "(100, 8)\n"
     ]
    },
    {
     "data": {
      "text/html": [
       "<div>\n",
       "<style>\n",
       "    .dataframe thead tr:only-child th {\n",
       "        text-align: right;\n",
       "    }\n",
       "\n",
       "    .dataframe thead th {\n",
       "        text-align: left;\n",
       "    }\n",
       "\n",
       "    .dataframe tbody tr th {\n",
       "        vertical-align: top;\n",
       "    }\n",
       "</style>\n",
       "<table border=\"1\" class=\"dataframe\">\n",
       "  <thead>\n",
       "    <tr style=\"text-align: right;\">\n",
       "      <th></th>\n",
       "      <th>colsample_bylevel</th>\n",
       "      <th>colsample_bytree</th>\n",
       "      <th>epoch</th>\n",
       "      <th>learning_rate</th>\n",
       "      <th>max_depth</th>\n",
       "      <th>n_estimators</th>\n",
       "      <th>score</th>\n",
       "      <th>subsample</th>\n",
       "    </tr>\n",
       "  </thead>\n",
       "  <tbody>\n",
       "    <tr>\n",
       "      <th>51</th>\n",
       "      <td>0.631298</td>\n",
       "      <td>0.971718</td>\n",
       "      <td>51</td>\n",
       "      <td>0.026200</td>\n",
       "      <td>7</td>\n",
       "      <td>699</td>\n",
       "      <td>0.321169</td>\n",
       "      <td>0.513865</td>\n",
       "    </tr>\n",
       "    <tr>\n",
       "      <th>47</th>\n",
       "      <td>0.467062</td>\n",
       "      <td>0.835914</td>\n",
       "      <td>47</td>\n",
       "      <td>0.039993</td>\n",
       "      <td>5</td>\n",
       "      <td>403</td>\n",
       "      <td>0.321592</td>\n",
       "      <td>0.651052</td>\n",
       "    </tr>\n",
       "    <tr>\n",
       "      <th>1</th>\n",
       "      <td>0.863977</td>\n",
       "      <td>0.890338</td>\n",
       "      <td>1</td>\n",
       "      <td>0.020946</td>\n",
       "      <td>27</td>\n",
       "      <td>932</td>\n",
       "      <td>0.329961</td>\n",
       "      <td>0.289088</td>\n",
       "    </tr>\n",
       "    <tr>\n",
       "      <th>54</th>\n",
       "      <td>0.681453</td>\n",
       "      <td>0.840537</td>\n",
       "      <td>54</td>\n",
       "      <td>0.142518</td>\n",
       "      <td>3</td>\n",
       "      <td>814</td>\n",
       "      <td>0.335763</td>\n",
       "      <td>0.250722</td>\n",
       "    </tr>\n",
       "    <tr>\n",
       "      <th>25</th>\n",
       "      <td>0.468473</td>\n",
       "      <td>0.869623</td>\n",
       "      <td>25</td>\n",
       "      <td>0.022928</td>\n",
       "      <td>59</td>\n",
       "      <td>868</td>\n",
       "      <td>0.336911</td>\n",
       "      <td>0.404547</td>\n",
       "    </tr>\n",
       "    <tr>\n",
       "      <th>83</th>\n",
       "      <td>0.551960</td>\n",
       "      <td>0.774964</td>\n",
       "      <td>83</td>\n",
       "      <td>0.030294</td>\n",
       "      <td>50</td>\n",
       "      <td>743</td>\n",
       "      <td>0.337546</td>\n",
       "      <td>0.321904</td>\n",
       "    </tr>\n",
       "    <tr>\n",
       "      <th>6</th>\n",
       "      <td>0.897664</td>\n",
       "      <td>0.930401</td>\n",
       "      <td>6</td>\n",
       "      <td>0.079119</td>\n",
       "      <td>13</td>\n",
       "      <td>181</td>\n",
       "      <td>0.340025</td>\n",
       "      <td>0.778489</td>\n",
       "    </tr>\n",
       "    <tr>\n",
       "      <th>80</th>\n",
       "      <td>0.527225</td>\n",
       "      <td>0.982032</td>\n",
       "      <td>80</td>\n",
       "      <td>0.088809</td>\n",
       "      <td>71</td>\n",
       "      <td>742</td>\n",
       "      <td>0.342985</td>\n",
       "      <td>0.884192</td>\n",
       "    </tr>\n",
       "    <tr>\n",
       "      <th>42</th>\n",
       "      <td>0.943843</td>\n",
       "      <td>0.491711</td>\n",
       "      <td>42</td>\n",
       "      <td>0.365611</td>\n",
       "      <td>4</td>\n",
       "      <td>774</td>\n",
       "      <td>0.345367</td>\n",
       "      <td>0.999501</td>\n",
       "    </tr>\n",
       "    <tr>\n",
       "      <th>39</th>\n",
       "      <td>0.403381</td>\n",
       "      <td>0.623426</td>\n",
       "      <td>39</td>\n",
       "      <td>0.014757</td>\n",
       "      <td>84</td>\n",
       "      <td>779</td>\n",
       "      <td>0.355085</td>\n",
       "      <td>0.306529</td>\n",
       "    </tr>\n",
       "  </tbody>\n",
       "</table>\n",
       "</div>"
      ],
      "text/plain": [
       "    colsample_bylevel  colsample_bytree  epoch  learning_rate  max_depth  \\\n",
       "51           0.631298          0.971718     51       0.026200          7   \n",
       "47           0.467062          0.835914     47       0.039993          5   \n",
       "1            0.863977          0.890338      1       0.020946         27   \n",
       "54           0.681453          0.840537     54       0.142518          3   \n",
       "25           0.468473          0.869623     25       0.022928         59   \n",
       "83           0.551960          0.774964     83       0.030294         50   \n",
       "6            0.897664          0.930401      6       0.079119         13   \n",
       "80           0.527225          0.982032     80       0.088809         71   \n",
       "42           0.943843          0.491711     42       0.365611          4   \n",
       "39           0.403381          0.623426     39       0.014757         84   \n",
       "\n",
       "    n_estimators     score  subsample  \n",
       "51           699  0.321169   0.513865  \n",
       "47           403  0.321592   0.651052  \n",
       "1            932  0.329961   0.289088  \n",
       "54           814  0.335763   0.250722  \n",
       "25           868  0.336911   0.404547  \n",
       "83           743  0.337546   0.321904  \n",
       "6            181  0.340025   0.778489  \n",
       "80           742  0.342985   0.884192  \n",
       "42           774  0.345367   0.999501  \n",
       "39           779  0.355085   0.306529  "
      ]
     },
     "execution_count": 26,
     "metadata": {},
     "output_type": "execute_result"
    }
   ],
   "source": [
    "from sklearn.model_selection import cross_val_score\n",
    "\n",
    "# 랜덤 서치를 반복할 횟수\n",
    "num_epoch = 100\n",
    "\n",
    "coarse_hyperparameters_list = []\n",
    "\n",
    "for epoch in range(num_epoch):\n",
    "    # 트리 갯수\n",
    "    n_estimators = np.random.randint(low=100, high=1000)\n",
    "    # 트리 깊이\n",
    "    max_depth = np.random.randint(low=2, high=100)\n",
    "    # 트리 비중\n",
    "    learning_rate = 10 ** -np.random.uniform(low=0, high=10)\n",
    "    # 하나의 트리를 만들 때 사용할 데이터의 비율\n",
    "    subsample = np.random.uniform(low=0.1, high=1.0)\n",
    "    # 하나의 트리를 만들 때 사용할 feature의 비율\n",
    "    colsample_bytree = np.random.uniform(low=0.4, high=1.0)\n",
    "    # 트리가 한 번 가지를 칠 때 사용할 feature의 비율\n",
    "    colsample_bylevel = np.random.uniform(low=0.4, high=1.0)\n",
    "\n",
    "    model = xgb.XGBRegressor(n_estimators=n_estimators,\n",
    "                             max_depth=max_depth,\n",
    "                             learning_rate=learning_rate,\n",
    "                             subsample=subsample,\n",
    "                             colsample_bylevel=colsample_bylevel,\n",
    "                             colsample_bytree=colsample_bytree,\n",
    "                             seed=37)\n",
    "\n",
    "    # cv. Cross Validation에서 데이터를 조각낼(split) 갯수\n",
    "    # scoring. rmse를 사용한 점수 측정 공식\n",
    "    # 이 함수의 실행 결과의 평균(mean)을 구한 뒤 score라는 이름의 새로운 변수에 할당\n",
    "    score = cross_val_score(model, X_train, y_train, cv=20, scoring=rmse_score).mean()\n",
    "    \n",
    "    hyperparameters = {\n",
    "        'epoch': epoch,\n",
    "        'score': score,\n",
    "        'n_estimators': n_estimators,\n",
    "        'max_depth': max_depth,\n",
    "        'learning_rate': learning_rate,\n",
    "        'subsample': subsample,\n",
    "        'colsample_bylevel': colsample_bylevel,\n",
    "        'colsample_bytree': colsample_bytree,\n",
    "    }\n",
    "\n",
    "    coarse_hyperparameters_list.append(hyperparameters)\n",
    "\n",
    "    print(f\"{epoch:2} n_estimators = {n_estimators}, max_depth = {max_depth:2}, learning_rate = {learning_rate:.10f}, subsample = {subsample:.6f}, colsample_bylevel = {colsample_bylevel:.6f}, colsample_bytree = {colsample_bytree:.6f}, Score = {score:.5f}\")\n",
    "\n",
    "\n",
    "# coarse_hyperparameters_list를 Pandas의 DataFrame으로 변환\n",
    "coarse_hyperparameters_list = pd.DataFrame.from_dict(coarse_hyperparameters_list)\n",
    "\n",
    "# 변환한 coarse_hyperparameters_list를 score가 낮은 순으로 정렬\n",
    "# (RMSE는 score가 낮을 수록 더 정확도가 높다)\n",
    "coarse_hyperparameters_list = coarse_hyperparameters_list.sort_values(by=\"score\")\n",
    "\n",
    "print(coarse_hyperparameters_list.shape)\n",
    "\n",
    "coarse_hyperparameters_list.head(10)"
   ]
  },
  {
   "cell_type": "markdown",
   "metadata": {},
   "source": [
    "**Finer Search**"
   ]
  },
  {
   "cell_type": "code",
   "execution_count": 38,
   "metadata": {},
   "outputs": [
    {
     "name": "stdout",
     "output_type": "stream",
     "text": [
      " 0 n_estimators = 826, max_depth = 26, learning_rate = 0.0140914189, subsample = 0.604440, colsample_bylevel = 0.803958, colsample_bytree = 0.958276, Score = 0.33072\n",
      " 1 n_estimators = 693, max_depth = 19, learning_rate = 0.0204163085, subsample = 0.281243, colsample_bylevel = 0.842756, colsample_bytree = 0.922510, Score = 0.32868\n",
      " 2 n_estimators = 578, max_depth = 21, learning_rate = 0.0367275403, subsample = 0.673859, colsample_bylevel = 0.694686, colsample_bytree = 0.775183, Score = 0.34194\n",
      " 3 n_estimators = 556, max_depth = 35, learning_rate = 0.0206988792, subsample = 0.311399, colsample_bylevel = 0.730884, colsample_bytree = 0.920663, Score = 0.32868\n",
      " 4 n_estimators = 786, max_depth = 11, learning_rate = 0.0352740882, subsample = 0.394929, colsample_bylevel = 0.497259, colsample_bytree = 0.946960, Score = 0.33906\n",
      " 5 n_estimators = 462, max_depth =  8, learning_rate = 0.0217484971, subsample = 0.601801, colsample_bylevel = 0.435530, colsample_bytree = 0.907742, Score = 0.32755\n",
      " 6 n_estimators = 315, max_depth = 57, learning_rate = 0.0194657250, subsample = 0.313923, colsample_bylevel = 0.845876, colsample_bytree = 0.966426, Score = 0.32730\n",
      " 7 n_estimators = 943, max_depth = 21, learning_rate = 0.0697425019, subsample = 0.388384, colsample_bylevel = 0.547449, colsample_bytree = 0.899230, Score = 0.34735\n",
      " 8 n_estimators = 791, max_depth = 35, learning_rate = 0.0125012079, subsample = 0.224484, colsample_bylevel = 0.677926, colsample_bytree = 0.709716, Score = 0.33583\n",
      " 9 n_estimators = 511, max_depth = 35, learning_rate = 0.0178360559, subsample = 0.387557, colsample_bylevel = 0.623901, colsample_bytree = 0.816696, Score = 0.33536\n",
      "10 n_estimators = 898, max_depth = 21, learning_rate = 0.0324601521, subsample = 0.264827, colsample_bylevel = 0.875968, colsample_bytree = 0.713651, Score = 0.34599\n",
      "11 n_estimators = 892, max_depth = 20, learning_rate = 0.0910118678, subsample = 0.343863, colsample_bylevel = 0.896878, colsample_bytree = 0.891140, Score = 0.34970\n",
      "12 n_estimators = 406, max_depth = 14, learning_rate = 0.0121356539, subsample = 0.526529, colsample_bylevel = 0.546882, colsample_bytree = 0.752584, Score = 0.34846\n",
      "13 n_estimators = 683, max_depth = 22, learning_rate = 0.6734879598, subsample = 0.278793, colsample_bylevel = 0.832358, colsample_bytree = 0.743327, Score = 0.82619\n",
      "14 n_estimators = 565, max_depth = 56, learning_rate = 0.4208953969, subsample = 0.501257, colsample_bylevel = 0.686633, colsample_bytree = 0.919102, Score = 0.43834\n",
      "15 n_estimators = 895, max_depth = 55, learning_rate = 0.0229405212, subsample = 0.245841, colsample_bylevel = 0.720467, colsample_bytree = 0.926856, Score = 0.33425\n",
      "16 n_estimators = 441, max_depth =  5, learning_rate = 0.1557808729, subsample = 0.201518, colsample_bylevel = 0.604204, colsample_bytree = 0.789971, Score = 0.35362\n",
      "17 n_estimators = 838, max_depth = 40, learning_rate = 0.3109060394, subsample = 0.405133, colsample_bylevel = 0.874428, colsample_bytree = 0.816343, Score = 0.39935\n",
      "18 n_estimators = 426, max_depth = 56, learning_rate = 0.0980670795, subsample = 0.535718, colsample_bylevel = 0.775129, colsample_bytree = 0.742462, Score = 0.35147\n",
      "19 n_estimators = 372, max_depth = 30, learning_rate = 0.1709669643, subsample = 0.592810, colsample_bylevel = 0.496650, colsample_bytree = 0.802357, Score = 0.36893\n",
      "20 n_estimators = 636, max_depth =  9, learning_rate = 0.9526417597, subsample = 0.398907, colsample_bylevel = 0.844800, colsample_bytree = 0.733590, Score = 1.43410\n",
      "21 n_estimators = 481, max_depth = 49, learning_rate = 0.5854043195, subsample = 0.497239, colsample_bylevel = 0.782827, colsample_bytree = 0.719362, Score = 0.56249\n",
      "22 n_estimators = 864, max_depth = 22, learning_rate = 0.2735823453, subsample = 0.335316, colsample_bylevel = 0.762807, colsample_bytree = 0.792830, Score = 0.40885\n",
      "23 n_estimators = 916, max_depth = 51, learning_rate = 0.0100133400, subsample = 0.459323, colsample_bylevel = 0.695348, colsample_bytree = 0.747032, Score = 0.33249\n",
      "24 n_estimators = 640, max_depth = 23, learning_rate = 0.0499691162, subsample = 0.685181, colsample_bylevel = 0.472997, colsample_bytree = 0.925317, Score = 0.33838\n",
      "25 n_estimators = 738, max_depth = 45, learning_rate = 0.0407032864, subsample = 0.296325, colsample_bylevel = 0.894751, colsample_bytree = 0.963906, Score = 0.33906\n",
      "26 n_estimators = 933, max_depth = 29, learning_rate = 0.1886915092, subsample = 0.477641, colsample_bylevel = 0.693674, colsample_bytree = 0.958425, Score = 0.36226\n",
      "27 n_estimators = 385, max_depth = 54, learning_rate = 0.0254351149, subsample = 0.266720, colsample_bylevel = 0.831264, colsample_bytree = 0.867055, Score = 0.32644\n",
      "28 n_estimators = 701, max_depth = 18, learning_rate = 0.0146441339, subsample = 0.284567, colsample_bylevel = 0.791547, colsample_bytree = 0.716776, Score = 0.33701\n",
      "29 n_estimators = 388, max_depth = 43, learning_rate = 0.0232468029, subsample = 0.526676, colsample_bylevel = 0.558939, colsample_bytree = 0.901665, Score = 0.33353\n",
      "30 n_estimators = 715, max_depth = 57, learning_rate = 0.2204953869, subsample = 0.455188, colsample_bylevel = 0.712494, colsample_bytree = 0.994391, Score = 0.37042\n",
      "31 n_estimators = 982, max_depth = 21, learning_rate = 0.0394635889, subsample = 0.567685, colsample_bylevel = 0.850578, colsample_bytree = 0.998446, Score = 0.33515\n",
      "32 n_estimators = 554, max_depth = 34, learning_rate = 0.0167896270, subsample = 0.425722, colsample_bylevel = 0.684372, colsample_bytree = 0.971310, Score = 0.32618\n",
      "33 n_estimators = 639, max_depth = 56, learning_rate = 0.0342627969, subsample = 0.537765, colsample_bylevel = 0.614150, colsample_bytree = 0.786516, Score = 0.34602\n",
      "34 n_estimators = 345, max_depth = 42, learning_rate = 0.0156133893, subsample = 0.688611, colsample_bylevel = 0.469881, colsample_bytree = 0.799938, Score = 0.36028\n",
      "35 n_estimators = 855, max_depth =  8, learning_rate = 0.0285197555, subsample = 0.402216, colsample_bylevel = 0.547196, colsample_bytree = 0.854189, Score = 0.32445\n",
      "36 n_estimators = 538, max_depth = 44, learning_rate = 0.1027719906, subsample = 0.343363, colsample_bylevel = 0.456526, colsample_bytree = 0.729607, Score = 0.36177\n",
      "37 n_estimators = 866, max_depth = 14, learning_rate = 0.4914480158, subsample = 0.452086, colsample_bylevel = 0.571139, colsample_bytree = 0.720022, Score = 0.51907\n",
      "38 n_estimators = 565, max_depth = 10, learning_rate = 0.0267918529, subsample = 0.510642, colsample_bylevel = 0.511964, colsample_bytree = 0.940773, Score = 0.32947\n",
      "39 n_estimators = 378, max_depth =  3, learning_rate = 0.1240507309, subsample = 0.219938, colsample_bylevel = 0.678010, colsample_bytree = 0.999816, Score = 0.33688\n",
      "40 n_estimators = 839, max_depth = 12, learning_rate = 0.0385669369, subsample = 0.266342, colsample_bylevel = 0.801249, colsample_bytree = 0.961586, Score = 0.33678\n",
      "41 n_estimators = 437, max_depth = 11, learning_rate = 0.0233644625, subsample = 0.321998, colsample_bylevel = 0.561755, colsample_bytree = 0.960961, Score = 0.32762\n",
      "42 n_estimators = 923, max_depth = 28, learning_rate = 0.0725801194, subsample = 0.334403, colsample_bylevel = 0.619528, colsample_bytree = 0.731837, Score = 0.35865\n",
      "43 n_estimators = 789, max_depth = 49, learning_rate = 0.9031698804, subsample = 0.335432, colsample_bylevel = 0.493866, colsample_bytree = 0.828910, Score = 1.23522\n",
      "44 n_estimators = 475, max_depth = 13, learning_rate = 0.3570459630, subsample = 0.580113, colsample_bylevel = 0.769912, colsample_bytree = 0.752050, Score = 0.42210\n",
      "45 n_estimators = 469, max_depth = 21, learning_rate = 0.0102538360, subsample = 0.316122, colsample_bylevel = 0.555959, colsample_bytree = 0.741816, Score = 0.35384\n",
      "46 n_estimators = 502, max_depth = 38, learning_rate = 0.0111374803, subsample = 0.358754, colsample_bylevel = 0.505624, colsample_bytree = 0.973068, Score = 0.32991\n",
      "47 n_estimators = 678, max_depth = 25, learning_rate = 0.0217827608, subsample = 0.523825, colsample_bylevel = 0.808594, colsample_bytree = 0.875922, Score = 0.33293\n",
      "48 n_estimators = 926, max_depth = 39, learning_rate = 0.0417623298, subsample = 0.538666, colsample_bylevel = 0.614637, colsample_bytree = 0.715228, Score = 0.34953\n",
      "49 n_estimators = 848, max_depth = 35, learning_rate = 0.0199923328, subsample = 0.649909, colsample_bylevel = 0.618475, colsample_bytree = 0.963445, Score = 0.33089\n"
     ]
    },
    {
     "name": "stdout",
     "output_type": "stream",
     "text": [
      "50 n_estimators = 660, max_depth = 53, learning_rate = 0.1744916417, subsample = 0.429841, colsample_bylevel = 0.894033, colsample_bytree = 0.908646, Score = 0.36765\n",
      "51 n_estimators = 323, max_depth = 53, learning_rate = 0.2742895948, subsample = 0.317018, colsample_bylevel = 0.618159, colsample_bytree = 0.861279, Score = 0.42262\n",
      "52 n_estimators = 575, max_depth =  3, learning_rate = 0.0504267387, subsample = 0.655626, colsample_bylevel = 0.572267, colsample_bytree = 0.911976, Score = 0.33836\n",
      "53 n_estimators = 646, max_depth =  6, learning_rate = 0.4478130499, subsample = 0.677061, colsample_bylevel = 0.863480, colsample_bytree = 0.964276, Score = 0.40714\n",
      "54 n_estimators = 805, max_depth =  2, learning_rate = 0.1437046472, subsample = 0.641922, colsample_bylevel = 0.468121, colsample_bytree = 0.877805, Score = 0.38581\n",
      "55 n_estimators = 864, max_depth = 38, learning_rate = 0.0257201746, subsample = 0.582692, colsample_bylevel = 0.791519, colsample_bytree = 0.905579, Score = 0.33344\n",
      "56 n_estimators = 497, max_depth =  3, learning_rate = 0.0308144687, subsample = 0.286670, colsample_bylevel = 0.416176, colsample_bytree = 0.941399, Score = 0.42473\n",
      "57 n_estimators = 359, max_depth = 38, learning_rate = 0.0148173959, subsample = 0.656984, colsample_bylevel = 0.856412, colsample_bytree = 0.706486, Score = 0.36368\n",
      "58 n_estimators = 653, max_depth = 23, learning_rate = 0.0689673741, subsample = 0.578014, colsample_bylevel = 0.440388, colsample_bytree = 0.709141, Score = 0.36057\n",
      "59 n_estimators = 936, max_depth = 28, learning_rate = 0.0139820517, subsample = 0.638780, colsample_bylevel = 0.727529, colsample_bytree = 0.852536, Score = 0.33051\n",
      "60 n_estimators = 961, max_depth = 42, learning_rate = 0.0494575173, subsample = 0.443794, colsample_bylevel = 0.435667, colsample_bytree = 0.842521, Score = 0.34863\n",
      "61 n_estimators = 941, max_depth = 37, learning_rate = 0.0795945844, subsample = 0.639516, colsample_bylevel = 0.814327, colsample_bytree = 0.714473, Score = 0.37009\n",
      "62 n_estimators = 316, max_depth = 25, learning_rate = 0.8171440833, subsample = 0.503361, colsample_bylevel = 0.870639, colsample_bytree = 0.811066, Score = 0.68252\n",
      "63 n_estimators = 608, max_depth = 20, learning_rate = 0.0122782175, subsample = 0.615252, colsample_bylevel = 0.513641, colsample_bytree = 0.788186, Score = 0.33737\n",
      "64 n_estimators = 326, max_depth =  8, learning_rate = 0.0466216280, subsample = 0.684720, colsample_bylevel = 0.679378, colsample_bytree = 0.901412, Score = 0.32392\n",
      "65 n_estimators = 732, max_depth = 34, learning_rate = 0.1545358630, subsample = 0.466161, colsample_bylevel = 0.600334, colsample_bytree = 0.730037, Score = 0.36813\n",
      "66 n_estimators = 484, max_depth =  2, learning_rate = 0.5748964666, subsample = 0.622408, colsample_bylevel = 0.518681, colsample_bytree = 0.773039, Score = 0.35794\n",
      "67 n_estimators = 612, max_depth = 32, learning_rate = 0.1991645342, subsample = 0.272800, colsample_bylevel = 0.874424, colsample_bytree = 0.922642, Score = 0.38911\n",
      "68 n_estimators = 373, max_depth = 26, learning_rate = 0.8023382663, subsample = 0.627920, colsample_bylevel = 0.430611, colsample_bytree = 0.800935, Score = 0.53953\n",
      "69 n_estimators = 338, max_depth = 45, learning_rate = 0.1151012629, subsample = 0.572554, colsample_bylevel = 0.749211, colsample_bytree = 0.804116, Score = 0.35725\n",
      "70 n_estimators = 375, max_depth = 10, learning_rate = 0.0912986042, subsample = 0.632452, colsample_bylevel = 0.457623, colsample_bytree = 0.995132, Score = 0.34907\n",
      "71 n_estimators = 654, max_depth = 17, learning_rate = 0.3985748388, subsample = 0.610973, colsample_bylevel = 0.404381, colsample_bytree = 0.996095, Score = 0.42605\n",
      "72 n_estimators = 876, max_depth = 52, learning_rate = 0.3130205122, subsample = 0.352322, colsample_bylevel = 0.614967, colsample_bytree = 0.947566, Score = 0.42314\n",
      "73 n_estimators = 840, max_depth = 11, learning_rate = 0.0827328462, subsample = 0.549684, colsample_bylevel = 0.652479, colsample_bytree = 0.931786, Score = 0.34405\n",
      "74 n_estimators = 863, max_depth = 11, learning_rate = 0.2574509349, subsample = 0.306930, colsample_bylevel = 0.620301, colsample_bytree = 0.804716, Score = 0.42218\n",
      "75 n_estimators = 876, max_depth = 44, learning_rate = 0.2955270232, subsample = 0.686000, colsample_bylevel = 0.527141, colsample_bytree = 0.725916, Score = 0.41859\n",
      "76 n_estimators = 494, max_depth = 48, learning_rate = 0.0183072819, subsample = 0.662914, colsample_bylevel = 0.446013, colsample_bytree = 0.717283, Score = 0.35233\n",
      "77 n_estimators = 985, max_depth =  3, learning_rate = 0.0718847944, subsample = 0.285630, colsample_bylevel = 0.790567, colsample_bytree = 0.925351, Score = 0.32769\n",
      "78 n_estimators = 618, max_depth = 21, learning_rate = 0.0132333903, subsample = 0.260413, colsample_bylevel = 0.831675, colsample_bytree = 0.813305, Score = 0.33106\n",
      "79 n_estimators = 578, max_depth =  2, learning_rate = 0.5614038526, subsample = 0.470569, colsample_bylevel = 0.406692, colsample_bytree = 0.960557, Score = 0.36013\n",
      "80 n_estimators = 453, max_depth = 39, learning_rate = 0.2792367957, subsample = 0.428404, colsample_bylevel = 0.791115, colsample_bytree = 0.846710, Score = 0.39964\n",
      "81 n_estimators = 341, max_depth =  5, learning_rate = 0.0286532695, subsample = 0.575951, colsample_bylevel = 0.524058, colsample_bytree = 0.748711, Score = 0.33779\n",
      "82 n_estimators = 704, max_depth = 38, learning_rate = 0.0212829787, subsample = 0.262961, colsample_bylevel = 0.856746, colsample_bytree = 0.988876, Score = 0.33093\n",
      "83 n_estimators = 457, max_depth = 38, learning_rate = 0.0356493505, subsample = 0.406002, colsample_bylevel = 0.482871, colsample_bytree = 0.903674, Score = 0.33723\n",
      "84 n_estimators = 525, max_depth = 33, learning_rate = 0.2113503066, subsample = 0.651353, colsample_bylevel = 0.720116, colsample_bytree = 0.765657, Score = 0.37206\n",
      "85 n_estimators = 884, max_depth = 38, learning_rate = 0.0806559339, subsample = 0.578291, colsample_bylevel = 0.514824, colsample_bytree = 0.898813, Score = 0.34954\n",
      "86 n_estimators = 542, max_depth = 48, learning_rate = 0.0897100196, subsample = 0.672743, colsample_bylevel = 0.768915, colsample_bytree = 0.761242, Score = 0.35483\n",
      "87 n_estimators = 657, max_depth = 44, learning_rate = 0.0216305583, subsample = 0.600683, colsample_bylevel = 0.493772, colsample_bytree = 0.998632, Score = 0.33300\n",
      "88 n_estimators = 550, max_depth = 11, learning_rate = 0.0118268256, subsample = 0.414797, colsample_bylevel = 0.468924, colsample_bytree = 0.920813, Score = 0.32904\n",
      "89 n_estimators = 860, max_depth = 55, learning_rate = 0.0146506694, subsample = 0.533267, colsample_bylevel = 0.703759, colsample_bytree = 0.924415, Score = 0.32928\n",
      "90 n_estimators = 876, max_depth = 30, learning_rate = 0.1434107525, subsample = 0.518028, colsample_bylevel = 0.426024, colsample_bytree = 0.959858, Score = 0.35903\n",
      "91 n_estimators = 403, max_depth = 51, learning_rate = 0.2341096236, subsample = 0.348113, colsample_bylevel = 0.444010, colsample_bytree = 0.947844, Score = 0.39720\n",
      "92 n_estimators = 859, max_depth = 10, learning_rate = 0.0111051573, subsample = 0.362207, colsample_bylevel = 0.870122, colsample_bytree = 0.980396, Score = 0.32133\n",
      "93 n_estimators = 815, max_depth = 51, learning_rate = 0.0161951484, subsample = 0.214376, colsample_bylevel = 0.407823, colsample_bytree = 0.740139, Score = 0.33541\n",
      "94 n_estimators = 560, max_depth = 41, learning_rate = 0.1017657375, subsample = 0.579904, colsample_bylevel = 0.827769, colsample_bytree = 0.747174, Score = 0.35405\n",
      "95 n_estimators = 597, max_depth = 14, learning_rate = 0.0184553028, subsample = 0.597537, colsample_bylevel = 0.747206, colsample_bytree = 0.975083, Score = 0.32881\n",
      "96 n_estimators = 349, max_depth = 28, learning_rate = 0.0265883410, subsample = 0.392322, colsample_bylevel = 0.667323, colsample_bytree = 0.948886, Score = 0.32822\n",
      "97 n_estimators = 909, max_depth = 47, learning_rate = 0.0362947251, subsample = 0.337482, colsample_bylevel = 0.654701, colsample_bytree = 0.864936, Score = 0.33585\n",
      "98 n_estimators = 378, max_depth =  2, learning_rate = 0.0272153858, subsample = 0.257277, colsample_bylevel = 0.802665, colsample_bytree = 0.703375, Score = 0.54857\n",
      "99 n_estimators = 369, max_depth = 22, learning_rate = 0.0345952079, subsample = 0.478914, colsample_bylevel = 0.768151, colsample_bytree = 0.711363, Score = 0.34617\n",
      "(100, 8)\n"
     ]
    },
    {
     "data": {
      "text/html": [
       "<div>\n",
       "<style>\n",
       "    .dataframe thead tr:only-child th {\n",
       "        text-align: right;\n",
       "    }\n",
       "\n",
       "    .dataframe thead th {\n",
       "        text-align: left;\n",
       "    }\n",
       "\n",
       "    .dataframe tbody tr th {\n",
       "        vertical-align: top;\n",
       "    }\n",
       "</style>\n",
       "<table border=\"1\" class=\"dataframe\">\n",
       "  <thead>\n",
       "    <tr style=\"text-align: right;\">\n",
       "      <th></th>\n",
       "      <th>colsample_bylevel</th>\n",
       "      <th>colsample_bytree</th>\n",
       "      <th>epoch</th>\n",
       "      <th>learning_rate</th>\n",
       "      <th>max_depth</th>\n",
       "      <th>n_estimators</th>\n",
       "      <th>score</th>\n",
       "      <th>subsample</th>\n",
       "    </tr>\n",
       "  </thead>\n",
       "  <tbody>\n",
       "    <tr>\n",
       "      <th>92</th>\n",
       "      <td>0.870122</td>\n",
       "      <td>0.980396</td>\n",
       "      <td>92</td>\n",
       "      <td>0.011105</td>\n",
       "      <td>10</td>\n",
       "      <td>859</td>\n",
       "      <td>0.321325</td>\n",
       "      <td>0.362207</td>\n",
       "    </tr>\n",
       "    <tr>\n",
       "      <th>64</th>\n",
       "      <td>0.679378</td>\n",
       "      <td>0.901412</td>\n",
       "      <td>64</td>\n",
       "      <td>0.046622</td>\n",
       "      <td>8</td>\n",
       "      <td>326</td>\n",
       "      <td>0.323925</td>\n",
       "      <td>0.684720</td>\n",
       "    </tr>\n",
       "    <tr>\n",
       "      <th>35</th>\n",
       "      <td>0.547196</td>\n",
       "      <td>0.854189</td>\n",
       "      <td>35</td>\n",
       "      <td>0.028520</td>\n",
       "      <td>8</td>\n",
       "      <td>855</td>\n",
       "      <td>0.324446</td>\n",
       "      <td>0.402216</td>\n",
       "    </tr>\n",
       "    <tr>\n",
       "      <th>32</th>\n",
       "      <td>0.684372</td>\n",
       "      <td>0.971310</td>\n",
       "      <td>32</td>\n",
       "      <td>0.016790</td>\n",
       "      <td>34</td>\n",
       "      <td>554</td>\n",
       "      <td>0.326180</td>\n",
       "      <td>0.425722</td>\n",
       "    </tr>\n",
       "    <tr>\n",
       "      <th>27</th>\n",
       "      <td>0.831264</td>\n",
       "      <td>0.867055</td>\n",
       "      <td>27</td>\n",
       "      <td>0.025435</td>\n",
       "      <td>54</td>\n",
       "      <td>385</td>\n",
       "      <td>0.326442</td>\n",
       "      <td>0.266720</td>\n",
       "    </tr>\n",
       "    <tr>\n",
       "      <th>6</th>\n",
       "      <td>0.845876</td>\n",
       "      <td>0.966426</td>\n",
       "      <td>6</td>\n",
       "      <td>0.019466</td>\n",
       "      <td>57</td>\n",
       "      <td>315</td>\n",
       "      <td>0.327296</td>\n",
       "      <td>0.313923</td>\n",
       "    </tr>\n",
       "    <tr>\n",
       "      <th>5</th>\n",
       "      <td>0.435530</td>\n",
       "      <td>0.907742</td>\n",
       "      <td>5</td>\n",
       "      <td>0.021748</td>\n",
       "      <td>8</td>\n",
       "      <td>462</td>\n",
       "      <td>0.327548</td>\n",
       "      <td>0.601801</td>\n",
       "    </tr>\n",
       "    <tr>\n",
       "      <th>41</th>\n",
       "      <td>0.561755</td>\n",
       "      <td>0.960961</td>\n",
       "      <td>41</td>\n",
       "      <td>0.023364</td>\n",
       "      <td>11</td>\n",
       "      <td>437</td>\n",
       "      <td>0.327625</td>\n",
       "      <td>0.321998</td>\n",
       "    </tr>\n",
       "    <tr>\n",
       "      <th>77</th>\n",
       "      <td>0.790567</td>\n",
       "      <td>0.925351</td>\n",
       "      <td>77</td>\n",
       "      <td>0.071885</td>\n",
       "      <td>3</td>\n",
       "      <td>985</td>\n",
       "      <td>0.327687</td>\n",
       "      <td>0.285630</td>\n",
       "    </tr>\n",
       "    <tr>\n",
       "      <th>96</th>\n",
       "      <td>0.667323</td>\n",
       "      <td>0.948886</td>\n",
       "      <td>96</td>\n",
       "      <td>0.026588</td>\n",
       "      <td>28</td>\n",
       "      <td>349</td>\n",
       "      <td>0.328221</td>\n",
       "      <td>0.392322</td>\n",
       "    </tr>\n",
       "  </tbody>\n",
       "</table>\n",
       "</div>"
      ],
      "text/plain": [
       "    colsample_bylevel  colsample_bytree  epoch  learning_rate  max_depth  \\\n",
       "92           0.870122          0.980396     92       0.011105         10   \n",
       "64           0.679378          0.901412     64       0.046622          8   \n",
       "35           0.547196          0.854189     35       0.028520          8   \n",
       "32           0.684372          0.971310     32       0.016790         34   \n",
       "27           0.831264          0.867055     27       0.025435         54   \n",
       "6            0.845876          0.966426      6       0.019466         57   \n",
       "5            0.435530          0.907742      5       0.021748          8   \n",
       "41           0.561755          0.960961     41       0.023364         11   \n",
       "77           0.790567          0.925351     77       0.071885          3   \n",
       "96           0.667323          0.948886     96       0.026588         28   \n",
       "\n",
       "    n_estimators     score  subsample  \n",
       "92           859  0.321325   0.362207  \n",
       "64           326  0.323925   0.684720  \n",
       "35           855  0.324446   0.402216  \n",
       "32           554  0.326180   0.425722  \n",
       "27           385  0.326442   0.266720  \n",
       "6            315  0.327296   0.313923  \n",
       "5            462  0.327548   0.601801  \n",
       "41           437  0.327625   0.321998  \n",
       "77           985  0.327687   0.285630  \n",
       "96           349  0.328221   0.392322  "
      ]
     },
     "execution_count": 38,
     "metadata": {},
     "output_type": "execute_result"
    }
   ],
   "source": [
    "import xgboost as xgb\n",
    "\n",
    "from sklearn.model_selection import cross_val_score\n",
    "\n",
    "num_epoch = 100\n",
    "\n",
    "finer_hyperparameters_list = []\n",
    "\n",
    "for epoch in range(num_epoch):\n",
    "\n",
    "    n_estimators = np.random.randint(low=300, high=1000)\n",
    "\n",
    "    max_depth = np.random.randint(low=2, high=60)\n",
    "\n",
    "    learning_rate = 10 ** -np.random.uniform(low=0, high=2)\n",
    "\n",
    "    subsample = np.random.uniform(low=0.2, high=0.7)\n",
    "\n",
    "    colsample_bytree = np.random.uniform(low=0.7, high=1.0)\n",
    "\n",
    "    colsample_bylevel = np.random.uniform(low=0.4, high=1.0)\n",
    "\n",
    "    model = xgb.XGBRegressor(n_estimators=n_estimators,\n",
    "                             max_depth=max_depth,\n",
    "                             learning_rate=learning_rate,\n",
    "                             subsample=subsample,\n",
    "                             colsample_bylevel=colsample_bylevel,\n",
    "                             colsample_bytree=colsample_bytree,\n",
    "                             seed=37)\n",
    "\n",
    "    score = cross_val_score(model, X_train, y_train, cv=20, scoring=rmse_score).mean()\n",
    "\n",
    "    hyperparameters = {\n",
    "        'epoch': epoch,\n",
    "        'score': score,\n",
    "        'n_estimators': n_estimators,\n",
    "        'max_depth': max_depth,\n",
    "        'learning_rate': learning_rate,\n",
    "        'subsample': subsample,\n",
    "        'colsample_bylevel': colsample_bylevel,\n",
    "        'colsample_bytree': colsample_bytree,\n",
    "    }\n",
    "\n",
    "    finer_hyperparameters_list.append(hyperparameters)\n",
    "\n",
    "    print(f\"{epoch:2} n_estimators = {n_estimators}, max_depth = {max_depth:2}, learning_rate = {learning_rate:.10f}, subsample = {subsample:.6f}, colsample_bylevel = {colsample_bylevel:.6f}, colsample_bytree = {colsample_bytree:.6f}, Score = {score:.5f}\")\n",
    "\n",
    "\n",
    "finer_hyperparameters_list = pd.DataFrame.from_dict(finer_hyperparameters_list)\n",
    "\n",
    "finer_hyperparameters_list = finer_hyperparameters_list.sort_values(by=\"score\")\n",
    "\n",
    "print(finer_hyperparameters_list.shape)\n",
    "\n",
    "finer_hyperparameters_list.head(10)"
   ]
  },
  {
   "cell_type": "code",
   "execution_count": 72,
   "metadata": {},
   "outputs": [
    {
     "name": "stdout",
     "output_type": "stream",
     "text": [
      "n_estimators(best) = 859, max_depth(best) = 10, learning_rate(best) = 0.011105, subsample(best) = 0.362207, colsample_bytree(best) = 0.980396, colsample_bylevel(best) = 0.870122\n"
     ]
    }
   ],
   "source": [
    "best_hyperparameters = finer_hyperparameters_list.iloc[0]\n",
    "\n",
    "best_n_estimators = int(best_hyperparameters[\"n_estimators\"])\n",
    "\n",
    "best_max_depth = int(best_hyperparameters[\"max_depth\"])\n",
    "\n",
    "best_learning_rate = best_hyperparameters[\"learning_rate\"]\n",
    "\n",
    "best_subsample = best_hyperparameters[\"subsample\"]\n",
    "\n",
    "best_colsample_bytree = best_hyperparameters[\"colsample_bytree\"]\n",
    "\n",
    "best_colsample_bylevel = best_hyperparameters[\"colsample_bylevel\"]\n",
    "\n",
    "print(f\"n_estimators(best) = {best_n_estimators}, max_depth(best) = {best_max_depth}, learning_rate(best) = {best_learning_rate:.6f}, subsample(best) = {best_subsample:.6f}, colsample_bytree(best) = {best_colsample_bytree:.6f}, colsample_bylevel(best) = {best_colsample_bylevel:.6f}\")"
   ]
  },
  {
   "cell_type": "markdown",
   "metadata": {},
   "source": [
    "## Use Gradient Boosting Machine"
   ]
  },
  {
   "cell_type": "code",
   "execution_count": 68,
   "metadata": {},
   "outputs": [
    {
     "data": {
      "text/plain": [
       "XGBRegressor(base_score=0.5, booster='gbtree', colsample_bylevel=0.870122,\n",
       "       colsample_bytree=0.980396, gamma=0, learning_rate=0.011105,\n",
       "       max_delta_step=0, max_depth=10, min_child_weight=1, missing=None,\n",
       "       n_estimators=859, n_jobs=1, nthread=None, objective='reg:linear',\n",
       "       random_state=0, reg_alpha=0, reg_lambda=1, scale_pos_weight=1,\n",
       "       seed=37, silent=True, subsample=0.362207)"
      ]
     },
     "execution_count": 68,
     "metadata": {},
     "output_type": "execute_result"
    }
   ],
   "source": [
    "# 주의: 혹시 하이퍼패러미터 튜닝을 하는데 시간이 너무 오래 걸려 아래의 것을 사용\n",
    "best_n_estimators = 859\n",
    "best_max_depth = 10\n",
    "best_learning_rate = 0.011105\n",
    "best_subsample = 0.362207\n",
    "best_colsample_bytree = 0.980396\n",
    "best_colsample_bylevel = 0.870122\n",
    "\n",
    "model = xgb.XGBRegressor(n_estimators=best_n_estimators,\n",
    "                         max_depth=best_max_depth,\n",
    "                         learning_rate=best_learning_rate,\n",
    "                         subsample=best_subsample,\n",
    "                         colsample_bytree=best_colsample_bytree,\n",
    "                         colsample_bylevel=best_colsample_bylevel,\n",
    "                         seed=37)\n",
    "\n",
    "model"
   ]
  },
  {
   "cell_type": "markdown",
   "metadata": {},
   "source": [
    "## Fit"
   ]
  },
  {
   "cell_type": "code",
   "execution_count": 69,
   "metadata": {},
   "outputs": [
    {
     "data": {
      "text/plain": [
       "XGBRegressor(base_score=0.5, booster='gbtree', colsample_bylevel=0.870122,\n",
       "       colsample_bytree=0.980396, gamma=0, learning_rate=0.011105,\n",
       "       max_delta_step=0, max_depth=10, min_child_weight=1, missing=None,\n",
       "       n_estimators=859, n_jobs=1, nthread=None, objective='reg:linear',\n",
       "       random_state=0, reg_alpha=0, reg_lambda=1, scale_pos_weight=1,\n",
       "       seed=37, silent=True, subsample=0.362207)"
      ]
     },
     "execution_count": 69,
     "metadata": {},
     "output_type": "execute_result"
    }
   ],
   "source": [
    "model.fit(X_train, y_train)"
   ]
  },
  {
   "cell_type": "markdown",
   "metadata": {},
   "source": [
    "## Predict"
   ]
  },
  {
   "cell_type": "code",
   "execution_count": 71,
   "metadata": {},
   "outputs": [
    {
     "name": "stdout",
     "output_type": "stream",
     "text": [
      "(6493,)\n"
     ]
    },
    {
     "data": {
      "text/plain": [
       "array([2.591149 , 1.7800393, 1.3072813, ..., 4.6390724, 4.3923664,\n",
       "       3.7156725], dtype=float32)"
      ]
     },
     "execution_count": 71,
     "metadata": {},
     "output_type": "execute_result"
    }
   ],
   "source": [
    "log_predictions_reg = model.predict(X_test)\n",
    "\n",
    "print(log_predictions_reg.shape)\n",
    "\n",
    "log_predictions_reg"
   ]
  },
  {
   "cell_type": "code",
   "execution_count": 73,
   "metadata": {},
   "outputs": [
    {
     "name": "stdout",
     "output_type": "stream",
     "text": [
      "(6493,)\n"
     ]
    },
    {
     "data": {
      "text/plain": [
       "array([ 12.345098 ,   4.9300895,   2.6961112, ..., 102.44835  ,\n",
       "        79.831474 ,  40.08621  ], dtype=float32)"
      ]
     },
     "execution_count": 73,
     "metadata": {},
     "output_type": "execute_result"
    }
   ],
   "source": [
    "predictions_reg = np.exp(log_predictions_reg) - 1\n",
    "\n",
    "print(predictions_reg.shape)\n",
    "\n",
    "predictions_reg"
   ]
  },
  {
   "cell_type": "markdown",
   "metadata": {},
   "source": [
    "## Train, Evaluate, Hyperparameter tuning, Fit, Predict를 casual에 대해서도 똑같이 반복"
   ]
  },
  {
   "cell_type": "markdown",
   "metadata": {},
   "source": [
    "## Train - log_casual"
   ]
  },
  {
   "cell_type": "code",
   "execution_count": 74,
   "metadata": {},
   "outputs": [
    {
     "data": {
      "text/plain": [
       "['season',\n",
       " 'holiday',\n",
       " 'workingday',\n",
       " 'weather',\n",
       " 'temp',\n",
       " 'atemp',\n",
       " 'humidity',\n",
       " 'windspeed',\n",
       " 'datetime-year',\n",
       " 'datetime-hour',\n",
       " 'datetime-dayofweek']"
      ]
     },
     "execution_count": 74,
     "metadata": {},
     "output_type": "execute_result"
    }
   ],
   "source": [
    "feature_names = [\"season\", \"holiday\", \"workingday\", \"weather\",\n",
    "                 \"temp\", \"atemp\", \"humidity\", \"windspeed\",\n",
    "                 \"datetime-year\", \"datetime-hour\", \"datetime-dayofweek\"]\n",
    "feature_names"
   ]
  },
  {
   "cell_type": "code",
   "execution_count": 75,
   "metadata": {},
   "outputs": [
    {
     "data": {
      "text/plain": [
       "'log_casual'"
      ]
     },
     "execution_count": 75,
     "metadata": {},
     "output_type": "execute_result"
    }
   ],
   "source": [
    "label_name = \"log_casual\"\n",
    "label_name"
   ]
  },
  {
   "cell_type": "code",
   "execution_count": 76,
   "metadata": {},
   "outputs": [
    {
     "name": "stdout",
     "output_type": "stream",
     "text": [
      "(10886, 11)\n"
     ]
    },
    {
     "data": {
      "text/html": [
       "<div>\n",
       "<style scoped>\n",
       "    .dataframe tbody tr th:only-of-type {\n",
       "        vertical-align: middle;\n",
       "    }\n",
       "\n",
       "    .dataframe tbody tr th {\n",
       "        vertical-align: top;\n",
       "    }\n",
       "\n",
       "    .dataframe thead th {\n",
       "        text-align: right;\n",
       "    }\n",
       "</style>\n",
       "<table border=\"1\" class=\"dataframe\">\n",
       "  <thead>\n",
       "    <tr style=\"text-align: right;\">\n",
       "      <th></th>\n",
       "      <th>season</th>\n",
       "      <th>holiday</th>\n",
       "      <th>workingday</th>\n",
       "      <th>weather</th>\n",
       "      <th>temp</th>\n",
       "      <th>atemp</th>\n",
       "      <th>humidity</th>\n",
       "      <th>windspeed</th>\n",
       "      <th>datetime-year</th>\n",
       "      <th>datetime-hour</th>\n",
       "      <th>datetime-dayofweek</th>\n",
       "    </tr>\n",
       "  </thead>\n",
       "  <tbody>\n",
       "    <tr>\n",
       "      <th>0</th>\n",
       "      <td>1</td>\n",
       "      <td>0</td>\n",
       "      <td>0</td>\n",
       "      <td>1</td>\n",
       "      <td>9.84</td>\n",
       "      <td>14.395</td>\n",
       "      <td>81</td>\n",
       "      <td>0.1876</td>\n",
       "      <td>2011</td>\n",
       "      <td>0</td>\n",
       "      <td>5</td>\n",
       "    </tr>\n",
       "    <tr>\n",
       "      <th>1</th>\n",
       "      <td>1</td>\n",
       "      <td>0</td>\n",
       "      <td>0</td>\n",
       "      <td>1</td>\n",
       "      <td>9.02</td>\n",
       "      <td>13.635</td>\n",
       "      <td>80</td>\n",
       "      <td>0.3752</td>\n",
       "      <td>2011</td>\n",
       "      <td>1</td>\n",
       "      <td>5</td>\n",
       "    </tr>\n",
       "    <tr>\n",
       "      <th>2</th>\n",
       "      <td>1</td>\n",
       "      <td>0</td>\n",
       "      <td>0</td>\n",
       "      <td>1</td>\n",
       "      <td>9.02</td>\n",
       "      <td>13.635</td>\n",
       "      <td>80</td>\n",
       "      <td>0.7504</td>\n",
       "      <td>2011</td>\n",
       "      <td>2</td>\n",
       "      <td>5</td>\n",
       "    </tr>\n",
       "    <tr>\n",
       "      <th>3</th>\n",
       "      <td>1</td>\n",
       "      <td>0</td>\n",
       "      <td>0</td>\n",
       "      <td>1</td>\n",
       "      <td>9.84</td>\n",
       "      <td>14.395</td>\n",
       "      <td>75</td>\n",
       "      <td>1.5008</td>\n",
       "      <td>2011</td>\n",
       "      <td>3</td>\n",
       "      <td>5</td>\n",
       "    </tr>\n",
       "    <tr>\n",
       "      <th>4</th>\n",
       "      <td>1</td>\n",
       "      <td>0</td>\n",
       "      <td>0</td>\n",
       "      <td>1</td>\n",
       "      <td>9.84</td>\n",
       "      <td>14.395</td>\n",
       "      <td>75</td>\n",
       "      <td>3.0016</td>\n",
       "      <td>2011</td>\n",
       "      <td>4</td>\n",
       "      <td>5</td>\n",
       "    </tr>\n",
       "  </tbody>\n",
       "</table>\n",
       "</div>"
      ],
      "text/plain": [
       "   season  holiday  workingday  weather  temp   atemp  humidity  windspeed  \\\n",
       "0       1        0           0        1  9.84  14.395        81     0.1876   \n",
       "1       1        0           0        1  9.02  13.635        80     0.3752   \n",
       "2       1        0           0        1  9.02  13.635        80     0.7504   \n",
       "3       1        0           0        1  9.84  14.395        75     1.5008   \n",
       "4       1        0           0        1  9.84  14.395        75     3.0016   \n",
       "\n",
       "   datetime-year  datetime-hour  datetime-dayofweek  \n",
       "0           2011              0                   5  \n",
       "1           2011              1                   5  \n",
       "2           2011              2                   5  \n",
       "3           2011              3                   5  \n",
       "4           2011              4                   5  "
      ]
     },
     "execution_count": 76,
     "metadata": {},
     "output_type": "execute_result"
    }
   ],
   "source": [
    "X_train = train[feature_names]\n",
    "\n",
    "print(X_train.shape)\n",
    "\n",
    "X_train.head()"
   ]
  },
  {
   "cell_type": "code",
   "execution_count": 77,
   "metadata": {},
   "outputs": [
    {
     "name": "stdout",
     "output_type": "stream",
     "text": [
      "(6493, 11)\n"
     ]
    },
    {
     "data": {
      "text/html": [
       "<div>\n",
       "<style scoped>\n",
       "    .dataframe tbody tr th:only-of-type {\n",
       "        vertical-align: middle;\n",
       "    }\n",
       "\n",
       "    .dataframe tbody tr th {\n",
       "        vertical-align: top;\n",
       "    }\n",
       "\n",
       "    .dataframe thead th {\n",
       "        text-align: right;\n",
       "    }\n",
       "</style>\n",
       "<table border=\"1\" class=\"dataframe\">\n",
       "  <thead>\n",
       "    <tr style=\"text-align: right;\">\n",
       "      <th></th>\n",
       "      <th>season</th>\n",
       "      <th>holiday</th>\n",
       "      <th>workingday</th>\n",
       "      <th>weather</th>\n",
       "      <th>temp</th>\n",
       "      <th>atemp</th>\n",
       "      <th>humidity</th>\n",
       "      <th>windspeed</th>\n",
       "      <th>datetime-year</th>\n",
       "      <th>datetime-hour</th>\n",
       "      <th>datetime-dayofweek</th>\n",
       "    </tr>\n",
       "  </thead>\n",
       "  <tbody>\n",
       "    <tr>\n",
       "      <th>0</th>\n",
       "      <td>1</td>\n",
       "      <td>0</td>\n",
       "      <td>1</td>\n",
       "      <td>1</td>\n",
       "      <td>10.66</td>\n",
       "      <td>11.365</td>\n",
       "      <td>56</td>\n",
       "      <td>26.00270</td>\n",
       "      <td>2011</td>\n",
       "      <td>0</td>\n",
       "      <td>3</td>\n",
       "    </tr>\n",
       "    <tr>\n",
       "      <th>1</th>\n",
       "      <td>1</td>\n",
       "      <td>0</td>\n",
       "      <td>1</td>\n",
       "      <td>1</td>\n",
       "      <td>10.66</td>\n",
       "      <td>13.635</td>\n",
       "      <td>56</td>\n",
       "      <td>13.00135</td>\n",
       "      <td>2011</td>\n",
       "      <td>1</td>\n",
       "      <td>3</td>\n",
       "    </tr>\n",
       "    <tr>\n",
       "      <th>2</th>\n",
       "      <td>1</td>\n",
       "      <td>0</td>\n",
       "      <td>1</td>\n",
       "      <td>1</td>\n",
       "      <td>10.66</td>\n",
       "      <td>13.635</td>\n",
       "      <td>56</td>\n",
       "      <td>5.50070</td>\n",
       "      <td>2011</td>\n",
       "      <td>2</td>\n",
       "      <td>3</td>\n",
       "    </tr>\n",
       "    <tr>\n",
       "      <th>3</th>\n",
       "      <td>1</td>\n",
       "      <td>0</td>\n",
       "      <td>1</td>\n",
       "      <td>1</td>\n",
       "      <td>10.66</td>\n",
       "      <td>12.880</td>\n",
       "      <td>56</td>\n",
       "      <td>11.00140</td>\n",
       "      <td>2011</td>\n",
       "      <td>3</td>\n",
       "      <td>3</td>\n",
       "    </tr>\n",
       "    <tr>\n",
       "      <th>4</th>\n",
       "      <td>1</td>\n",
       "      <td>0</td>\n",
       "      <td>1</td>\n",
       "      <td>1</td>\n",
       "      <td>10.66</td>\n",
       "      <td>12.880</td>\n",
       "      <td>56</td>\n",
       "      <td>11.00140</td>\n",
       "      <td>2011</td>\n",
       "      <td>4</td>\n",
       "      <td>3</td>\n",
       "    </tr>\n",
       "  </tbody>\n",
       "</table>\n",
       "</div>"
      ],
      "text/plain": [
       "   season  holiday  workingday  weather   temp   atemp  humidity  windspeed  \\\n",
       "0       1        0           1        1  10.66  11.365        56   26.00270   \n",
       "1       1        0           1        1  10.66  13.635        56   13.00135   \n",
       "2       1        0           1        1  10.66  13.635        56    5.50070   \n",
       "3       1        0           1        1  10.66  12.880        56   11.00140   \n",
       "4       1        0           1        1  10.66  12.880        56   11.00140   \n",
       "\n",
       "   datetime-year  datetime-hour  datetime-dayofweek  \n",
       "0           2011              0                   3  \n",
       "1           2011              1                   3  \n",
       "2           2011              2                   3  \n",
       "3           2011              3                   3  \n",
       "4           2011              4                   3  "
      ]
     },
     "execution_count": 77,
     "metadata": {},
     "output_type": "execute_result"
    }
   ],
   "source": [
    "X_test = test[feature_names]\n",
    "\n",
    "print(X_test.shape)\n",
    "\n",
    "X_test.head()"
   ]
  },
  {
   "cell_type": "code",
   "execution_count": 78,
   "metadata": {},
   "outputs": [
    {
     "name": "stdout",
     "output_type": "stream",
     "text": [
      "(10886,)\n"
     ]
    },
    {
     "data": {
      "text/plain": [
       "0    1.386294\n",
       "1    2.197225\n",
       "2    1.791759\n",
       "3    1.386294\n",
       "4    0.000000\n",
       "Name: log_casual, dtype: float64"
      ]
     },
     "execution_count": 78,
     "metadata": {},
     "output_type": "execute_result"
    }
   ],
   "source": [
    "y_train = train[label_name]\n",
    "\n",
    "print(y_train.shape)\n",
    "\n",
    "y_train.head()"
   ]
  },
  {
   "cell_type": "markdown",
   "metadata": {},
   "source": [
    "### Coarse & Finer Search"
   ]
  },
  {
   "cell_type": "markdown",
   "metadata": {},
   "source": [
    "**Coarse Search**"
   ]
  },
  {
   "cell_type": "code",
   "execution_count": null,
   "metadata": {},
   "outputs": [],
   "source": [
    "from sklearn.model_selection import cross_val_score\n",
    "\n",
    "# 랜덤 서치를 반복할 횟수\n",
    "num_epoch = 100\n",
    "\n",
    "coarse_hyperparameters_list = []\n",
    "\n",
    "for epoch in range(num_epoch):\n",
    "    # 트리 갯수\n",
    "    n_estimators = np.random.randint(low=100, high=1000)\n",
    "    # 트리 깊이\n",
    "    max_depth = np.random.randint(low=2, high=100)\n",
    "    # 트리 비중\n",
    "    learning_rate = 10 ** -np.random.uniform(low=0, high=10)\n",
    "    # 하나의 트리를 만들 때 사용할 데이터의 비율\n",
    "    subsample = np.random.uniform(low=0.1, high=1.0)\n",
    "    # 하나의 트리를 만들 때 사용할 feature의 비율\n",
    "    colsample_bytree = np.random.uniform(low=0.4, high=1.0)\n",
    "    # 트리가 한 번 가지를 칠 때 사용할 feature의 비율\n",
    "    colsample_bylevel = np.random.uniform(low=0.4, high=1.0)\n",
    "\n",
    "    model = xgb.XGBRegressor(n_estimators=n_estimators,\n",
    "                             max_depth=max_depth,\n",
    "                             learning_rate=learning_rate,\n",
    "                             subsample=subsample,\n",
    "                             colsample_bylevel=colsample_bylevel,\n",
    "                             colsample_bytree=colsample_bytree,\n",
    "                             seed=37)\n",
    "\n",
    "    # cv. Cross Validation에서 데이터를 조각낼(split) 갯수\n",
    "    # scoring. rmse를 사용한 점수 측정 공식\n",
    "    # 이 함수의 실행 결과의 평균(mean)을 구한 뒤 score라는 이름의 새로운 변수에 할당\n",
    "    score = cross_val_score(model, X_train, y_train, cv=20, scoring=rmse_score).mean()\n",
    "    \n",
    "    hyperparameters = {\n",
    "        'epoch': epoch,\n",
    "        'score': score,\n",
    "        'n_estimators': n_estimators,\n",
    "        'max_depth': max_depth,\n",
    "        'learning_rate': learning_rate,\n",
    "        'subsample': subsample,\n",
    "        'colsample_bylevel': colsample_bylevel,\n",
    "        'colsample_bytree': colsample_bytree,\n",
    "    }\n",
    "\n",
    "    coarse_hyperparameters_list.append(hyperparameters)\n",
    "\n",
    "    print(f\"{epoch:2} n_estimators = {n_estimators}, max_depth = {max_depth:2}, learning_rate = {learning_rate:.10f}, subsample = {subsample:.6f}, colsample_bylevel = {colsample_bylevel:.6f}, colsample_bytree = {colsample_bytree:.6f}, Score = {score:.5f}\")\n",
    "\n",
    "\n",
    "# coarse_hyperparameters_list를 Pandas의 DataFrame으로 변환\n",
    "coarse_hyperparameters_list = pd.DataFrame.from_dict(coarse_hyperparameters_list)\n",
    "\n",
    "# 변환한 coarse_hyperparameters_list를 score가 낮은 순으로 정렬\n",
    "# (RMSE는 score가 낮을 수록 더 정확도가 높다)\n",
    "coarse_hyperparameters_list = coarse_hyperparameters_list.sort_values(by=\"score\")\n",
    "\n",
    "print(coarse_hyperparameters_list.shape)\n",
    "\n",
    "coarse_hyperparameters_list.head(10)"
   ]
  },
  {
   "cell_type": "markdown",
   "metadata": {},
   "source": [
    "**Finer Search**"
   ]
  },
  {
   "cell_type": "code",
   "execution_count": null,
   "metadata": {},
   "outputs": [],
   "source": [
    "import xgboost as xgb\n",
    "\n",
    "from sklearn.model_selection import cross_val_score\n",
    "\n",
    "num_epoch = 100\n",
    "\n",
    "finer_hyperparameters_list = []\n",
    "\n",
    "for epoch in range(num_epoch):\n",
    "\n",
    "    n_estimators = np.random.randint(low=300, high=1000)\n",
    "\n",
    "    max_depth = np.random.randint(low=2, high=60)\n",
    "\n",
    "    learning_rate = 10 ** -np.random.uniform(low=0, high=2)\n",
    "\n",
    "    subsample = np.random.uniform(low=0.2, high=0.7)\n",
    "\n",
    "    colsample_bytree = np.random.uniform(low=0.7, high=1.0)\n",
    "\n",
    "    colsample_bylevel = np.random.uniform(low=0.4, high=1.0)\n",
    "\n",
    "    model = xgb.XGBRegressor(n_estimators=n_estimators,\n",
    "                             max_depth=max_depth,\n",
    "                             learning_rate=learning_rate,\n",
    "                             subsample=subsample,\n",
    "                             colsample_bylevel=colsample_bylevel,\n",
    "                             colsample_bytree=colsample_bytree,\n",
    "                             seed=37)\n",
    "\n",
    "    score = cross_val_score(model, X_train, y_train, cv=20, scoring=rmse_score).mean()\n",
    "\n",
    "    hyperparameters = {\n",
    "        'epoch': epoch,\n",
    "        'score': score,\n",
    "        'n_estimators': n_estimators,\n",
    "        'max_depth': max_depth,\n",
    "        'learning_rate': learning_rate,\n",
    "        'subsample': subsample,\n",
    "        'colsample_bylevel': colsample_bylevel,\n",
    "        'colsample_bytree': colsample_bytree,\n",
    "    }\n",
    "\n",
    "    finer_hyperparameters_list.append(hyperparameters)\n",
    "\n",
    "    print(f\"{epoch:2} n_estimators = {n_estimators}, max_depth = {max_depth:2}, learning_rate = {learning_rate:.10f}, subsample = {subsample:.6f}, colsample_bylevel = {colsample_bylevel:.6f}, colsample_bytree = {colsample_bytree:.6f}, Score = {score:.5f}\")\n",
    "\n",
    "\n",
    "finer_hyperparameters_list = pd.DataFrame.from_dict(finer_hyperparameters_list)\n",
    "\n",
    "finer_hyperparameters_list = finer_hyperparameters_list.sort_values(by=\"score\")\n",
    "\n",
    "print(finer_hyperparameters_list.shape)\n",
    "\n",
    "finer_hyperparameters_list.head(10)"
   ]
  },
  {
   "cell_type": "markdown",
   "metadata": {},
   "source": [
    "## Use Gradient Boosting Machine"
   ]
  },
  {
   "cell_type": "code",
   "execution_count": 79,
   "metadata": {},
   "outputs": [
    {
     "data": {
      "text/plain": [
       "XGBRegressor(base_score=0.5, booster='gbtree', colsample_bylevel=0.870122,\n",
       "       colsample_bytree=0.980396, gamma=0, learning_rate=0.011105,\n",
       "       max_delta_step=0, max_depth=10, min_child_weight=1, missing=None,\n",
       "       n_estimators=859, n_jobs=1, nthread=None, objective='reg:linear',\n",
       "       random_state=0, reg_alpha=0, reg_lambda=1, scale_pos_weight=1,\n",
       "       seed=37, silent=True, subsample=0.362207)"
      ]
     },
     "execution_count": 79,
     "metadata": {},
     "output_type": "execute_result"
    }
   ],
   "source": [
    "# 주의: 혹시 하이퍼패러미터 튜닝을 하는데 시간이 너무 오래 걸려 아래의 것을 사용\n",
    "best_n_estimators = 859\n",
    "best_max_depth = 10\n",
    "best_learning_rate = 0.011105\n",
    "best_subsample = 0.362207\n",
    "best_colsample_bytree = 0.980396\n",
    "best_colsample_bylevel = 0.870122\n",
    "\n",
    "model = xgb.XGBRegressor(n_estimators=best_n_estimators,\n",
    "                         max_depth=best_max_depth,\n",
    "                         learning_rate=best_learning_rate,\n",
    "                         subsample=best_subsample,\n",
    "                         colsample_bytree=best_colsample_bytree,\n",
    "                         colsample_bylevel=best_colsample_bylevel,\n",
    "                         seed=37)\n",
    "\n",
    "model"
   ]
  },
  {
   "cell_type": "markdown",
   "metadata": {},
   "source": [
    "## Fit"
   ]
  },
  {
   "cell_type": "code",
   "execution_count": 80,
   "metadata": {},
   "outputs": [
    {
     "data": {
      "text/plain": [
       "XGBRegressor(base_score=0.5, booster='gbtree', colsample_bylevel=0.870122,\n",
       "       colsample_bytree=0.980396, gamma=0, learning_rate=0.011105,\n",
       "       max_delta_step=0, max_depth=10, min_child_weight=1, missing=None,\n",
       "       n_estimators=859, n_jobs=1, nthread=None, objective='reg:linear',\n",
       "       random_state=0, reg_alpha=0, reg_lambda=1, scale_pos_weight=1,\n",
       "       seed=37, silent=True, subsample=0.362207)"
      ]
     },
     "execution_count": 80,
     "metadata": {},
     "output_type": "execute_result"
    }
   ],
   "source": [
    "model.fit(X_train, y_train)"
   ]
  },
  {
   "cell_type": "markdown",
   "metadata": {},
   "source": [
    "## Predict"
   ]
  },
  {
   "cell_type": "code",
   "execution_count": 81,
   "metadata": {},
   "outputs": [
    {
     "name": "stdout",
     "output_type": "stream",
     "text": [
      "(6493,)\n"
     ]
    },
    {
     "data": {
      "text/plain": [
       "array([0.98075026, 0.35700682, 0.5388382 , ..., 1.419481  , 1.3844514 ,\n",
       "       0.85419333], dtype=float32)"
      ]
     },
     "execution_count": 81,
     "metadata": {},
     "output_type": "execute_result"
    }
   ],
   "source": [
    "log_predictions_cas = model.predict(X_test)\n",
    "\n",
    "print(log_predictions_cas.shape)\n",
    "\n",
    "log_predictions_cas"
   ]
  },
  {
   "cell_type": "code",
   "execution_count": 82,
   "metadata": {},
   "outputs": [
    {
     "name": "stdout",
     "output_type": "stream",
     "text": [
      "(6493,)\n"
     ]
    },
    {
     "data": {
      "text/plain": [
       "array([1.666456  , 0.42904556, 0.7140144 , ..., 3.134974  , 2.992635  ,\n",
       "       1.3494782 ], dtype=float32)"
      ]
     },
     "execution_count": 82,
     "metadata": {},
     "output_type": "execute_result"
    }
   ],
   "source": [
    "predictions_cas = np.exp(log_predictions_cas) - 1\n",
    "\n",
    "print(predictions_cas.shape)\n",
    "\n",
    "predictions_cas"
   ]
  },
  {
   "cell_type": "markdown",
   "metadata": {},
   "source": [
    "## Submit"
   ]
  },
  {
   "cell_type": "code",
   "execution_count": 83,
   "metadata": {},
   "outputs": [
    {
     "name": "stdout",
     "output_type": "stream",
     "text": [
      "(6493, 2)\n"
     ]
    },
    {
     "data": {
      "text/html": [
       "<div>\n",
       "<style scoped>\n",
       "    .dataframe tbody tr th:only-of-type {\n",
       "        vertical-align: middle;\n",
       "    }\n",
       "\n",
       "    .dataframe tbody tr th {\n",
       "        vertical-align: top;\n",
       "    }\n",
       "\n",
       "    .dataframe thead th {\n",
       "        text-align: right;\n",
       "    }\n",
       "</style>\n",
       "<table border=\"1\" class=\"dataframe\">\n",
       "  <thead>\n",
       "    <tr style=\"text-align: right;\">\n",
       "      <th></th>\n",
       "      <th>datetime</th>\n",
       "      <th>count</th>\n",
       "    </tr>\n",
       "  </thead>\n",
       "  <tbody>\n",
       "    <tr>\n",
       "      <th>0</th>\n",
       "      <td>2011-01-20 00:00:00</td>\n",
       "      <td>0</td>\n",
       "    </tr>\n",
       "    <tr>\n",
       "      <th>1</th>\n",
       "      <td>2011-01-20 01:00:00</td>\n",
       "      <td>0</td>\n",
       "    </tr>\n",
       "    <tr>\n",
       "      <th>2</th>\n",
       "      <td>2011-01-20 02:00:00</td>\n",
       "      <td>0</td>\n",
       "    </tr>\n",
       "    <tr>\n",
       "      <th>3</th>\n",
       "      <td>2011-01-20 03:00:00</td>\n",
       "      <td>0</td>\n",
       "    </tr>\n",
       "    <tr>\n",
       "      <th>4</th>\n",
       "      <td>2011-01-20 04:00:00</td>\n",
       "      <td>0</td>\n",
       "    </tr>\n",
       "  </tbody>\n",
       "</table>\n",
       "</div>"
      ],
      "text/plain": [
       "              datetime  count\n",
       "0  2011-01-20 00:00:00      0\n",
       "1  2011-01-20 01:00:00      0\n",
       "2  2011-01-20 02:00:00      0\n",
       "3  2011-01-20 03:00:00      0\n",
       "4  2011-01-20 04:00:00      0"
      ]
     },
     "execution_count": 83,
     "metadata": {},
     "output_type": "execute_result"
    }
   ],
   "source": [
    "submission = pd.read_csv(\"../dataSet/sampleSubmission.csv\")\n",
    "\n",
    "print(submission.shape)\n",
    "\n",
    "submission.head()"
   ]
  },
  {
   "cell_type": "code",
   "execution_count": 85,
   "metadata": {},
   "outputs": [
    {
     "name": "stdout",
     "output_type": "stream",
     "text": [
      "(6493, 2)\n"
     ]
    },
    {
     "data": {
      "text/html": [
       "<div>\n",
       "<style scoped>\n",
       "    .dataframe tbody tr th:only-of-type {\n",
       "        vertical-align: middle;\n",
       "    }\n",
       "\n",
       "    .dataframe tbody tr th {\n",
       "        vertical-align: top;\n",
       "    }\n",
       "\n",
       "    .dataframe thead th {\n",
       "        text-align: right;\n",
       "    }\n",
       "</style>\n",
       "<table border=\"1\" class=\"dataframe\">\n",
       "  <thead>\n",
       "    <tr style=\"text-align: right;\">\n",
       "      <th></th>\n",
       "      <th>datetime</th>\n",
       "      <th>count</th>\n",
       "    </tr>\n",
       "  </thead>\n",
       "  <tbody>\n",
       "    <tr>\n",
       "      <th>0</th>\n",
       "      <td>2011-01-20 00:00:00</td>\n",
       "      <td>14.011554</td>\n",
       "    </tr>\n",
       "    <tr>\n",
       "      <th>1</th>\n",
       "      <td>2011-01-20 01:00:00</td>\n",
       "      <td>5.359135</td>\n",
       "    </tr>\n",
       "    <tr>\n",
       "      <th>2</th>\n",
       "      <td>2011-01-20 02:00:00</td>\n",
       "      <td>3.410126</td>\n",
       "    </tr>\n",
       "    <tr>\n",
       "      <th>3</th>\n",
       "      <td>2011-01-20 03:00:00</td>\n",
       "      <td>2.213491</td>\n",
       "    </tr>\n",
       "    <tr>\n",
       "      <th>4</th>\n",
       "      <td>2011-01-20 04:00:00</td>\n",
       "      <td>1.835977</td>\n",
       "    </tr>\n",
       "  </tbody>\n",
       "</table>\n",
       "</div>"
      ],
      "text/plain": [
       "              datetime      count\n",
       "0  2011-01-20 00:00:00  14.011554\n",
       "1  2011-01-20 01:00:00   5.359135\n",
       "2  2011-01-20 02:00:00   3.410126\n",
       "3  2011-01-20 03:00:00   2.213491\n",
       "4  2011-01-20 04:00:00   1.835977"
      ]
     },
     "execution_count": 85,
     "metadata": {},
     "output_type": "execute_result"
    }
   ],
   "source": [
    "predictions = predictions_reg + predictions_cas\n",
    "\n",
    "submission[\"count\"] = predictions\n",
    "\n",
    "print(submission.shape)\n",
    "\n",
    "submission.head()"
   ]
  },
  {
   "cell_type": "code",
   "execution_count": 86,
   "metadata": {},
   "outputs": [],
   "source": [
    "submission.to_csv(\"../dataSet/result.csv\", index=False)"
   ]
  }
 ],
 "metadata": {
  "kernelspec": {
   "display_name": "Python 3",
   "language": "python",
   "name": "python3"
  },
  "language_info": {
   "codemirror_mode": {
    "name": "ipython",
    "version": 3
   },
   "file_extension": ".py",
   "mimetype": "text/x-python",
   "name": "python",
   "nbconvert_exporter": "python",
   "pygments_lexer": "ipython3",
   "version": "3.6.6"
  }
 },
 "nbformat": 4,
 "nbformat_minor": 1
}
