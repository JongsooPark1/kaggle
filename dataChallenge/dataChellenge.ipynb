{
 "cells": [
  {
   "cell_type": "code",
   "execution_count": 1,
   "metadata": {},
   "outputs": [],
   "source": [
    "import pandas as pd\n",
    "%matplotlib inline\n",
    "import seaborn as sns\n",
    "import matplotlib.pyplot as plt\n",
    "from matplotlib import rc\n",
    "import numpy as np\n",
    "from sklearn.metrics import make_scorer\n",
    "from sklearn.ensemble import RandomForestRegressor, RandomForestClassifier\n",
    "from sklearn.tree import DecisionTreeClassifier\n",
    "from sklearn.model_selection import cross_val_score\n",
    "import math\n",
    "import xgboost as xgb\n",
    "plt.rcParams['axes.unicode_minus'] = False\n",
    "\n",
    "rc('font', family='AppleGothic')"
   ]
  },
  {
   "cell_type": "code",
   "execution_count": 288,
   "metadata": {},
   "outputs": [
    {
     "name": "stdout",
     "output_type": "stream",
     "text": [
      "(25037, 27)\n"
     ]
    },
    {
     "data": {
      "text/html": [
       "<div>\n",
       "<style scoped>\n",
       "    .dataframe tbody tr th:only-of-type {\n",
       "        vertical-align: middle;\n",
       "    }\n",
       "\n",
       "    .dataframe tbody tr th {\n",
       "        vertical-align: top;\n",
       "    }\n",
       "\n",
       "    .dataframe thead th {\n",
       "        text-align: right;\n",
       "    }\n",
       "</style>\n",
       "<table border=\"1\" class=\"dataframe\">\n",
       "  <thead>\n",
       "    <tr style=\"text-align: right;\">\n",
       "      <th></th>\n",
       "      <th>발생년</th>\n",
       "      <th>발생년월일시</th>\n",
       "      <th>발생분</th>\n",
       "      <th>주야</th>\n",
       "      <th>요일</th>\n",
       "      <th>사망자수</th>\n",
       "      <th>사상자수</th>\n",
       "      <th>중상자수</th>\n",
       "      <th>경상자수</th>\n",
       "      <th>부상신고자수</th>\n",
       "      <th>...</th>\n",
       "      <th>도로형태_대분류</th>\n",
       "      <th>도로형태</th>\n",
       "      <th>당사자종별_1당_대분류</th>\n",
       "      <th>당사자종별_1당</th>\n",
       "      <th>당사자종별_2당_대분류</th>\n",
       "      <th>당사자종별_2당</th>\n",
       "      <th>발생위치X_UTMK</th>\n",
       "      <th>발생위치Y_UTMK</th>\n",
       "      <th>경도</th>\n",
       "      <th>위도</th>\n",
       "    </tr>\n",
       "  </thead>\n",
       "  <tbody>\n",
       "    <tr>\n",
       "      <th>0</th>\n",
       "      <td>2017</td>\n",
       "      <td>2017063023</td>\n",
       "      <td>14</td>\n",
       "      <td>야간</td>\n",
       "      <td>금</td>\n",
       "      <td>1</td>\n",
       "      <td>1</td>\n",
       "      <td>0</td>\n",
       "      <td>0</td>\n",
       "      <td>0</td>\n",
       "      <td>...</td>\n",
       "      <td>단일로</td>\n",
       "      <td>기타단일로</td>\n",
       "      <td>승용차</td>\n",
       "      <td>승용차</td>\n",
       "      <td>보행자</td>\n",
       "      <td>보행자</td>\n",
       "      <td>967633</td>\n",
       "      <td>1937456</td>\n",
       "      <td>127.134130</td>\n",
       "      <td>37.435704</td>\n",
       "    </tr>\n",
       "    <tr>\n",
       "      <th>1</th>\n",
       "      <td>2017</td>\n",
       "      <td>2017063021</td>\n",
       "      <td>45</td>\n",
       "      <td>야간</td>\n",
       "      <td>금</td>\n",
       "      <td>1</td>\n",
       "      <td>4</td>\n",
       "      <td>2</td>\n",
       "      <td>1</td>\n",
       "      <td>0</td>\n",
       "      <td>...</td>\n",
       "      <td>단일로</td>\n",
       "      <td>기타단일로</td>\n",
       "      <td>승용차</td>\n",
       "      <td>승용차</td>\n",
       "      <td>승용차</td>\n",
       "      <td>승용차</td>\n",
       "      <td>966456</td>\n",
       "      <td>1696405</td>\n",
       "      <td>127.131220</td>\n",
       "      <td>35.262534</td>\n",
       "    </tr>\n",
       "    <tr>\n",
       "      <th>2</th>\n",
       "      <td>2017</td>\n",
       "      <td>2017063021</td>\n",
       "      <td>50</td>\n",
       "      <td>야간</td>\n",
       "      <td>금</td>\n",
       "      <td>1</td>\n",
       "      <td>1</td>\n",
       "      <td>0</td>\n",
       "      <td>0</td>\n",
       "      <td>0</td>\n",
       "      <td>...</td>\n",
       "      <td>단일로</td>\n",
       "      <td>기타단일로</td>\n",
       "      <td>승용차</td>\n",
       "      <td>승용차</td>\n",
       "      <td>보행자</td>\n",
       "      <td>보행자</td>\n",
       "      <td>900057</td>\n",
       "      <td>1865697</td>\n",
       "      <td>126.379922</td>\n",
       "      <td>36.784142</td>\n",
       "    </tr>\n",
       "    <tr>\n",
       "      <th>3</th>\n",
       "      <td>2017</td>\n",
       "      <td>2017063019</td>\n",
       "      <td>10</td>\n",
       "      <td>야간</td>\n",
       "      <td>금</td>\n",
       "      <td>1</td>\n",
       "      <td>1</td>\n",
       "      <td>0</td>\n",
       "      <td>0</td>\n",
       "      <td>0</td>\n",
       "      <td>...</td>\n",
       "      <td>교차로</td>\n",
       "      <td>교차로부근</td>\n",
       "      <td>승용차</td>\n",
       "      <td>승용차</td>\n",
       "      <td>이륜차</td>\n",
       "      <td>이륜차</td>\n",
       "      <td>1095230</td>\n",
       "      <td>1764891</td>\n",
       "      <td>128.554945</td>\n",
       "      <td>35.875973</td>\n",
       "    </tr>\n",
       "    <tr>\n",
       "      <th>4</th>\n",
       "      <td>2017</td>\n",
       "      <td>2017063017</td>\n",
       "      <td>2</td>\n",
       "      <td>주간</td>\n",
       "      <td>금</td>\n",
       "      <td>1</td>\n",
       "      <td>2</td>\n",
       "      <td>1</td>\n",
       "      <td>0</td>\n",
       "      <td>0</td>\n",
       "      <td>...</td>\n",
       "      <td>단일로</td>\n",
       "      <td>교량위</td>\n",
       "      <td>이륜차</td>\n",
       "      <td>이륜차</td>\n",
       "      <td>화물차</td>\n",
       "      <td>화물차</td>\n",
       "      <td>947576</td>\n",
       "      <td>1946355</td>\n",
       "      <td>126.906786</td>\n",
       "      <td>37.514993</td>\n",
       "    </tr>\n",
       "  </tbody>\n",
       "</table>\n",
       "<p>5 rows × 27 columns</p>\n",
       "</div>"
      ],
      "text/plain": [
       "    발생년      발생년월일시  발생분  주야 요일  사망자수  사상자수  중상자수  경상자수  부상신고자수    ...      \\\n",
       "0  2017  2017063023   14  야간  금     1     1     0     0       0    ...       \n",
       "1  2017  2017063021   45  야간  금     1     4     2     1       0    ...       \n",
       "2  2017  2017063021   50  야간  금     1     1     0     0       0    ...       \n",
       "3  2017  2017063019   10  야간  금     1     1     0     0       0    ...       \n",
       "4  2017  2017063017    2  주간  금     1     2     1     0       0    ...       \n",
       "\n",
       "  도로형태_대분류   도로형태 당사자종별_1당_대분류 당사자종별_1당 당사자종별_2당_대분류 당사자종별_2당 발생위치X_UTMK  \\\n",
       "0      단일로  기타단일로          승용차      승용차          보행자      보행자     967633   \n",
       "1      단일로  기타단일로          승용차      승용차          승용차      승용차     966456   \n",
       "2      단일로  기타단일로          승용차      승용차          보행자      보행자     900057   \n",
       "3      교차로  교차로부근          승용차      승용차          이륜차      이륜차    1095230   \n",
       "4      단일로    교량위          이륜차      이륜차          화물차      화물차     947576   \n",
       "\n",
       "  발생위치Y_UTMK          경도         위도  \n",
       "0    1937456  127.134130  37.435704  \n",
       "1    1696405  127.131220  35.262534  \n",
       "2    1865697  126.379922  36.784142  \n",
       "3    1764891  128.554945  35.875973  \n",
       "4    1946355  126.906786  37.514993  \n",
       "\n",
       "[5 rows x 27 columns]"
      ]
     },
     "execution_count": 288,
     "metadata": {},
     "output_type": "execute_result"
    }
   ],
   "source": [
    "train = pd.read_csv(\"./Kor_Train_교통사망사고정보(12.1~17.6).csv\")\n",
    "print(train.shape)\n",
    "train.head()"
   ]
  },
  {
   "cell_type": "code",
   "execution_count": 289,
   "metadata": {},
   "outputs": [
    {
     "name": "stdout",
     "output_type": "stream",
     "text": [
      "(50, 16)\n"
     ]
    },
    {
     "data": {
      "text/html": [
       "<div>\n",
       "<style scoped>\n",
       "    .dataframe tbody tr th:only-of-type {\n",
       "        vertical-align: middle;\n",
       "    }\n",
       "\n",
       "    .dataframe tbody tr th {\n",
       "        vertical-align: top;\n",
       "    }\n",
       "\n",
       "    .dataframe thead th {\n",
       "        text-align: right;\n",
       "    }\n",
       "</style>\n",
       "<table border=\"1\" class=\"dataframe\">\n",
       "  <thead>\n",
       "    <tr style=\"text-align: right;\">\n",
       "      <th></th>\n",
       "      <th>주야</th>\n",
       "      <th>요일</th>\n",
       "      <th>사망자수</th>\n",
       "      <th>사상자수</th>\n",
       "      <th>중상자수</th>\n",
       "      <th>경상자수</th>\n",
       "      <th>부상신고자수</th>\n",
       "      <th>발생지시도</th>\n",
       "      <th>발생지시군구</th>\n",
       "      <th>사고유형_대분류</th>\n",
       "      <th>사고유형_중분류</th>\n",
       "      <th>법규위반</th>\n",
       "      <th>도로형태_대분류</th>\n",
       "      <th>도로형태</th>\n",
       "      <th>당사자종별_1당_대분류</th>\n",
       "      <th>당사자종별_2당_대분류</th>\n",
       "    </tr>\n",
       "  </thead>\n",
       "  <tbody>\n",
       "    <tr>\n",
       "      <th>0</th>\n",
       "      <td>야간</td>\n",
       "      <td>금</td>\n",
       "      <td>NaN</td>\n",
       "      <td>NaN</td>\n",
       "      <td>0.0</td>\n",
       "      <td>NaN</td>\n",
       "      <td>0.0</td>\n",
       "      <td>경기</td>\n",
       "      <td>화성시</td>\n",
       "      <td>차대차</td>\n",
       "      <td>측면충돌</td>\n",
       "      <td>중앙선 침범</td>\n",
       "      <td>단일로</td>\n",
       "      <td>기타단일로</td>\n",
       "      <td>승용차</td>\n",
       "      <td>승합차</td>\n",
       "    </tr>\n",
       "    <tr>\n",
       "      <th>1</th>\n",
       "      <td>야간</td>\n",
       "      <td>금</td>\n",
       "      <td>NaN</td>\n",
       "      <td>NaN</td>\n",
       "      <td>0.0</td>\n",
       "      <td>NaN</td>\n",
       "      <td>0.0</td>\n",
       "      <td>전남</td>\n",
       "      <td>영암군</td>\n",
       "      <td>차대사람</td>\n",
       "      <td>차도통행중</td>\n",
       "      <td>과속</td>\n",
       "      <td>단일로</td>\n",
       "      <td>기타단일로</td>\n",
       "      <td>승용차</td>\n",
       "      <td>보행자</td>\n",
       "    </tr>\n",
       "    <tr>\n",
       "      <th>2</th>\n",
       "      <td>야간</td>\n",
       "      <td>월</td>\n",
       "      <td>1.0</td>\n",
       "      <td>NaN</td>\n",
       "      <td>NaN</td>\n",
       "      <td>0.0</td>\n",
       "      <td>NaN</td>\n",
       "      <td>전남</td>\n",
       "      <td>곡성군</td>\n",
       "      <td>차량단독</td>\n",
       "      <td>전도전복</td>\n",
       "      <td>안전운전 의무 불이행</td>\n",
       "      <td>단일로</td>\n",
       "      <td>기타단일로</td>\n",
       "      <td>자전거</td>\n",
       "      <td>없음</td>\n",
       "    </tr>\n",
       "    <tr>\n",
       "      <th>3</th>\n",
       "      <td>야간</td>\n",
       "      <td>일</td>\n",
       "      <td>2.0</td>\n",
       "      <td>NaN</td>\n",
       "      <td>NaN</td>\n",
       "      <td>1.0</td>\n",
       "      <td>NaN</td>\n",
       "      <td>대구</td>\n",
       "      <td>달성군</td>\n",
       "      <td>차대차</td>\n",
       "      <td>측면충돌</td>\n",
       "      <td>중앙선 침범</td>\n",
       "      <td>단일로</td>\n",
       "      <td>기타단일로</td>\n",
       "      <td>승용차</td>\n",
       "      <td>승합차</td>\n",
       "    </tr>\n",
       "    <tr>\n",
       "      <th>4</th>\n",
       "      <td>주간</td>\n",
       "      <td>목</td>\n",
       "      <td>1.0</td>\n",
       "      <td>NaN</td>\n",
       "      <td>NaN</td>\n",
       "      <td>NaN</td>\n",
       "      <td>0.0</td>\n",
       "      <td>전남</td>\n",
       "      <td>고흥군</td>\n",
       "      <td>차대차</td>\n",
       "      <td>정면충돌</td>\n",
       "      <td>중앙선 침범</td>\n",
       "      <td>단일로</td>\n",
       "      <td>기타단일로</td>\n",
       "      <td>화물차</td>\n",
       "      <td>화물차</td>\n",
       "    </tr>\n",
       "  </tbody>\n",
       "</table>\n",
       "</div>"
      ],
      "text/plain": [
       "   주야 요일  사망자수  사상자수  중상자수  경상자수  부상신고자수 발생지시도 발생지시군구 사고유형_대분류 사고유형_중분류  \\\n",
       "0  야간  금   NaN   NaN   0.0   NaN     0.0    경기    화성시      차대차     측면충돌   \n",
       "1  야간  금   NaN   NaN   0.0   NaN     0.0    전남    영암군     차대사람    차도통행중   \n",
       "2  야간  월   1.0   NaN   NaN   0.0     NaN    전남    곡성군     차량단독     전도전복   \n",
       "3  야간  일   2.0   NaN   NaN   1.0     NaN    대구    달성군      차대차     측면충돌   \n",
       "4  주간  목   1.0   NaN   NaN   NaN     0.0    전남    고흥군      차대차     정면충돌   \n",
       "\n",
       "          법규위반 도로형태_대분류   도로형태 당사자종별_1당_대분류 당사자종별_2당_대분류  \n",
       "0       중앙선 침범      단일로  기타단일로          승용차          승합차  \n",
       "1           과속      단일로  기타단일로          승용차          보행자  \n",
       "2  안전운전 의무 불이행      단일로  기타단일로          자전거           없음  \n",
       "3       중앙선 침범      단일로  기타단일로          승용차          승합차  \n",
       "4       중앙선 침범      단일로  기타단일로          화물차          화물차  "
      ]
     },
     "execution_count": 289,
     "metadata": {},
     "output_type": "execute_result"
    }
   ],
   "source": [
    "test = pd.read_csv(\"./test_kor.csv\")\n",
    "print(test.shape)\n",
    "test.head()"
   ]
  },
  {
   "cell_type": "markdown",
   "metadata": {},
   "source": [
    "## fillin_사고유형_대분류"
   ]
  },
  {
   "cell_type": "code",
   "execution_count": 4,
   "metadata": {},
   "outputs": [],
   "source": [
    "# feature columns : 당사종별_2당_대분류"
   ]
  },
  {
   "cell_type": "code",
   "execution_count": 5,
   "metadata": {},
   "outputs": [],
   "source": [
    "train[\"당사자종별_2당_대분류_보행자\"] = train[\"당사자종별_2당_대분류\"] == \"보행자\"\n",
    "train[\"당사자종별_2당_대분류_없음\"] = train[\"당사자종별_2당_대분류\"] == \"없음\"\n",
    "\n",
    "test[\"당사자종별_2당_대분류_보행자\"] = test[\"당사자종별_2당_대분류\"] == \"보행자\"\n",
    "test[\"당사자종별_2당_대분류_없음\"] = test[\"당사자종별_2당_대분류\"] == \"없음\""
   ]
  },
  {
   "cell_type": "code",
   "execution_count": 6,
   "metadata": {},
   "outputs": [],
   "source": [
    "feature_names = [\"당사자종별_2당_대분류_보행자\", \"당사자종별_2당_대분류_없음\"]\n",
    "label_name = \"사고유형_대분류\""
   ]
  },
  {
   "cell_type": "code",
   "execution_count": 7,
   "metadata": {},
   "outputs": [],
   "source": [
    "X_train = train[feature_names]\n",
    "y_train = train[label_name]\n",
    "X_test = test[feature_names]"
   ]
  },
  {
   "cell_type": "code",
   "execution_count": 8,
   "metadata": {},
   "outputs": [],
   "source": [
    "model = xgb.XGBClassifier()"
   ]
  },
  {
   "cell_type": "code",
   "execution_count": 9,
   "metadata": {},
   "outputs": [
    {
     "data": {
      "text/plain": [
       "XGBClassifier(base_score=0.5, booster='gbtree', colsample_bylevel=1,\n",
       "       colsample_bytree=1, gamma=0, learning_rate=0.1, max_delta_step=0,\n",
       "       max_depth=3, min_child_weight=1, missing=None, n_estimators=100,\n",
       "       n_jobs=1, nthread=None, objective='multi:softprob', random_state=0,\n",
       "       reg_alpha=0, reg_lambda=1, scale_pos_weight=1, seed=None,\n",
       "       silent=True, subsample=1)"
      ]
     },
     "execution_count": 9,
     "metadata": {},
     "output_type": "execute_result"
    }
   ],
   "source": [
    "model.fit(X_train, y_train)"
   ]
  },
  {
   "cell_type": "code",
   "execution_count": 10,
   "metadata": {},
   "outputs": [
    {
     "name": "stderr",
     "output_type": "stream",
     "text": [
      "/Users/PJS/anaconda3/lib/python3.6/site-packages/sklearn/preprocessing/label.py:151: DeprecationWarning: The truth value of an empty array is ambiguous. Returning False, but in future this will result in an error. Use `array.size > 0` to check that an array is not empty.\n",
      "  if diff:\n"
     ]
    }
   ],
   "source": [
    "predictions = model.predict(X_test)\n",
    "test[\"result_사고유형_대분류\"] = predictions\n",
    "test.loc[test[\"사고유형_대분류\"].isnull(), \"사고유형_대분류\"] = test[\"result_사고유형_대분류\"]"
   ]
  },
  {
   "cell_type": "markdown",
   "metadata": {},
   "source": [
    "## fillin_도로형태_대분류"
   ]
  },
  {
   "cell_type": "markdown",
   "metadata": {},
   "source": [
    "### part1"
   ]
  },
  {
   "cell_type": "code",
   "execution_count": 11,
   "metadata": {},
   "outputs": [],
   "source": [
    "# feature columns : 도로형태"
   ]
  },
  {
   "cell_type": "code",
   "execution_count": 12,
   "metadata": {},
   "outputs": [],
   "source": [
    "train[\"도로형태_단일로\"] = train[\"도로형태\"].str.contains(\"단일로\")\n",
    "train[\"도로형태_교차로\"] = train[\"도로형태\"].str.contains(\"교차로\")\n",
    "\n",
    "test[\"도로형태_단일로\"] = test[\"도로형태\"].str.contains(\"단일로\")\n",
    "test[\"도로형태_교차로\"] = test[\"도로형태\"].str.contains(\"교차로\")"
   ]
  },
  {
   "cell_type": "code",
   "execution_count": 13,
   "metadata": {},
   "outputs": [],
   "source": [
    "train.loc[train[\"도로형태_단일로\"].isnull(), \"도로형태_단일로\"] = False\n",
    "train.loc[train[\"도로형태_교차로\"].isnull(), \"도로형태_교차로\"] = False\n",
    "\n",
    "test.loc[test[\"도로형태_단일로\"].isnull(), \"도로형태_단일로\"] = False\n",
    "test.loc[test[\"도로형태_교차로\"].isnull(), \"도로형태_교차로\"] = False"
   ]
  },
  {
   "cell_type": "code",
   "execution_count": 14,
   "metadata": {},
   "outputs": [],
   "source": [
    "feature_names = [\"도로형태_단일로\", \"도로형태_교차로\"]\n",
    "label_name = \"도로형태_대분류\""
   ]
  },
  {
   "cell_type": "code",
   "execution_count": 15,
   "metadata": {},
   "outputs": [],
   "source": [
    "X_train = train[feature_names]\n",
    "y_train = train[label_name]\n",
    "X_test = test[feature_names]"
   ]
  },
  {
   "cell_type": "code",
   "execution_count": 16,
   "metadata": {},
   "outputs": [
    {
     "data": {
      "text/plain": [
       "XGBClassifier(base_score=0.5, booster='gbtree', colsample_bylevel=1,\n",
       "       colsample_bytree=1, gamma=0, learning_rate=0.1, max_delta_step=0,\n",
       "       max_depth=3, min_child_weight=1, missing=None, n_estimators=100,\n",
       "       n_jobs=1, nthread=None, objective='multi:softprob', random_state=0,\n",
       "       reg_alpha=0, reg_lambda=1, scale_pos_weight=1, seed=None,\n",
       "       silent=True, subsample=1)"
      ]
     },
     "execution_count": 16,
     "metadata": {},
     "output_type": "execute_result"
    }
   ],
   "source": [
    "model.fit(X_train, y_train)"
   ]
  },
  {
   "cell_type": "code",
   "execution_count": 17,
   "metadata": {},
   "outputs": [
    {
     "name": "stderr",
     "output_type": "stream",
     "text": [
      "/Users/PJS/anaconda3/lib/python3.6/site-packages/sklearn/preprocessing/label.py:151: DeprecationWarning: The truth value of an empty array is ambiguous. Returning False, but in future this will result in an error. Use `array.size > 0` to check that an array is not empty.\n",
      "  if diff:\n"
     ]
    }
   ],
   "source": [
    "predictions = model.predict(X_test)\n",
    "test[\"result_도로형태_대분류\"] = predictions\n",
    "test.loc[(test[\"도로형태_대분류\"].isnull()) & (test[\"도로형태\"].notnull()), \"도로형태_대분류\"] = test[\"result_도로형태_대분류\"]"
   ]
  },
  {
   "cell_type": "markdown",
   "metadata": {},
   "source": [
    "### part2"
   ]
  },
  {
   "cell_type": "code",
   "execution_count": 18,
   "metadata": {},
   "outputs": [],
   "source": [
    "# feature columns : 사고유형_중분류, 법규위반"
   ]
  },
  {
   "cell_type": "code",
   "execution_count": 19,
   "metadata": {},
   "outputs": [
    {
     "data": {
      "text/plain": [
       "<matplotlib.axes._subplots.AxesSubplot at 0x110a0a710>"
      ]
     },
     "execution_count": 19,
     "metadata": {},
     "output_type": "execute_result"
    },
    {
     "data": {
      "image/png": "[encoded data removed]",
      "text/plain": [
       "<Figure size 1080x595.44 with 1 Axes>"
      ]
     },
     "metadata": {},
     "output_type": "display_data"
    }
   ],
   "source": [
    "fig, ax = plt.subplots()\n",
    "fig.set_size_inches(15, 8.27)  \n",
    "sns.countplot(data=train, x=\"도로형태_대분류\")"
   ]
  },
  {
   "cell_type": "code",
   "execution_count": 20,
   "metadata": {},
   "outputs": [
    {
     "data": {
      "text/plain": [
       "<matplotlib.axes._subplots.AxesSubplot at 0x110d88240>"
      ]
     },
     "execution_count": 20,
     "metadata": {},
     "output_type": "execute_result"
    },
    {
     "data": {
      "image/png": "[encoded data removed]",
      "text/plain": [
       "<Figure size 720x288 with 1 Axes>"
      ]
     },
     "metadata": {},
     "output_type": "display_data"
    }
   ],
   "source": [
    "fig, ax = plt.subplots()\n",
    "fig.set_size_inches(10, 4)  \n",
    "sns.countplot(data=test, x=\"도로형태_대분류\")"
   ]
  },
  {
   "cell_type": "code",
   "execution_count": 21,
   "metadata": {},
   "outputs": [],
   "source": [
    "train_단일로 = train.loc[train[\"도로형태_대분류\"] == \"단일로\"]\n",
    "train_교차로 = train.loc[train[\"도로형태_대분류\"] == \"교차로\"]"
   ]
  },
  {
   "cell_type": "code",
   "execution_count": 22,
   "metadata": {},
   "outputs": [
    {
     "data": {
      "text/plain": [
       "<matplotlib.axes._subplots.AxesSubplot at 0x109b6bd68>"
      ]
     },
     "execution_count": 22,
     "metadata": {},
     "output_type": "execute_result"
    },
    {
     "data": {
      "image/png": "[encoded data removed]",
      "text/plain": [
       "<Figure size 1728x288 with 1 Axes>"
      ]
     },
     "metadata": {},
     "output_type": "display_data"
    }
   ],
   "source": [
    "fig, ax = plt.subplots()\n",
    "fig.set_size_inches(24, 4)\n",
    "sns.countplot(data=train_단일로, x=\"사고유형_중분류\")"
   ]
  },
  {
   "cell_type": "code",
   "execution_count": 23,
   "metadata": {},
   "outputs": [
    {
     "data": {
      "text/plain": [
       "<matplotlib.axes._subplots.AxesSubplot at 0x111ec0e80>"
      ]
     },
     "execution_count": 23,
     "metadata": {},
     "output_type": "execute_result"
    },
    {
     "data": {
      "image/png": "[encoded data removed]",
      "text/plain": [
       "<Figure size 1728x288 with 1 Axes>"
      ]
     },
     "metadata": {},
     "output_type": "display_data"
    }
   ],
   "source": [
    "fig, ax = plt.subplots()\n",
    "fig.set_size_inches(24, 4)\n",
    "sns.countplot(data=train_교차로, x=\"사고유형_중분류\")"
   ]
  },
  {
   "cell_type": "code",
   "execution_count": 24,
   "metadata": {},
   "outputs": [
    {
     "data": {
      "text/plain": [
       "<matplotlib.axes._subplots.AxesSubplot at 0x1137d0a20>"
      ]
     },
     "execution_count": 24,
     "metadata": {},
     "output_type": "execute_result"
    },
    {
     "data": {
      "image/png": "[encoded data removed]",
      "text/plain": [
       "<Figure size 1728x576 with 1 Axes>"
      ]
     },
     "metadata": {},
     "output_type": "display_data"
    }
   ],
   "source": [
    "fig, ax = plt.subplots()\n",
    "fig.set_size_inches(24, 8)\n",
    "sns.countplot(data=train_단일로, x=\"법규위반\")"
   ]
  },
  {
   "cell_type": "code",
   "execution_count": 25,
   "metadata": {},
   "outputs": [
    {
     "data": {
      "text/plain": [
       "<matplotlib.axes._subplots.AxesSubplot at 0x1a1d9ce9b0>"
      ]
     },
     "execution_count": 25,
     "metadata": {},
     "output_type": "execute_result"
    },
    {
     "data": {
      "image/png": "[encoded data removed]",
      "text/plain": [
       "<Figure size 1728x576 with 1 Axes>"
      ]
     },
     "metadata": {},
     "output_type": "display_data"
    }
   ],
   "source": [
    "fig, ax = plt.subplots()\n",
    "fig.set_size_inches(24, 8)\n",
    "sns.countplot(data=train_교차로, x=\"법규위반\")"
   ]
  },
  {
   "cell_type": "code",
   "execution_count": 26,
   "metadata": {},
   "outputs": [],
   "source": [
    "train[\"사고유형_중분류_측면충돌\"] = train[\"사고유형_중분류\"] == \"측면충돌\"\n",
    "\n",
    "test[\"사고유형_중분류_측면충돌\"] = test[\"사고유형_중분류\"] == \"측면충돌\""
   ]
  },
  {
   "cell_type": "code",
   "execution_count": 27,
   "metadata": {},
   "outputs": [],
   "source": [
    "train[\"법규위반_신호위반\"] = train[\"법규위반\"] == \"신호위반\"\n",
    "\n",
    "test[\"법규위반_신호위반\"] = test[\"법규위반\"] == \"신호위반\""
   ]
  },
  {
   "cell_type": "code",
   "execution_count": 28,
   "metadata": {},
   "outputs": [],
   "source": [
    "feature_names = [\"사고유형_중분류_측면충돌\", \"법규위반_신호위반\"]\n",
    "label_name = \"도로형태_대분류\""
   ]
  },
  {
   "cell_type": "code",
   "execution_count": 29,
   "metadata": {},
   "outputs": [],
   "source": [
    "X_train = train[feature_names]\n",
    "y_train = train[label_name]\n",
    "X_test = test[feature_names]"
   ]
  },
  {
   "cell_type": "code",
   "execution_count": 30,
   "metadata": {},
   "outputs": [
    {
     "data": {
      "text/plain": [
       "XGBClassifier(base_score=0.5, booster='gbtree', colsample_bylevel=1,\n",
       "       colsample_bytree=1, gamma=0, learning_rate=0.1, max_delta_step=0,\n",
       "       max_depth=3, min_child_weight=1, missing=None, n_estimators=100,\n",
       "       n_jobs=1, nthread=None, objective='multi:softprob', random_state=0,\n",
       "       reg_alpha=0, reg_lambda=1, scale_pos_weight=1, seed=None,\n",
       "       silent=True, subsample=1)"
      ]
     },
     "execution_count": 30,
     "metadata": {},
     "output_type": "execute_result"
    }
   ],
   "source": [
    "model.fit(X_train, y_train)"
   ]
  },
  {
   "cell_type": "code",
   "execution_count": 31,
   "metadata": {},
   "outputs": [
    {
     "name": "stderr",
     "output_type": "stream",
     "text": [
      "/Users/PJS/anaconda3/lib/python3.6/site-packages/sklearn/preprocessing/label.py:151: DeprecationWarning: The truth value of an empty array is ambiguous. Returning False, but in future this will result in an error. Use `array.size > 0` to check that an array is not empty.\n",
      "  if diff:\n"
     ]
    }
   ],
   "source": [
    "predictions = model.predict(X_test)\n",
    "test[\"result_도로형태_대분류\"] = predictions\n",
    "test.loc[test[\"도로형태_대분류\"].isnull(), \"도로형태_대분류\"] = test[\"result_도로형태_대분류\"]"
   ]
  },
  {
   "cell_type": "markdown",
   "metadata": {},
   "source": [
    "## fillin_도로형태"
   ]
  },
  {
   "cell_type": "code",
   "execution_count": 32,
   "metadata": {},
   "outputs": [],
   "source": [
    "# feature colums : 도로형태_대분류, 법규위반"
   ]
  },
  {
   "cell_type": "code",
   "execution_count": 33,
   "metadata": {},
   "outputs": [],
   "source": [
    "train[\"도로형태_대분류_단일로\"] = train[\"도로형태_대분류\"] == \"단일로\"\n",
    "train[\"도로형태_대분류_교차로\"] = train[\"도로형태_대분류\"] == \"교차로\"\n",
    "\n",
    "test[\"도로형태_대분류_단일로\"] = test[\"도로형태_대분류\"] == \"단일로\"\n",
    "test[\"도로형태_대분류_교차로\"] = test[\"도로형태_대분류\"] == \"교차로\""
   ]
  },
  {
   "cell_type": "code",
   "execution_count": 34,
   "metadata": {},
   "outputs": [],
   "source": [
    "train[\"법규위반_보행자 보호의무 위반\"] = train[\"법규위반\"] == \"보행자 보호의무 위반\"\n",
    "\n",
    "test[\"법규위반_보행자 보호의무 위반\"] = test[\"법규위반\"] == \"보행자 보호의무 위반\""
   ]
  },
  {
   "cell_type": "code",
   "execution_count": 35,
   "metadata": {},
   "outputs": [],
   "source": [
    "feature_names = [\"도로형태_대분류_단일로\", \"도로형태_대분류_교차로\", \"법규위반_보행자 보호의무 위반\"]\n",
    "label_name = \"도로형태\""
   ]
  },
  {
   "cell_type": "code",
   "execution_count": 36,
   "metadata": {},
   "outputs": [],
   "source": [
    "X_train = train[feature_names]\n",
    "y_train = train[label_name]\n",
    "X_test = test[feature_names]"
   ]
  },
  {
   "cell_type": "code",
   "execution_count": 37,
   "metadata": {},
   "outputs": [
    {
     "data": {
      "text/plain": [
       "XGBClassifier(base_score=0.5, booster='gbtree', colsample_bylevel=1,\n",
       "       colsample_bytree=1, gamma=0, learning_rate=0.1, max_delta_step=0,\n",
       "       max_depth=3, min_child_weight=1, missing=None, n_estimators=100,\n",
       "       n_jobs=1, nthread=None, objective='multi:softprob', random_state=0,\n",
       "       reg_alpha=0, reg_lambda=1, scale_pos_weight=1, seed=None,\n",
       "       silent=True, subsample=1)"
      ]
     },
     "execution_count": 37,
     "metadata": {},
     "output_type": "execute_result"
    }
   ],
   "source": [
    "model.fit(X_train, y_train)"
   ]
  },
  {
   "cell_type": "code",
   "execution_count": 38,
   "metadata": {},
   "outputs": [
    {
     "name": "stderr",
     "output_type": "stream",
     "text": [
      "/Users/PJS/anaconda3/lib/python3.6/site-packages/sklearn/preprocessing/label.py:151: DeprecationWarning: The truth value of an empty array is ambiguous. Returning False, but in future this will result in an error. Use `array.size > 0` to check that an array is not empty.\n",
      "  if diff:\n"
     ]
    }
   ],
   "source": [
    "predictions = model.predict(X_test)\n",
    "test[\"result_도로형태\"] = predictions\n",
    "test.loc[test[\"도로형태\"].isnull(), \"도로형태\"] = test[\"result_도로형태\"]"
   ]
  },
  {
   "cell_type": "markdown",
   "metadata": {},
   "source": [
    "## fillin_당사자종별_2당_대분류"
   ]
  },
  {
   "cell_type": "code",
   "execution_count": 39,
   "metadata": {},
   "outputs": [],
   "source": [
    "# feature colums : 사상자수, 사고유형_대분류, 사고유형_중분류, 법규위반"
   ]
  },
  {
   "cell_type": "code",
   "execution_count": 40,
   "metadata": {},
   "outputs": [
    {
     "data": {
      "text/plain": [
       "<matplotlib.axes._subplots.AxesSubplot at 0x1a1e0e7438>"
      ]
     },
     "execution_count": 40,
     "metadata": {},
     "output_type": "execute_result"
    },
    {
     "data": {
      "image/png": "[encoded data removed]",
      "text/plain": [
       "<Figure size 864x432 with 1 Axes>"
      ]
     },
     "metadata": {},
     "output_type": "display_data"
    }
   ],
   "source": [
    "fig, ax = plt.subplots()\n",
    "fig.set_size_inches(12, 6)\n",
    "sns.countplot(data=train, x=\"사고유형_대분류\")"
   ]
  },
  {
   "cell_type": "code",
   "execution_count": 41,
   "metadata": {},
   "outputs": [],
   "source": [
    "train[\"사고유형_대분류_차대차\"] = train[\"사고유형_대분류\"] == \"차대차\"\n",
    "train[\"사고유형_대분류_차대사람\"] = train[\"사고유형_대분류\"] == \"차대사람\"\n",
    "train[\"사고유형_대분류_차량단독\"] = train[\"사고유형_대분류\"] == \"차량단독\"\n",
    "\n",
    "test[\"사고유형_대분류_차대차\"] = test[\"사고유형_대분류\"] == \"차대차\"\n",
    "test[\"사고유형_대분류_차대사람\"] = test[\"사고유형_대분류\"] == \"차대사람\"\n",
    "test[\"사고유형_대분류_차량단독\"] = test[\"사고유형_대분류\"] == \"차량단독\""
   ]
  },
  {
   "cell_type": "code",
   "execution_count": 42,
   "metadata": {},
   "outputs": [],
   "source": [
    "train[\"사고유형_중분류_추돌\"] = train[\"사고유형_중분류\"] == \"추돌\"\n",
    "train[\"사고유형_중분류_측면충돌\"] = train[\"사고유형_중분류\"] == \"측면충돌\"\n",
    "train[\"사고유형_중분류_기타\"] = train[\"사고유형_중분류\"] == \"기타\"\n",
    "train[\"사고유형_중분류_공작물충돌\"] = train[\"사고유형_중분류\"] == \"공작물충돌\"\n",
    "\n",
    "test[\"사고유형_중분류_추돌\"] = test[\"사고유형_중분류\"] == \"추돌\"\n",
    "test[\"사고유형_중분류_측면충돌\"] = test[\"사고유형_중분류\"] == \"측면충돌\"\n",
    "test[\"사고유형_중분류_기타\"] = test[\"사고유형_중분류\"] == \"기타\"\n",
    "test[\"사고유형_중분류_공작물충돌\"] = test[\"사고유형_중분류\"] == \"공작물충돌\""
   ]
  },
  {
   "cell_type": "code",
   "execution_count": 43,
   "metadata": {},
   "outputs": [],
   "source": [
    "train[\"법규위반_안전운전 의무 불이행\"] = train[\"법규위반\"] == \"안전운전 의무 불이행\"\n",
    "train[\"법규위반_신호위반\"] = train[\"법규위반\"] == \"신호위반\"\n",
    "train[\"법규위반_보행자 보호의무 위반\"] = train[\"법규위반\"] == \"보행자 보호의무 위반\"\n",
    "train[\"법규위반_과속\"] = train[\"법규위반\"] == \"과속\"\n",
    "\n",
    "test[\"법규위반_안전운전 의무 불이행\"] = test[\"법규위반\"] == \"안전운전 의무 불이행\"\n",
    "test[\"법규위반_신호위반\"] = test[\"법규위반\"] == \"신호위반\"\n",
    "test[\"법규위반_보행자 보호의무 위반\"] = test[\"법규위반\"] == \"보행자 보호의무 위반\"\n",
    "test[\"법규위반_과속\"] = test[\"법규위반\"] == \"과속\""
   ]
  },
  {
   "cell_type": "code",
   "execution_count": 44,
   "metadata": {},
   "outputs": [],
   "source": [
    "feature_names = [\"사상자수\", \"사고유형_대분류_차대차\", \"사고유형_대분류_차대사람\", \"사고유형_대분류_차량단독\", \"사고유형_중분류_추돌\", \"사고유형_중분류_측면충돌\", \"사고유형_중분류_기타\", \"사고유형_중분류_공작물충돌\", \"법규위반_안전운전 의무 불이행\", \"법규위반_신호위반\", \"법규위반_보행자 보호의무 위반\", \"법규위반_과속\"]\n",
    "label_name = \"당사자종별_2당_대분류\""
   ]
  },
  {
   "cell_type": "code",
   "execution_count": 45,
   "metadata": {},
   "outputs": [],
   "source": [
    "X_train = train[feature_names]\n",
    "y_train = train[label_name]\n",
    "X_test = test[feature_names]"
   ]
  },
  {
   "cell_type": "code",
   "execution_count": 46,
   "metadata": {},
   "outputs": [
    {
     "data": {
      "text/plain": [
       "XGBClassifier(base_score=0.5, booster='gbtree', colsample_bylevel=1,\n",
       "       colsample_bytree=1, gamma=0, learning_rate=0.1, max_delta_step=0,\n",
       "       max_depth=3, min_child_weight=1, missing=None, n_estimators=100,\n",
       "       n_jobs=1, nthread=None, objective='multi:softprob', random_state=0,\n",
       "       reg_alpha=0, reg_lambda=1, scale_pos_weight=1, seed=None,\n",
       "       silent=True, subsample=1)"
      ]
     },
     "execution_count": 46,
     "metadata": {},
     "output_type": "execute_result"
    }
   ],
   "source": [
    "model.fit(X_train, y_train)"
   ]
  },
  {
   "cell_type": "code",
   "execution_count": 47,
   "metadata": {},
   "outputs": [
    {
     "name": "stderr",
     "output_type": "stream",
     "text": [
      "/Users/PJS/anaconda3/lib/python3.6/site-packages/sklearn/preprocessing/label.py:151: DeprecationWarning: The truth value of an empty array is ambiguous. Returning False, but in future this will result in an error. Use `array.size > 0` to check that an array is not empty.\n",
      "  if diff:\n"
     ]
    }
   ],
   "source": [
    "predictions = model.predict(X_test)\n",
    "test[\"result_당사자종별_2당_대분류\"] = predictions\n",
    "test.loc[test[\"당사자종별_2당_대분류\"].isnull(), \"당사자종별_2당_대분류\"] = test[\"result_당사자종별_2당_대분류\"]"
   ]
  },
  {
   "cell_type": "markdown",
   "metadata": {},
   "source": [
    "## fillin_당사자종별_1당_대분류"
   ]
  },
  {
   "cell_type": "code",
   "execution_count": 48,
   "metadata": {},
   "outputs": [],
   "source": [
    "# feature colums : 사상자수, 사고유형_대분류, 사고유형_중분류, 법규위반, 당사자종별_2당_대분류"
   ]
  },
  {
   "cell_type": "code",
   "execution_count": 49,
   "metadata": {},
   "outputs": [],
   "source": [
    "train[\"사고유형_대분류_차대차\"] = train[\"사고유형_대분류\"] == \"차대차\"\n",
    "train[\"사고유형_대분류_차대사람\"] = train[\"사고유형_대분류\"] == \"차대사람\"\n",
    "train[\"사고유형_대분류_차량단독\"] = train[\"사고유형_대분류\"] == \"차량단독\"\n",
    "\n",
    "test[\"사고유형_대분류_차대차\"] = test[\"사고유형_대분류\"] == \"차대차\"\n",
    "test[\"사고유형_대분류_차대사람\"] = test[\"사고유형_대분류\"] == \"차대사람\"\n",
    "test[\"사고유형_대분류_차량단독\"] = test[\"사고유형_대분류\"] == \"차량단독\""
   ]
  },
  {
   "cell_type": "code",
   "execution_count": 50,
   "metadata": {},
   "outputs": [],
   "source": [
    "train[\"사고유형_중분류_추돌\"] = train[\"사고유형_중분류\"] == \"추돌\"\n",
    "train[\"사고유형_중분류_측면충돌\"] = train[\"사고유형_중분류\"] == \"측면충돌\"\n",
    "train[\"사고유형_중분류_기타\"] = train[\"사고유형_중분류\"] == \"기타\"\n",
    "train[\"사고유형_중분류_공작물충돌\"] = train[\"사고유형_중분류\"] == \"공작물충돌\"\n",
    "\n",
    "test[\"사고유형_중분류_추돌\"] = test[\"사고유형_중분류\"] == \"추돌\"\n",
    "test[\"사고유형_중분류_측면충돌\"] = test[\"사고유형_중분류\"] == \"측면충돌\"\n",
    "test[\"사고유형_중분류_기타\"] = test[\"사고유형_중분류\"] == \"기타\"\n",
    "test[\"사고유형_중분류_공작물충돌\"] = test[\"사고유형_중분류\"] == \"공작물충돌\""
   ]
  },
  {
   "cell_type": "code",
   "execution_count": 51,
   "metadata": {},
   "outputs": [],
   "source": [
    "train[\"법규위반_안전운전 의무 불이행\"] = train[\"법규위반\"] == \"안전운전 의무 불이행\"\n",
    "train[\"법규위반_신호위반\"] = train[\"법규위반\"] == \"신호위반\"\n",
    "train[\"법규위반_보행자 보호의무 위반\"] = train[\"법규위반\"] == \"보행자 보호의무 위반\"\n",
    "train[\"법규위반_과속\"] = train[\"법규위반\"] == \"과속\"\n",
    "train[\"법규위반_부당한 회전\"] = train[\"법규위반\"] == \"부당한 회전\"\n",
    "\n",
    "test[\"법규위반_안전운전 의무 불이행\"] = test[\"법규위반\"] == \"안전운전 의무 불이행\"\n",
    "test[\"법규위반_신호위반\"] = test[\"법규위반\"] == \"신호위반\"\n",
    "test[\"법규위반_보행자 보호의무 위반\"] = test[\"법규위반\"] == \"보행자 보호의무 위반\"\n",
    "test[\"법규위반_과속\"] = test[\"법규위반\"] == \"과속\"\n",
    "test[\"법규위반_부당한 회전\"] = test[\"법규위반\"] == \"부당한 회전\""
   ]
  },
  {
   "cell_type": "code",
   "execution_count": 52,
   "metadata": {},
   "outputs": [],
   "source": [
    "train[\"당사자종별_2당_대분류_승용차\"] = train[\"당사자종별_2당_대분류\"] == \"승용차\"\n",
    "train[\"당사자종별_2당_대분류_화물차\"] = train[\"당사자종별_2당_대분류\"] == \"화물차\"\n",
    "train[\"당사자종별_2당_대분류_보행자\"] = train[\"당사자종별_2당_대분류\"] == \"보행자\"\n",
    "train[\"당사자종별_2당_대분류_없음\"] = train[\"당사자종별_2당_대분류\"] == \"없음\"\n",
    "\n",
    "test[\"당사자종별_2당_대분류_승용차\"] = test[\"당사자종별_2당_대분류\"] == \"승용차\"\n",
    "test[\"당사자종별_2당_대분류_화물차\"] = test[\"당사자종별_2당_대분류\"] == \"화물차\"\n",
    "test[\"당사자종별_2당_대분류_보행자\"] = test[\"당사자종별_2당_대분류\"] == \"보행자\"\n",
    "test[\"당사자종별_2당_대분류_없음\"] = test[\"당사자종별_2당_대분류\"] == \"없음\""
   ]
  },
  {
   "cell_type": "code",
   "execution_count": 53,
   "metadata": {},
   "outputs": [],
   "source": [
    "feature_names = [\"사상자수\", \"사고유형_대분류_차대차\", \"사고유형_대분류_차대사람\", \"사고유형_대분류_차량단독\", \"사고유형_중분류_추돌\", \"사고유형_중분류_측면충돌\", \"사고유형_중분류_기타\", \"사고유형_중분류_공작물충돌\", \"법규위반_안전운전 의무 불이행\", \"법규위반_신호위반\", \"법규위반_보행자 보호의무 위반\", \"법규위반_과속\", \"법규위반_부당한 회전\", \"당사자종별_2당_대분류_승용차\", \"당사자종별_2당_대분류_화물차\", \"당사자종별_2당_대분류_보행자\", \"당사자종별_2당_대분류_없음\"]\n",
    "label_name = \"당사자종별_1당_대분류\""
   ]
  },
  {
   "cell_type": "code",
   "execution_count": 54,
   "metadata": {},
   "outputs": [],
   "source": [
    "X_train = train[feature_names]\n",
    "y_train = train[label_name]\n",
    "X_test = test[feature_names]"
   ]
  },
  {
   "cell_type": "code",
   "execution_count": 55,
   "metadata": {},
   "outputs": [
    {
     "data": {
      "text/plain": [
       "['사상자수',\n",
       " '사고유형_대분류_차대차',\n",
       " '사고유형_대분류_차대사람',\n",
       " '사고유형_대분류_차량단독',\n",
       " '사고유형_중분류_추돌',\n",
       " '사고유형_중분류_측면충돌',\n",
       " '사고유형_중분류_기타',\n",
       " '사고유형_중분류_공작물충돌',\n",
       " '법규위반_안전운전 의무 불이행',\n",
       " '법규위반_신호위반',\n",
       " '법규위반_보행자 보호의무 위반',\n",
       " '법규위반_과속',\n",
       " '법규위반_부당한 회전',\n",
       " '당사자종별_2당_대분류_승용차',\n",
       " '당사자종별_2당_대분류_화물차',\n",
       " '당사자종별_2당_대분류_보행자',\n",
       " '당사자종별_2당_대분류_없음']"
      ]
     },
     "execution_count": 55,
     "metadata": {},
     "output_type": "execute_result"
    }
   ],
   "source": [
    "feature_names"
   ]
  },
  {
   "cell_type": "code",
   "execution_count": 56,
   "metadata": {},
   "outputs": [
    {
     "data": {
      "text/plain": [
       "XGBClassifier(base_score=0.5, booster='gbtree', colsample_bylevel=1,\n",
       "       colsample_bytree=1, gamma=0, learning_rate=0.1, max_delta_step=0,\n",
       "       max_depth=3, min_child_weight=1, missing=None, n_estimators=100,\n",
       "       n_jobs=1, nthread=None, objective='multi:softprob', random_state=0,\n",
       "       reg_alpha=0, reg_lambda=1, scale_pos_weight=1, seed=None,\n",
       "       silent=True, subsample=1)"
      ]
     },
     "execution_count": 56,
     "metadata": {},
     "output_type": "execute_result"
    }
   ],
   "source": [
    "model.fit(X_train, y_train)"
   ]
  },
  {
   "cell_type": "code",
   "execution_count": 57,
   "metadata": {},
   "outputs": [
    {
     "name": "stderr",
     "output_type": "stream",
     "text": [
      "/Users/PJS/anaconda3/lib/python3.6/site-packages/sklearn/preprocessing/label.py:151: DeprecationWarning: The truth value of an empty array is ambiguous. Returning False, but in future this will result in an error. Use `array.size > 0` to check that an array is not empty.\n",
      "  if diff:\n"
     ]
    }
   ],
   "source": [
    "predictions = model.predict(X_test)\n",
    "test[\"result_당사자종별_1당_대분류\"] = predictions\n",
    "test.loc[test[\"당사자종별_1당_대분류\"].isnull(), \"당사자종별_1당_대분류\"] = test[\"result_당사자종별_1당_대분류\"]"
   ]
  },
  {
   "cell_type": "markdown",
   "metadata": {},
   "source": [
    "## fillin_법규위반"
   ]
  },
  {
   "cell_type": "code",
   "execution_count": 58,
   "metadata": {},
   "outputs": [],
   "source": [
    "# feature columns : 도로형태, 당사자종별_1당_대분류, 당사자종별_2당_대분류"
   ]
  },
  {
   "cell_type": "code",
   "execution_count": 59,
   "metadata": {},
   "outputs": [],
   "source": [
    "train[\"도로형태_교차로내\"] = train[\"도로형태\"] == \"교차로내\"\n",
    "train[\"도로형태_기타단일로\"] = train[\"도로형태\"] == \"기타단일로\"\n",
    "train[\"도로형태_교량위\"] = train[\"도로형태\"] == \"교량위\"\n",
    "train[\"도로형태_교차로횡단보도내\"] = train[\"도로형태\"] == \"교차로횡단보도내\"\n",
    "\n",
    "test[\"도로형태_교차로내\"] = test[\"도로형태\"] == \"교차로내\"\n",
    "test[\"도로형태_기타단일로\"] = test[\"도로형태\"] == \"기타단일로\"\n",
    "test[\"도로형태_교량위\"] = test[\"도로형태\"] == \"교량위\"\n",
    "test[\"도로형태_교차로횡단보도내\"] = test[\"도로형태\"] == \"교차로횡단보도내\""
   ]
  },
  {
   "cell_type": "code",
   "execution_count": 60,
   "metadata": {},
   "outputs": [],
   "source": [
    "train[\"당사자종별_1당_대분류_이륜차\"] = train[\"당사자종별_1당_대분류\"] == \"이륜차\"\n",
    "train[\"당사자종별_1당_대분류_원동기장치자전거\"] = train[\"당사자종별_1당_대분류\"] == \"원동기장치자전거\"\n",
    "train[\"당사자종별_1당_대분류_승용차\"] = train[\"당사자종별_1당_대분류\"] == \"승용차\"\n",
    "train[\"당사자종별_1당_대분류_화물차\"] = train[\"당사자종별_1당_대분류\"] == \"화물차\"\n",
    "train[\"당사자종별_1당_대분류_승합차\"] = train[\"당사자종별_1당_대분류\"] == \"승합차\"\n",
    "train[\"당사자종별_1당_대분류_특수차\"] = train[\"당사자종별_1당_대분류\"] == \"특수차\"\n",
    "\n",
    "test[\"당사자종별_1당_대분류_이륜차\"] = test[\"당사자종별_1당_대분류\"] == \"이륜차\"\n",
    "test[\"당사자종별_1당_대분류_원동기장치자전거\"] = test[\"당사자종별_1당_대분류\"] == \"원동기장치자전거\"\n",
    "test[\"당사자종별_1당_대분류_승용차\"] = test[\"당사자종별_1당_대분류\"] == \"승용차\"\n",
    "test[\"당사자종별_1당_대분류_화물차\"] = test[\"당사자종별_1당_대분류\"] == \"화물차\"\n",
    "test[\"당사자종별_1당_대분류_승합차\"] = test[\"당사자종별_1당_대분류\"] == \"승합차\"\n",
    "test[\"당사자종별_1당_대분류_특수차\"] = test[\"당사자종별_1당_대분류\"] == \"특수차\""
   ]
  },
  {
   "cell_type": "code",
   "execution_count": 61,
   "metadata": {},
   "outputs": [],
   "source": [
    "train[\"당사자종별_2당_대분류_승용차\"] = train[\"당사자종별_2당_대분류\"] == \"승용차\"\n",
    "train[\"당사자종별_2당_대분류_화물차\"] = train[\"당사자종별_2당_대분류\"] == \"화물차\"\n",
    "train[\"당사자종별_2당_대분류_승합차\"] = train[\"당사자종별_2당_대분류\"] == \"승합차\"\n",
    "train[\"당사자종별_2당_대분류_보행자\"] = train[\"당사자종별_2당_대분류\"] == \"보행자\"\n",
    "train[\"당사자종별_2당_대분류_없음\"] = train[\"당사자종별_2당_대분류\"] == \"없음\"\n",
    "\n",
    "test[\"당사자종별_2당_대분류_승용차\"] = test[\"당사자종별_2당_대분류\"] == \"승용차\"\n",
    "test[\"당사자종별_2당_대분류_화물차\"] = test[\"당사자종별_2당_대분류\"] == \"화물차\"\n",
    "test[\"당사자종별_2당_대분류_승합차\"] = test[\"당사자종별_2당_대분류\"] == \"승합차\"\n",
    "test[\"당사자종별_2당_대분류_보행자\"] = test[\"당사자종별_2당_대분류\"] == \"보행자\"\n",
    "test[\"당사자종별_2당_대분류_없음\"] = test[\"당사자종별_2당_대분류\"] == \"없음\""
   ]
  },
  {
   "cell_type": "code",
   "execution_count": 62,
   "metadata": {},
   "outputs": [],
   "source": [
    "feature_names = [\"도로형태_교차로내\", \"도로형태_기타단일로\", \"도로형태_교량위\", \"도로형태_교차로횡단보도내\", \"당사자종별_1당_대분류_이륜차\", \"당사자종별_1당_대분류_원동기장치자전거\", \"당사자종별_1당_대분류_승용차\", \"당사자종별_1당_대분류_화물차\",  \"당사자종별_1당_대분류_승합차\", \"당사자종별_1당_대분류_특수차\", \"당사자종별_2당_대분류_보행자\", \"당사자종별_2당_대분류_없음\", \"당사자종별_2당_대분류_승용차\", \"당사자종별_2당_대분류_화물차\", \"당사자종별_2당_대분류_승합차\"]\n",
    "label_name = \"법규위반\""
   ]
  },
  {
   "cell_type": "code",
   "execution_count": 63,
   "metadata": {},
   "outputs": [],
   "source": [
    "X_train = train[feature_names]\n",
    "y_train = train[label_name]\n",
    "X_test = test[feature_names]"
   ]
  },
  {
   "cell_type": "code",
   "execution_count": 64,
   "metadata": {},
   "outputs": [
    {
     "data": {
      "text/plain": [
       "XGBClassifier(base_score=0.5, booster='gbtree', colsample_bylevel=1,\n",
       "       colsample_bytree=1, gamma=0, learning_rate=0.1, max_delta_step=0,\n",
       "       max_depth=3, min_child_weight=1, missing=None, n_estimators=100,\n",
       "       n_jobs=1, nthread=None, objective='multi:softprob', random_state=0,\n",
       "       reg_alpha=0, reg_lambda=1, scale_pos_weight=1, seed=None,\n",
       "       silent=True, subsample=1)"
      ]
     },
     "execution_count": 64,
     "metadata": {},
     "output_type": "execute_result"
    }
   ],
   "source": [
    "model.fit(X_train, y_train)"
   ]
  },
  {
   "cell_type": "code",
   "execution_count": 65,
   "metadata": {},
   "outputs": [
    {
     "name": "stderr",
     "output_type": "stream",
     "text": [
      "/Users/PJS/anaconda3/lib/python3.6/site-packages/sklearn/preprocessing/label.py:151: DeprecationWarning: The truth value of an empty array is ambiguous. Returning False, but in future this will result in an error. Use `array.size > 0` to check that an array is not empty.\n",
      "  if diff:\n"
     ]
    }
   ],
   "source": [
    "predictions = model.predict(X_test)\n",
    "test[\"result_법규위반\"] = predictions\n",
    "test.loc[test[\"법규위반\"].isnull(), \"법규위반\"] = test[\"result_법규위반\"]"
   ]
  },
  {
   "cell_type": "markdown",
   "metadata": {},
   "source": [
    "## fillin_사고유형_중분류"
   ]
  },
  {
   "cell_type": "code",
   "execution_count": 66,
   "metadata": {},
   "outputs": [],
   "source": [
    "# feature columns : 도로형태, 당사자종별_1당_대분류, 당사자종별_2당_대분류"
   ]
  },
  {
   "cell_type": "code",
   "execution_count": 67,
   "metadata": {},
   "outputs": [],
   "source": [
    "train_측면충돌 = train.loc[train[\"사고유형_중분류\"] == \"측면충돌\"]\n",
    "train_측면직각충돌 = train.loc[train[\"사고유형_중분류\"] == \"측면직각충돌\"]"
   ]
  },
  {
   "cell_type": "code",
   "execution_count": 68,
   "metadata": {},
   "outputs": [
    {
     "data": {
      "text/plain": [
       "<matplotlib.axes._subplots.AxesSubplot at 0x1a1e462358>"
      ]
     },
     "execution_count": 68,
     "metadata": {},
     "output_type": "execute_result"
    },
    {
     "data": {
      "image/png": "[encoded data removed]",
      "text/plain": [
       "<Figure size 432x288 with 1 Axes>"
      ]
     },
     "metadata": {},
     "output_type": "display_data"
    }
   ],
   "source": [
    "sns.countplot(data=train_측면직각충돌, x=\"발생년\")"
   ]
  },
  {
   "cell_type": "code",
   "execution_count": 69,
   "metadata": {},
   "outputs": [
    {
     "data": {
      "text/plain": [
       "<matplotlib.axes._subplots.AxesSubplot at 0x1118601d0>"
      ]
     },
     "execution_count": 69,
     "metadata": {},
     "output_type": "execute_result"
    },
    {
     "data": {
      "image/png": "[encoded data removed]",
      "text/plain": [
       "<Figure size 432x288 with 1 Axes>"
      ]
     },
     "metadata": {},
     "output_type": "display_data"
    }
   ],
   "source": [
    "sns.countplot(data=train_측면충돌, x=\"발생년\")"
   ]
  },
  {
   "cell_type": "code",
   "execution_count": 70,
   "metadata": {},
   "outputs": [],
   "source": [
    "train[\"도로형태_교차로내\"] = train[\"도로형태\"] == \"교차로내\"\n",
    "train[\"도로형태_기타단일로\"] = train[\"도로형태\"] == \"기타단일로\"\n",
    "train[\"도로형태_교량위\"] = train[\"도로형태\"] == \"교량위\"\n",
    "train[\"도로형태_교차로횡단보도내\"] = train[\"도로형태\"] == \"교차로횡단보도내\"\n",
    "\n",
    "test[\"도로형태_교차로내\"] = test[\"도로형태\"] == \"교차로내\"\n",
    "test[\"도로형태_기타단일로\"] = test[\"도로형태\"] == \"기타단일로\"\n",
    "test[\"도로형태_교량위\"] = test[\"도로형태\"] == \"교량위\"\n",
    "test[\"도로형태_교차로횡단보도내\"] = test[\"도로형태\"] == \"교차로횡단보도내\""
   ]
  },
  {
   "cell_type": "code",
   "execution_count": 71,
   "metadata": {},
   "outputs": [],
   "source": [
    "train[\"당사자종별_1당_대분류_이륜차\"] = train[\"당사자종별_1당_대분류\"] == \"이륜차\"\n",
    "train[\"당사자종별_1당_대분류_원동기장치자전거\"] = train[\"당사자종별_1당_대분류\"] == \"원동기장치자전거\"\n",
    "train[\"당사자종별_1당_대분류_승용차\"] = train[\"당사자종별_1당_대분류\"] == \"승용차\"\n",
    "train[\"당사자종별_1당_대분류_화물차\"] = train[\"당사자종별_1당_대분류\"] == \"화물차\"\n",
    "train[\"당사자종별_1당_대분류_승합차\"] = train[\"당사자종별_1당_대분류\"] == \"승합차\"\n",
    "train[\"당사자종별_1당_대분류_특수차\"] = train[\"당사자종별_1당_대분류\"] == \"특수차\"\n",
    "\n",
    "test[\"당사자종별_1당_대분류_이륜차\"] = test[\"당사자종별_1당_대분류\"] == \"이륜차\"\n",
    "test[\"당사자종별_1당_대분류_원동기장치자전거\"] = test[\"당사자종별_1당_대분류\"] == \"원동기장치자전거\"\n",
    "test[\"당사자종별_1당_대분류_승용차\"] = test[\"당사자종별_1당_대분류\"] == \"승용차\"\n",
    "test[\"당사자종별_1당_대분류_화물차\"] = test[\"당사자종별_1당_대분류\"] == \"화물차\"\n",
    "test[\"당사자종별_1당_대분류_승합차\"] = test[\"당사자종별_1당_대분류\"] == \"승합차\"\n",
    "test[\"당사자종별_1당_대분류_특수차\"] = test[\"당사자종별_1당_대분류\"] == \"특수차\""
   ]
  },
  {
   "cell_type": "code",
   "execution_count": 72,
   "metadata": {},
   "outputs": [],
   "source": [
    "train[\"당사자종별_2당_대분류_승용차\"] = train[\"당사자종별_2당_대분류\"] == \"승용차\"\n",
    "train[\"당사자종별_2당_대분류_화물차\"] = train[\"당사자종별_2당_대분류\"] == \"화물차\"\n",
    "train[\"당사자종별_2당_대분류_승합차\"] = train[\"당사자종별_2당_대분류\"] == \"승합차\"\n",
    "train[\"당사자종별_2당_대분류_보행자\"] = train[\"당사자종별_2당_대분류\"] == \"보행자\"\n",
    "train[\"당사자종별_2당_대분류_없음\"] = train[\"당사자종별_2당_대분류\"] == \"없음\"\n",
    "\n",
    "test[\"당사자종별_2당_대분류_승용차\"] = test[\"당사자종별_2당_대분류\"] == \"승용차\"\n",
    "test[\"당사자종별_2당_대분류_화물차\"] = test[\"당사자종별_2당_대분류\"] == \"화물차\"\n",
    "test[\"당사자종별_2당_대분류_승합차\"] = test[\"당사자종별_2당_대분류\"] == \"승합차\"\n",
    "test[\"당사자종별_2당_대분류_보행자\"] = test[\"당사자종별_2당_대분류\"] == \"보행자\"\n",
    "test[\"당사자종별_2당_대분류_없음\"] = test[\"당사자종별_2당_대분류\"] == \"없음\""
   ]
  },
  {
   "cell_type": "code",
   "execution_count": 73,
   "metadata": {},
   "outputs": [],
   "source": [
    "feature_names = [\"도로형태_교차로내\", \"도로형태_기타단일로\", \"도로형태_교량위\", \"도로형태_교차로횡단보도내\", \"당사자종별_2당_대분류_보행자\", \"당사자종별_2당_대분류_없음\", \"당사자종별_2당_대분류_승용차\", \"당사자종별_2당_대분류_화물차\", \"당사자종별_2당_대분류_승합차\"]\n",
    "label_name = \"사고유형_중분류\""
   ]
  },
  {
   "cell_type": "code",
   "execution_count": 74,
   "metadata": {},
   "outputs": [],
   "source": [
    "X_train = train[feature_names]\n",
    "y_train = train[label_name]\n",
    "X_test = test[feature_names]"
   ]
  },
  {
   "cell_type": "code",
   "execution_count": 75,
   "metadata": {},
   "outputs": [
    {
     "data": {
      "text/plain": [
       "XGBClassifier(base_score=0.5, booster='gbtree', colsample_bylevel=1,\n",
       "       colsample_bytree=1, gamma=0, learning_rate=0.1, max_delta_step=0,\n",
       "       max_depth=3, min_child_weight=1, missing=None, n_estimators=100,\n",
       "       n_jobs=1, nthread=None, objective='multi:softprob', random_state=0,\n",
       "       reg_alpha=0, reg_lambda=1, scale_pos_weight=1, seed=None,\n",
       "       silent=True, subsample=1)"
      ]
     },
     "execution_count": 75,
     "metadata": {},
     "output_type": "execute_result"
    }
   ],
   "source": [
    "model.fit(X_train, y_train)"
   ]
  },
  {
   "cell_type": "code",
   "execution_count": 76,
   "metadata": {},
   "outputs": [
    {
     "name": "stderr",
     "output_type": "stream",
     "text": [
      "/Users/PJS/anaconda3/lib/python3.6/site-packages/sklearn/preprocessing/label.py:151: DeprecationWarning: The truth value of an empty array is ambiguous. Returning False, but in future this will result in an error. Use `array.size > 0` to check that an array is not empty.\n",
      "  if diff:\n"
     ]
    }
   ],
   "source": [
    "predictions = model.predict(X_test)\n",
    "test[\"result_사고유형_중분류\"] = predictions\n",
    "test.loc[test[\"사고유형_중분류\"].isnull(), \"사고유형_중분류\"] = test[\"result_사고유형_중분류\"]\n",
    "test.loc[test[\"사고유형_중분류\"] == \"측면직각충돌\", \"사고유형_중분류\"] = \"측면충돌\""
   ]
  },
  {
   "cell_type": "markdown",
   "metadata": {},
   "source": [
    "## fillin_주야"
   ]
  },
  {
   "cell_type": "code",
   "execution_count": 77,
   "metadata": {},
   "outputs": [],
   "source": [
    "# feature columns : 요일, 도로형태, 법규위반, 사고유형_중분류, 당사자종별_1당_대분류, 당사자종별_2당_대분류"
   ]
  },
  {
   "cell_type": "code",
   "execution_count": 143,
   "metadata": {},
   "outputs": [],
   "source": [
    "train[\"요일_화\"] = train[\"요일\"] == \"화\"\n",
    "train[\"요일_목\"] = train[\"요일\"] == \"목\"\n",
    "train[\"요일_일\"] = train[\"요일\"] == \"일\"\n",
    "\n",
    "test[\"요일_화\"] = test[\"요일\"] == \"화\"\n",
    "test[\"요일_목\"] = test[\"요일\"] == \"목\"\n",
    "test[\"요일_일\"] = test[\"요일\"] == \"일\""
   ]
  },
  {
   "cell_type": "code",
   "execution_count": 144,
   "metadata": {},
   "outputs": [],
   "source": [
    "train[\"도로형태_교차로내\"] = train[\"도로형태\"] == \"교차로내\"\n",
    "train[\"도로형태_기타단일로\"] = train[\"도로형태\"] == \"기타단일로\"\n",
    "\n",
    "test[\"도로형태_교차로내\"] = test[\"도로형태\"] == \"교차로내\"\n",
    "test[\"도로형태_기타단일로\"] = test[\"도로형태\"] == \"기타단일로\""
   ]
  },
  {
   "cell_type": "code",
   "execution_count": 145,
   "metadata": {},
   "outputs": [],
   "source": [
    "train[\"법규위반_안전운전 의무 불이행\"] = train[\"법규위반\"] == \"안전운전 의무 불이행\"\n",
    "train[\"법규위반_신호위반\"] = train[\"법규위반\"] == \"신호위반\"\n",
    "train[\"법규위반_부당한 회전\"] = train[\"법규위반\"] == \"부당한 회전\"\n",
    "\n",
    "test[\"법규위반_안전운전 의무 불이행\"] = test[\"법규위반\"] == \"안전운전 의무 불이행\"\n",
    "test[\"법규위반_신호위반\"] = test[\"법규위반\"] == \"신호위반\"\n",
    "test[\"법규위반_부당한 회전\"] = test[\"법규위반\"] == \"부당한 회전\""
   ]
  },
  {
   "cell_type": "code",
   "execution_count": 146,
   "metadata": {},
   "outputs": [],
   "source": [
    "train[\"사고유형_중분류_추돌\"] = train[\"사고유형_중분류\"] == \"추돌\"\n",
    "train[\"사고유형_중분류_측면충돌\"] = train[\"사고유형_중분류\"] == \"측면충돌\"\n",
    "train[\"사고유형_중분류_기타\"] = train[\"사고유형_중분류\"] == \"기타\"\n",
    "\n",
    "test[\"사고유형_중분류_추돌\"] = test[\"사고유형_중분류\"] == \"추돌\"\n",
    "test[\"사고유형_중분류_측면충돌\"] = test[\"사고유형_중분류\"] == \"측면충돌\"\n",
    "test[\"사고유형_중분류_기타\"] = test[\"사고유형_중분류\"] == \"기타\""
   ]
  },
  {
   "cell_type": "code",
   "execution_count": 147,
   "metadata": {},
   "outputs": [],
   "source": [
    "train[\"당사자종별_1당_대분류_이륜차\"] = train[\"당사자종별_1당_대분류\"] == \"이륜차\"\n",
    "train[\"당사자종별_1당_대분류_자전거\"] = train[\"당사자종별_1당_대분류\"] == \"자전거\"\n",
    "train[\"당사자종별_1당_대분류_승용차\"] = train[\"당사자종별_1당_대분류\"] == \"승용차\"\n",
    "train[\"당사자종별_1당_대분류_승합차\"] = train[\"당사자종별_1당_대분류\"] == \"승합차\"\n",
    "\n",
    "test[\"당사자종별_1당_대분류_이륜차\"] = test[\"당사자종별_1당_대분류\"] == \"이륜차\"\n",
    "test[\"당사자종별_1당_대분류_자전거\"] = test[\"당사자종별_1당_대분류\"] == \"자전거\"\n",
    "test[\"당사자종별_1당_대분류_승용차\"] = test[\"당사자종별_1당_대분류\"] == \"승용차\"\n",
    "test[\"당사자종별_1당_대분류_승합차\"] = test[\"당사자종별_1당_대분류\"] == \"승합차\""
   ]
  },
  {
   "cell_type": "code",
   "execution_count": 148,
   "metadata": {},
   "outputs": [],
   "source": [
    "train[\"당사자종별_2당_대분류_승용차\"] = train[\"당사자종별_2당_대분류\"] == \"승용차\"\n",
    "train[\"당사자종별_2당_대분류_보행자\"] = train[\"당사자종별_2당_대분류\"] == \"보행자\"\n",
    "train[\"당사자종별_2당_대분류_원동기장치자전거\"] = train[\"당사자종별_2당_대분류\"] == \"원동기장치자전거\"\n",
    "\n",
    "test[\"당사자종별_2당_대분류_승용차\"] = test[\"당사자종별_2당_대분류\"] == \"승용차\"\n",
    "test[\"당사자종별_2당_대분류_보행자\"] = test[\"당사자종별_2당_대분류\"] == \"보행자\"\n",
    "test[\"당사자종별_2당_대분류_원동기장치자전거\"] = test[\"당사자종별_2당_대분류\"] == \"원동기장치자전거\""
   ]
  },
  {
   "cell_type": "code",
   "execution_count": 149,
   "metadata": {},
   "outputs": [],
   "source": [
    "feature_names = [\"요일_화\",\"요일_목\", \"요일_일\", \"도로형태_교차로내\", \"도로형태_기타단일로\", \"법규위반_안전운전 의무 불이행\", \"법규위반_신호위반\", \"법규위반_부당한 회전\", \"사고유형_중분류_추돌\", \"사고유형_중분류_측면충돌\", \"사고유형_중분류_기타\", \"당사자종별_1당_대분류_이륜차\", \"당사자종별_1당_대분류_자전거\", \"당사자종별_1당_대분류_승용차\", \"당사자종별_1당_대분류_승합차\", \"당사자종별_2당_대분류_보행자\", \"당사자종별_2당_대분류_승용차\", \"당사자종별_2당_대분류_원동기장치자전거\"]\n",
    "label_name = \"주야\""
   ]
  },
  {
   "cell_type": "code",
   "execution_count": 150,
   "metadata": {},
   "outputs": [],
   "source": [
    "X_train = train[feature_names]\n",
    "y_train = train[label_name]\n",
    "X_test = test[feature_names]"
   ]
  },
  {
   "cell_type": "code",
   "execution_count": 151,
   "metadata": {},
   "outputs": [],
   "source": [
    "model = RandomForestClassifier()"
   ]
  },
  {
   "cell_type": "code",
   "execution_count": 152,
   "metadata": {},
   "outputs": [
    {
     "data": {
      "text/plain": [
       "RandomForestClassifier(bootstrap=True, class_weight=None, criterion='gini',\n",
       "            max_depth=None, max_features='auto', max_leaf_nodes=None,\n",
       "            min_impurity_decrease=0.0, min_impurity_split=None,\n",
       "            min_samples_leaf=1, min_samples_split=2,\n",
       "            min_weight_fraction_leaf=0.0, n_estimators=10, n_jobs=1,\n",
       "            oob_score=False, random_state=None, verbose=0,\n",
       "            warm_start=False)"
      ]
     },
     "execution_count": 152,
     "metadata": {},
     "output_type": "execute_result"
    }
   ],
   "source": [
    "model.fit(X_train, y_train)"
   ]
  },
  {
   "cell_type": "code",
   "execution_count": 154,
   "metadata": {},
   "outputs": [],
   "source": [
    "predictions = model.predict(X_test)\n",
    "test[\"result_주야\"] = predictions\n",
    "test.loc[test[\"주야\"].isnull(), \"주야\"] = test[\"result_주야\"]"
   ]
  },
  {
   "cell_type": "markdown",
   "metadata": {},
   "source": [
    "## fillin_요일"
   ]
  },
  {
   "cell_type": "code",
   "execution_count": null,
   "metadata": {},
   "outputs": [],
   "source": [
    "# feature columns : 주야, 도로형태, 법규위반, 사고유형_중분류, 당사자종별_1당_대분류, 당사자종별_2당_대분류"
   ]
  },
  {
   "cell_type": "code",
   "execution_count": 335,
   "metadata": {},
   "outputs": [],
   "source": [
    "train[\"주야_주간\"] = train[\"주야\"] == \"주간\"\n",
    "train[\"주야_야간\"] = train[\"주야\"] == \"야간\"\n",
    "\n",
    "test[\"주야_주간\"] = test[\"주야\"] == \"주간\"\n",
    "test[\"주야_야간\"] = test[\"주야\"] == \"야간\""
   ]
  },
  {
   "cell_type": "code",
   "execution_count": 336,
   "metadata": {},
   "outputs": [],
   "source": [
    "train[\"도로형태_교차로내\"] = train[\"도로형태\"] == \"교차로내\"\n",
    "train[\"도로형태_기타단일로\"] = train[\"도로형태\"] == \"기타단일로\"\n",
    "\n",
    "test[\"도로형태_교차로내\"] = test[\"도로형태\"] == \"교차로내\"\n",
    "test[\"도로형태_기타단일로\"] = test[\"도로형태\"] == \"기타단일로\""
   ]
  },
  {
   "cell_type": "code",
   "execution_count": 337,
   "metadata": {},
   "outputs": [],
   "source": [
    "train[\"법규위반_안전운전 의무 불이행\"] = train[\"법규위반\"] == \"안전운전 의무 불이행\"\n",
    "train[\"법규위반_신호위반\"] = train[\"법규위반\"] == \"신호위반\"\n",
    "\n",
    "test[\"법규위반_안전운전 의무 불이행\"] = test[\"법규위반\"] == \"안전운전 의무 불이행\"\n",
    "test[\"법규위반_신호위반\"] = test[\"법규위반\"] == \"신호위반\""
   ]
  },
  {
   "cell_type": "code",
   "execution_count": 338,
   "metadata": {},
   "outputs": [],
   "source": [
    "train[\"사고유형_대분류_차대차\"] = train[\"사고유형_대분류\"] == \"차대차\"\n",
    "train[\"사고유형_대분류_차대사람\"] = train[\"사고유형_대분류\"] == \"차대사람\"\n",
    "train[\"사고유형_대분류_차량단독\"] = train[\"사고유형_대분류\"] == \"차량단독\"\n",
    "\n",
    "test[\"사고유형_대분류_차대차\"] = test[\"사고유형_대분류\"] == \"차대차\"\n",
    "test[\"사고유형_대분류_차대사람\"] = test[\"사고유형_대분류\"] == \"차대사람\"\n",
    "test[\"사고유형_대분류_차량단독\"] = test[\"사고유형_대분류\"] == \"차량단독\""
   ]
  },
  {
   "cell_type": "code",
   "execution_count": 339,
   "metadata": {},
   "outputs": [],
   "source": [
    "train[\"사고유형_중분류_정면충돌\"] = train[\"사고유형_중분류\"] == \"정면충돌\"\n",
    "train[\"사고유형_중분류_측면충돌\"] = train[\"사고유형_중분류\"] == \"측면충돌\"\n",
    "train[\"사고유형_중분류_공작물충돌\"] = train[\"사고유형_중분류\"] == \"공작물충돌\"\n",
    "train[\"사고유형_중분류_길가장자리구역통행중\"] = train[\"사고유형_중분류\"] == \"길가장자리구역통행중\"\n",
    "\n",
    "test[\"사고유형_중분류_정면충돌\"] = test[\"사고유형_중분류\"] == \"정면충돌\"\n",
    "test[\"사고유형_중분류_측면충돌\"] = test[\"사고유형_중분류\"] == \"측면충돌\"\n",
    "test[\"사고유형_중분류_공작물충돌\"] = test[\"사고유형_중분류\"] == \"공작물충돌\"\n",
    "test[\"사고유형_중분류_길가장자리구역통행중\"] = test[\"사고유형_중분류\"] == \"길가장자리구역통행중\""
   ]
  },
  {
   "cell_type": "code",
   "execution_count": 340,
   "metadata": {},
   "outputs": [],
   "source": [
    "train[\"당사자종별_1당_대분류_이륜차\"] = train[\"당사자종별_1당_대분류\"] == \"이륜차\"\n",
    "train[\"당사자종별_1당_대분류_자전거\"] = train[\"당사자종별_1당_대분류\"] == \"자전거\"\n",
    "train[\"당사자종별_1당_대분류_승용차\"] = train[\"당사자종별_1당_대분류\"] == \"승용차\"\n",
    "train[\"당사자종별_1당_대분류_승합차\"] = train[\"당사자종별_1당_대분류\"] == \"승합차\"\n",
    "train[\"당사자종별_1당_대분류_화물차\"] = train[\"당사자종별_1당_대분류\"] == \"화물차\"\n",
    "\n",
    "test[\"당사자종별_1당_대분류_이륜차\"] = test[\"당사자종별_1당_대분류\"] == \"이륜차\"\n",
    "test[\"당사자종별_1당_대분류_자전거\"] = test[\"당사자종별_1당_대분류\"] == \"자전거\"\n",
    "test[\"당사자종별_1당_대분류_승용차\"] = test[\"당사자종별_1당_대분류\"] == \"승용차\"\n",
    "test[\"당사자종별_1당_대분류_승합차\"] = test[\"당사자종별_1당_대분류\"] == \"승합차\"\n",
    "test[\"당사자종별_1당_대분류_화물차\"] = test[\"당사자종별_1당_대분류\"] == \"화물차\""
   ]
  },
  {
   "cell_type": "code",
   "execution_count": 341,
   "metadata": {},
   "outputs": [],
   "source": [
    "train[\"당사자종별_2당_대분류_승용차\"] = train[\"당사자종별_2당_대분류\"] == \"승용차\"\n",
    "train[\"당사자종별_2당_대분류_보행자\"] = train[\"당사자종별_2당_대분류\"] == \"보행자\"\n",
    "train[\"당사자종별_2당_대분류_원동기장치자전거\"] = train[\"당사자종별_2당_대분류\"] == \"원동기장치자전거\"\n",
    "\n",
    "test[\"당사자종별_2당_대분류_승용차\"] = test[\"당사자종별_2당_대분류\"] == \"승용차\"\n",
    "test[\"당사자종별_2당_대분류_보행자\"] = test[\"당사자종별_2당_대분류\"] == \"보행자\"\n",
    "test[\"당사자종별_2당_대분류_원동기장치자전거\"] = test[\"당사자종별_2당_대분류\"] == \"원동기장치자전거\""
   ]
  },
  {
   "cell_type": "code",
   "execution_count": 416,
   "metadata": {},
   "outputs": [],
   "source": [
    "feature_names = [\"주야_주간\", \"주야_야간\", \"법규위반_안전운전 의무 불이행\", \"법규위반_신호위반\", \"사고유형_중분류_정면충돌\", \"사고유형_중분류_측면충돌\", \"사고유형_중분류_공작물충돌\", \"사고유형_중분류_길가장자리구역통행중\", \"당사자종별_1당_대분류_이륜차\", \"당사자종별_1당_대분류_자전거\", \"당사자종별_1당_대분류_승용차\", \"당사자종별_1당_대분류_승합차\", \"당사자종별_1당_대분류_화물차\", \"당사자종별_2당_대분류_승용차\", \"당사자종별_2당_대분류_보행자\", \"당사자종별_2당_대분류_원동기장치자전거\", \"사고유형_대분류_차대차\", \"사고유형_대분류_차대사람\", \"사고유형_대분류_차량단독\"]\n",
    "label_name = \"요일\""
   ]
  },
  {
   "cell_type": "code",
   "execution_count": 417,
   "metadata": {},
   "outputs": [],
   "source": [
    "X_train = train[feature_names]\n",
    "y_train = train[label_name]\n",
    "X_test = test[feature_names]"
   ]
  },
  {
   "cell_type": "code",
   "execution_count": 418,
   "metadata": {},
   "outputs": [],
   "source": [
    "model = xgb.XGBClassifier()"
   ]
  },
  {
   "cell_type": "code",
   "execution_count": 419,
   "metadata": {},
   "outputs": [
    {
     "data": {
      "text/plain": [
       "XGBClassifier(base_score=0.5, booster='gbtree', colsample_bylevel=1,\n",
       "       colsample_bytree=1, gamma=0, learning_rate=0.1, max_delta_step=0,\n",
       "       max_depth=3, min_child_weight=1, missing=None, n_estimators=100,\n",
       "       n_jobs=1, nthread=None, objective='multi:softprob', random_state=0,\n",
       "       reg_alpha=0, reg_lambda=1, scale_pos_weight=1, seed=None,\n",
       "       silent=True, subsample=1)"
      ]
     },
     "execution_count": 419,
     "metadata": {},
     "output_type": "execute_result"
    }
   ],
   "source": [
    "model.fit(X_train, y_train)"
   ]
  },
  {
   "cell_type": "code",
   "execution_count": 425,
   "metadata": {},
   "outputs": [
    {
     "name": "stderr",
     "output_type": "stream",
     "text": [
      "/Users/PJS/anaconda3/lib/python3.6/site-packages/sklearn/preprocessing/label.py:151: DeprecationWarning: The truth value of an empty array is ambiguous. Returning False, but in future this will result in an error. Use `array.size > 0` to check that an array is not empty.\n",
      "  if diff:\n"
     ]
    }
   ],
   "source": [
    "predictions = model.predict(X_test)\n",
    "test[\"result_요일\"] = predictions\n",
    "test.loc[test[\"요일\"].isnull(), \"요일\"] = test[\"result_요일\"]"
   ]
  },
  {
   "cell_type": "markdown",
   "metadata": {},
   "source": [
    "## fillin_발생지시도"
   ]
  },
  {
   "cell_type": "code",
   "execution_count": null,
   "metadata": {},
   "outputs": [],
   "source": []
  }
 ],
 "metadata": {
  "kernelspec": {
   "display_name": "Python 3",
   "language": "python",
   "name": "python3"
  },
  "language_info": {
   "codemirror_mode": {
    "name": "ipython",
    "version": 3
   },
   "file_extension": ".py",
   "mimetype": "text/x-python",
   "name": "python",
   "nbconvert_exporter": "python",
   "pygments_lexer": "ipython3",
   "version": "3.6.5"
  }
 },
 "nbformat": 4,
 "nbformat_minor": 2
}
